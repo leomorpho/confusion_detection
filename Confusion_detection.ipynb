{
  "nbformat": 4,
  "nbformat_minor": 0,
  "metadata": {
    "colab": {
      "name": "Confusion_detection.ipynb",
      "provenance": [],
      "authorship_tag": "ABX9TyNMbunKKDcITbTtfs1y6evr",
      "include_colab_link": true
    },
    "kernelspec": {
      "name": "python3",
      "display_name": "Python 3"
    }
  },
  "cells": [
    {
      "cell_type": "markdown",
      "metadata": {
        "id": "view-in-github",
        "colab_type": "text"
      },
      "source": [
        "<a href=\"https://colab.research.google.com/github/leomorpho/confusion_detection/blob/master/Confusion_detection.ipynb\" target=\"_parent\"><img src=\"https://colab.research.google.com/assets/colab-badge.svg\" alt=\"Open In Colab\"/></a>"
      ]
    },
    {
      "cell_type": "markdown",
      "metadata": {
        "id": "jsYRAU0LEPnY",
        "colab_type": "text"
      },
      "source": [
        "# Resources\n",
        "## Educational\n",
        "* [DeepMind deep learning lectures](https://www.youtube.com/playlist?list=PLqYmG7hTraZCDxZ44o4p3N5Anz3lLRVZF)\n",
        "## Annotation tools\n",
        "* [List of open source solutions](https://www.simonwenkel.com/2019/07/19/list-of-annotation-tools-for-machine-learning-research.html)\n",
        "* [opencv/cvat](https://github.com/opencv/cvat)\n",
        "## Existing trained models\n",
        "* [onnx/models](https://github.com/onnx/models)"
      ]
    },
    {
      "cell_type": "code",
      "metadata": {
        "id": "c8kpbdaCEslu",
        "colab_type": "code",
        "colab": {}
      },
      "source": [
        ""
      ],
      "execution_count": null,
      "outputs": []
    }
  ]
}
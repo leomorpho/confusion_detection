{
  "nbformat": 4,
  "nbformat_minor": 0,
  "metadata": {
    "colab": {
      "name": "confusion_detection.ipynb",
      "provenance": [],
      "collapsed_sections": []
    },
    "kernelspec": {
      "name": "python3",
      "display_name": "Python 3"
    }
  },
  "cells": [
    {
      "cell_type": "code",
      "metadata": {
        "id": "As1Y8fC8cQo-",
        "colab_type": "code",
        "colab": {}
      },
      "source": [
        "# If pulled changes from github are not reflected, uncomment this code block. \n",
        "# Furthermore, restart all of your runtimes. \n",
        "# Colab sometimes seems to cache executed code from github, not using the latest pulled changes.\n",
        "# %cd /content\n",
        "# !rm -rf *"
      ],
      "execution_count": null,
      "outputs": []
    },
    {
      "cell_type": "markdown",
      "metadata": {
        "id": "CvYhGcFL1Xws",
        "colab_type": "text"
      },
      "source": [
        "## Download our dataset from our Dropbox and our main dependencies\n",
        "Make sure to add all newly created data to the `combined_jsons` folder in our shared dropbox. The data will be directly curled from it."
      ]
    },
    {
      "cell_type": "code",
      "metadata": {
        "id": "jPynH3BYQ8A9",
        "colab_type": "code",
        "colab": {
          "base_uri": "https://localhost:8080/",
          "height": 102
        },
        "outputId": "ee9c184d-5076-40a6-b6a0-1ad831dfbbbe"
      },
      "source": [
        "import os\n",
        "\n",
        "REPO = \"confusion_detection\"\n",
        "%cd /content\n",
        "\n",
        "if not os.path.exists(f\"/content/{REPO}\"):\n",
        "  !rm -rf *\n",
        "  !git clone https://github.com/leomorpho/confusion_detection.git\n",
        "  %cd confusion_detection\n",
        "else:\n",
        "  %cd /content\n",
        "  %cd confusion_detection\n",
        "  !git fetch --all\n",
        "  !git reset --hard origin/master\n",
        "\n",
        "assert(os.getcwd() == \"/content/confusion_detection\")"
      ],
      "execution_count": null,
      "outputs": [
        {
          "output_type": "stream",
          "text": [
            "/content\n",
            "/content\n",
            "/content/confusion_detection\n",
            "Fetching origin\n",
            "HEAD is now at 767ef19 Update READMEs\n"
          ],
          "name": "stdout"
        }
      ]
    },
    {
      "cell_type": "markdown",
      "metadata": {
        "id": "8Vh1vJwa4qGm",
        "colab_type": "text"
      },
      "source": [
        "## Preprocess"
      ]
    },
    {
      "cell_type": "code",
      "metadata": {
        "id": "OtK_Uvwi3bns",
        "colab_type": "code",
        "colab": {
          "base_uri": "https://localhost:8080/",
          "height": 156
        },
        "outputId": "68a3f2de-8e6a-4815-8add-db2efad6153a"
      },
      "source": [
        "from glob import glob\n",
        "from typing import *\n",
        "import json\n",
        "\n",
        "DATA_DIR = \"data/combined_jsons\"\n",
        "dataset_paths = glob(f\"{DATA_DIR}/*\")\n",
        "print(\"dataset_paths is: \", dataset_paths)\n",
        "print(\"dataset_paths count is: \", len(dataset_paths))\n",
        "\n",
        "length_75 = []\n",
        "length_55 = []\n",
        "length_75_count = 0\n",
        "length_55_count = 0\n",
        "length_unknown = []\n",
        "length_unknown_count = 0\n",
        "indeces_to_pop = []\n",
        "# Create single list object from all the JSONs\n",
        "raw_sequences: List[List[List[float]]] = []\n",
        "for path in dataset_paths:\n",
        "  with open(path, \"r\") as f:\n",
        "    sequences = json.loads(f.read())\n",
        "    for seq in sequences:\n",
        "      if len(seq) > 55:\n",
        "        length_75_count += 1\n",
        "        length_75.append([path, seq])\n",
        "      elif len(seq) == 55:\n",
        "        length_55_count += 1\n",
        "        length_55.append([path, seq])\n",
        "      else:\n",
        "        length_unknown_count += 1\n",
        "        length_unknown.append([path, seq])\n",
        "    raw_sequences.append(sequences)\n",
        "\n",
        "# Remove all frames that do not have 55 features (Confusion Score + 54 OpenPose points)\n",
        "for i in range(len(raw_sequences)):\n",
        "  for j in range(len(raw_sequences[i])):\n",
        "    if len(raw_sequences[i][len(raw_sequences[i])-j-1]) != 55:\n",
        "      # print(\"not 55: \", len(raw_sequences[i][len(raw_sequences[i])-j-1]))\n",
        "      indeces_to_pop.append([i, len(raw_sequences[i])-j-1])\n",
        "\n",
        "\n",
        "print(\"Number of indeces to pop: \", len(indeces_to_pop))\n",
        "for (i, j) in sorted(indeces_to_pop, reverse=True):\n",
        "  raw_sequences[i].pop(j)\n",
        "\n",
        "\n",
        "print(\"length_75_count is: \", length_75_count)\n",
        "print(\"length_55_count is: \", length_55_count)\n",
        "print(\"length_unknown_count is: \", length_unknown_count)\n",
        "print(\"length of raw_sequences is: \", len(raw_sequences))\n",
        "\n",
        "# print(\"length_75 is: \", len(length_75))\n",
        "# print(\"length_55 is: \", len(length_55))\n",
        "# print(\"length_unknown is: \", len(length_unknown))\n",
        "\n",
        "# for (path, seq) in length_75:\n",
        "#   print(\"length_75 is: \", path)\n",
        "\n",
        "# for (path, seq) in length_unknown:\n",
        "#   print(\"length_unknown is: \", path)\n",
        "# #   print(\"length is: \", len(seq))\n"
      ],
      "execution_count": null,
      "outputs": [
        {
          "output_type": "stream",
          "text": [
            "dataset_paths is:  ['data/combined_jsons/2019-10-15-14-15-19bag_img_raw_04_combined.json', 'data/combined_jsons/2019-10-16-14-12-40bag_img_raw_01_combined.json', 'data/combined_jsons/2019-10-15-14-22-48bag_img_raw_04_combined.json', 'data/combined_jsons/2019-10-15-14-15-19bag_img_raw_01_combined.json', 'data/combined_jsons/2019-10-24-14-32-29bag_img_raw_01_combined.json', 'data/combined_jsons/2019-10-15-14-12-10bag_img_raw_04_combined.json', 'data/combined_jsons/2019-10-24-15-05-09bag_img_raw_03_combined.json', 'data/combined_jsons/2019-10-10-14-24-28bag_img_raw_04_combined.json', 'data/combined_jsons/2019-10-24-14-25-07bag_img_raw_04_combined.json', 'data/combined_jsons/2019-10-24-15-05-09bag_img_raw_01_combined.json', 'data/combined_jsons/2019-10-24-15-21-13bag_img_raw_03_combined.json', 'data/combined_jsons/2019-11-05-14-14-31bag_img_raw_03_combined.json', 'data/combined_jsons/2019-12-05-14-20-24bag_img_raw_04_combined.json', 'data/combined_jsons/2019-12-05-15-15-46bag_img_raw_01_combined.json', 'data/combined_jsons/2019-10-16-14-10-02bag_img_raw_04_combined.json', 'data/combined_jsons/2019-12-05-15-07-56bag_img_raw_04_combined.json', 'data/combined_jsons/2019-10-24-14-32-29bag_img_raw_04_combined.json', 'data/combined_jsons/2019-11-06-14-09-28bag_img_raw_03_combined.json', 'data/combined_jsons/2019-10-15-14-07-05bag_img_raw_01_combined.json', 'data/combined_jsons/2019-12-05-11-16-12bag_pepper_robot_camera_front_camera_image_raw_combined.json', 'data/combined_jsons/2019-11-05-14-27-15bag_img_raw_02_combined.json', 'data/combined_jsons/2019-10-24-14-10-56bag_img_raw_02_combined.json', 'data/combined_jsons/2019-11-06-15-26-48bag_pepper_robot_camera_front_camera_image_raw_combined.json', 'data/combined_jsons/2019-12-05-11-20-03bag_img_raw_04_combined.json', 'data/combined_jsons/2019-12-10-14-18-19bag_img_raw_03_combined.json', 'data/combined_jsons/2019-11-05-15-17-20bag_pepper_robot_camera_front_camera_image_raw_combined.json', 'data/combined_jsons/2019-10-15-13-06-59bag_img_raw_04_combined.json', 'data/combined_jsons/2019-12-05-15-07-56bag_img_raw_02_combined.json', 'data/combined_jsons/2019-11-05-15-04-58bag_img_raw_02_combined.json', 'data/combined_jsons/2019-12-10-15-15-12bag_pepper_robot_camera_front_camera_image_raw_combined.json', 'data/combined_jsons/2019-11-05-14-27-15bag_img_raw_03_combined.json', 'data/combined_jsons/2019-11-07-13-01-40bag_img_raw_01_combined.json', 'data/combined_jsons/2019-11-07-13-21-16bag_pepper_robot_camera_front_camera_image_raw_combined.json', 'data/combined_jsons/2019-12-05-11-20-03bag_img_raw_03_combined.json', 'data/combined_jsons/2019-10-15-15-21-43bag_img_raw_01_combined.json', 'data/combined_jsons/2019-12-05-14-20-24bag_img_raw_03_combined.json', 'data/combined_jsons/2019-10-15-15-10-22bag_img_raw_03_combined.json', 'data/combined_jsons/2019-10-10-14-24-28bag_pepper_robot_camera_front_camera_image_raw_combined.json', 'data/combined_jsons/2019-11-07-13-18-44bag_pepper_robot_camera_front_camera_image_raw_combined.json', 'data/combined_jsons/2019-10-24-14-06-05bag_img_raw_03_combined.json', 'data/combined_jsons/2019-11-05-15-04-58bag_pepper_robot_camera_front_camera_image_raw_combined.json', 'data/combined_jsons/2019-10-16-14-12-40bag_img_raw_03_combined.json', 'data/combined_jsons/2019-10-15-14-07-05bag_img_raw_04_combined.json', 'data/combined_jsons/2019-10-15-14-07-05bag_img_raw_03_combined.json', 'data/combined_jsons/2019-10-15-13-18-14bag_img_raw_03_combined.json', 'data/combined_jsons/2019-10-15-14-18-18bag_img_raw_04_combined.json', 'data/combined_jsons/2019-11-06-14-09-28bag_img_raw_01_combined.json', 'data/combined_jsons/2019-11-07-13-01-40bag_img_raw_03_combined.json', 'data/combined_jsons/2019-10-24-15-05-09bag_img_raw_02_combined.json', 'data/combined_jsons/2019-10-15-13-18-14bag_img_raw_04_combined.json', 'data/combined_jsons/2019-12-05-15-19-29bag_img_raw_04_combined.json', 'data/combined_jsons/2019-12-05-11-16-12bag_img_raw_01_combined.json', 'data/combined_jsons/2019-10-24-14-06-05bag_img_raw_01_combined.json', 'data/combined_jsons/2019-10-24-14-32-29bag_img_raw_03_combined.json', 'data/combined_jsons/2019-10-15-14-22-48bag_img_raw_03_combined.json', 'data/combined_jsons/2019-10-15-13-18-14bag_pepper_robot_camera_front_camera_image_raw_combined.json', 'data/combined_jsons/2019-11-05-15-25-01bag_img_raw_04_combined.json', 'data/combined_jsons/2019-11-07-13-01-40bag_img_raw_04_combined.json', 'data/combined_jsons/2019-11-05-15-17-20bag_img_raw_02_combined.json', 'data/combined_jsons/2019-11-06-15-26-48bag_img_raw_04_combined.json', 'data/combined_jsons/2019-10-15-14-18-18bag_pepper_robot_camera_front_camera_image_raw_combined.json', 'data/combined_jsons/2019-12-04-14-07-44bag_img_raw_01_combined.json', 'data/combined_jsons/2019-10-24-15-21-13bag_img_raw_01_combined.json', 'data/combined_jsons/2019-10-24-14-25-07bag_img_raw_02_combined.json', 'data/combined_jsons/2019-10-15-13-18-14bag_img_raw_01_combined.json', 'data/combined_jsons/2019-10-10-14-07-25bag_img_raw_01_combined.json', 'data/combined_jsons/2019-11-05-15-04-58bag_img_raw_01_combined.json', 'data/combined_jsons/2019-10-15-14-20-47bag_img_raw_03_combined.json', 'data/combined_jsons/2019-10-15-14-18-18bag_img_raw_01_combined.json', 'data/combined_jsons/2019-10-24-15-12-12bag_img_raw_03_combined.json', 'data/combined_jsons/2019-11-05-14-14-31bag_img_raw_01_combined.json', 'data/combined_jsons/2019-11-05-14-20-13bag_img_raw_03_combined.json', 'data/combined_jsons/2019-12-05-14-24-08bag_img_raw_03_combined.json', 'data/combined_jsons/2019-11-05-14-27-15bag_pepper_robot_camera_front_camera_image_raw_combined.json', 'data/combined_jsons/2019-11-05-14-20-13bag_img_raw_01_combined.json', 'data/combined_jsons/2019-11-05-15-25-01bag_img_raw_03_combined.json', 'data/combined_jsons/2019-12-05-11-16-12bag_img_raw_03_combined.json', 'data/combined_jsons/2019-10-10-14-24-28bag_img_raw_01_combined.json', 'data/combined_jsons/2019-12-10-15-12-01bag_pepper_robot_camera_front_camera_image_raw_combined.json', 'data/combined_jsons/2019-11-05-14-14-31bag_img_raw_04_combined.json', 'data/combined_jsons/2019-10-15-15-27-58bag_img_raw_03_combined.json', 'data/combined_jsons/2019-11-05-14-27-15bag_img_raw_01_combined.json', 'data/combined_jsons/2019-10-24-15-12-12bag_img_raw_01_combined.json', 'data/combined_jsons/2019-10-15-15-10-22bag_img_raw_04_combined.json', 'data/combined_jsons/2019-12-05-15-15-46bag_img_raw_02_combined.json', 'data/combined_jsons/2019-10-24-14-25-07bag_img_raw_01_combined.json', 'data/combined_jsons/2019-12-05-14-24-08bag_img_raw_04_combined.json', 'data/combined_jsons/2019-10-10-14-07-25bag_img_raw_03_combined.json', 'data/combined_jsons/2019-11-05-15-04-58bag_img_raw_03_combined.json', 'data/combined_jsons/2019-12-10-14-18-19bag_img_raw_02_combined.json', 'data/combined_jsons/2019-11-05-15-25-01bag_img_raw_02_combined.json', 'data/combined_jsons/2019-10-16-14-12-40bag_img_raw_04_combined.json', 'data/combined_jsons/2019-11-07-13-21-16bag_img_raw_03_combined.json', 'data/combined_jsons/2019-12-05-15-07-56bag_img_raw_01_combined.json', 'data/combined_jsons/2019-10-24-14-25-07bag_img_raw_03_combined.json', 'data/combined_jsons/2019-10-24-15-21-13bag_img_raw_02_combined.json', 'data/combined_jsons/2019-11-05-15-13-26bag_img_raw_03_combined.json', 'data/combined_jsons/2019-12-05-14-20-24bag_img_raw_01_combined.json', 'data/combined_jsons/2019-10-15-14-18-18bag_img_raw_03_combined.json', 'data/combined_jsons/2019-10-24-14-10-56bag_img_raw_03_combined.json', 'data/combined_jsons/2019-10-15-15-10-22bag_img_raw_01_combined.json', 'data/combined_jsons/2019-10-24-15-15-27bag_img_raw_01_combined.json', 'data/combined_jsons/2019-11-05-15-13-26bag_pepper_robot_camera_front_camera_image_raw_combined.json', 'data/combined_jsons/2019-11-07-13-01-40bag_pepper_robot_camera_front_camera_image_raw_combined.json', 'data/combined_jsons/2019-11-05-14-20-13bag_pepper_robot_camera_front_camera_image_raw_combined.json', 'data/combined_jsons/2019-10-10-14-24-28bag_img_raw_03_combined.json', 'data/combined_jsons/2019-10-24-15-12-12bag_img_raw_02_combined.json', 'data/combined_jsons/2019-12-10-14-20-38bag_pepper_robot_camera_front_camera_image_raw_combined.json', 'data/combined_jsons/2019-10-24-14-06-05bag_img_raw_02_combined.json', 'data/combined_jsons/2019-11-05-15-17-20bag_img_raw_03_combined.json', 'data/combined_jsons/2019-10-15-13-06-59bag_pepper_robot_camera_front_camera_image_raw_combined.json', 'data/combined_jsons/2019-10-15-13-06-59bag_img_raw_01_combined.json', 'data/combined_jsons/2019-12-05-11-20-03bag_pepper_robot_camera_front_camera_image_raw_combined.json', 'data/combined_jsons/2019-11-07-13-21-16bag_img_raw_04_combined.json', 'data/combined_jsons/2019-12-05-11-16-12bag_img_raw_04_combined.json', 'data/combined_jsons/2019-11-06-14-09-28bag_img_raw_04_combined.json', 'data/combined_jsons/2019-11-05-15-13-26bag_img_raw_02_combined.json', 'data/combined_jsons/2019-10-15-14-07-05bag_pepper_robot_camera_front_camera_image_raw_combined.json', 'data/combined_jsons/2019-10-24-14-06-05bag_img_raw_04_combined.json', 'data/combined_jsons/2019-12-05-11-20-03bag_img_raw_02_combined.json', 'data/combined_jsons/2019-10-10-14-07-25bag_pepper_robot_camera_front_camera_image_raw_combined.json', 'data/combined_jsons/2019-12-10-13-10-55bag_img_raw_02_combined.json', 'data/combined_jsons/2019-12-05-15-19-29bag_img_raw_01_combined.json', 'data/combined_jsons/2019-10-15-15-27-58bag_img_raw_01_combined.json', 'data/combined_jsons/2019-11-05-14-20-13bag_img_raw_04_combined.json', 'data/combined_jsons/2019-10-15-14-20-47bag_pepper_robot_camera_front_camera_image_raw_combined.json', 'data/combined_jsons/2019-10-10-14-07-25bag_img_raw_04_combined.json', 'data/combined_jsons/2019-11-05-15-13-26bag_img_raw_01_combined.json', 'data/combined_jsons/2019-10-15-14-20-47bag_img_raw_04_combined.json', 'data/combined_jsons/2019-12-05-11-16-12bag_img_raw_02_combined.json', 'data/combined_jsons/2019-10-15-14-22-48bag_img_raw_01_combined.json', 'data/combined_jsons/2019-12-05-14-20-24bag_img_raw_02_combined.json', 'data/combined_jsons/2019-10-24-14-20-37bag_img_raw_04_combined.json', 'data/combined_jsons/2019-10-24-15-21-13bag_img_raw_04_combined.json', 'data/combined_jsons/2019-10-24-15-15-27bag_img_raw_02_combined.json', 'data/combined_jsons/2019-12-05-15-19-29bag_img_raw_03_combined.json', 'data/combined_jsons/2019-10-15-15-21-43bag_img_raw_03_combined.json', 'data/combined_jsons/2019-12-05-14-08-45bag_img_raw_04_combined.json', 'data/combined_jsons/2019-12-10-15-15-12bag_img_raw_02_combined.json', 'data/combined_jsons/2019-12-10-14-18-19bag_pepper_robot_camera_front_camera_image_raw_combined.json', 'data/combined_jsons/2019-10-24-14-20-37bag_img_raw_02_combined.json', 'data/combined_jsons/2019-10-15-14-15-19bag_img_raw_03_combined.json', 'data/combined_jsons/2019-11-05-15-17-20bag_img_raw_01_combined.json', 'data/combined_jsons/2019-10-15-14-12-10bag_pepper_robot_camera_front_camera_image_raw_combined.json', 'data/combined_jsons/2019-12-05-11-20-03bag_img_raw_01_combined.json', 'data/combined_jsons/2019-10-15-15-27-58bag_img_raw_04_combined.json']\n",
            "dataset_paths count is:  146\n",
            "Number of indeces to pop:  1458\n",
            "length_75_count is:  1391\n",
            "length_55_count is:  42844\n",
            "length_unknown_count is:  67\n",
            "length of raw_sequences is:  146\n"
          ],
          "name": "stdout"
        }
      ]
    },
    {
      "cell_type": "code",
      "metadata": {
        "id": "oMqzM1JeIeAE",
        "colab_type": "code",
        "colab": {
          "base_uri": "https://localhost:8080/",
          "height": 119
        },
        "outputId": "a78e3c75-823d-4284-bf8a-1099b3b166d9"
      },
      "source": [
        "number_of_zeroes = 0\n",
        "number_of_ones = 0\n",
        "number_of_twos = 0\n",
        "number_of_threes = 0\n",
        "total_count = 0\n",
        "\n",
        "for sequence in raw_sequences:\n",
        "  for frame in sequence:\n",
        "    total_count += 1\n",
        "    if int(frame[0]) == 0:\n",
        "      number_of_zeroes += 1\n",
        "    elif int(frame[0]) == 1:\n",
        "      number_of_ones += 1\n",
        "    elif int(frame[0]) == 2:\n",
        "      number_of_twos += 1\n",
        "    elif int(frame[0]) == 3:\n",
        "      number_of_threes += 1\n",
        "\n",
        "print(f\"0: {number_of_zeroes}\")\n",
        "print(f\"1: {number_of_ones}\")\n",
        "print(f\"2: {number_of_twos}\")\n",
        "print(f\"3: {number_of_threes}\")\n",
        "print(f\"total_count: {total_count}\")\n",
        "print(f\"total_count - number_of_zeroes: {total_count - number_of_zeroes}\")"
      ],
      "execution_count": null,
      "outputs": [
        {
          "output_type": "stream",
          "text": [
            "0: 3955\n",
            "1: 16081\n",
            "2: 11363\n",
            "3: 11445\n",
            "total_count: 42844\n",
            "total_count - number_of_zeroes: 38889\n"
          ],
          "name": "stdout"
        }
      ]
    },
    {
      "cell_type": "markdown",
      "metadata": {
        "id": "KZddK8WY5ILW",
        "colab_type": "text"
      },
      "source": [
        "Get centroid for every frame. If the centroid differs widely between 2 frames, it may indicate that different people were picked up by OpenPose.\n",
        "Centroid code taken from [here](https://stackoverflow.com/questions/23020659/fastest-way-to-calculate-the-centroid-of-a-set-of-coordinate-tuples-in-python-wi).\n",
        "\n",
        "Format of OpenPose output can be found [here](https://github.com/CMU-Perceptual-Computing-Lab/openpose/blob/master/doc/output.md). A frame is represented by `x1,y1,c1,x2,y2,c2,...`\n",
        "\n",
        "If a dropped frame is between 2 valid sequences, consider stitching them back together.\n",
        "* Drop frames which have **no subject** in them. DONE.\n",
        "* Drop frames which have **wrong** subject in them.  DONE.\n",
        "* Give unit variance and zero mean to all points. DONE."
      ]
    },
    {
      "cell_type": "code",
      "metadata": {
        "id": "wWXnNNXN5Jwc",
        "colab_type": "code",
        "colab": {
          "base_uri": "https://localhost:8080/",
          "height": 68
        },
        "outputId": "9227b5c7-e2bd-4b0e-e347-0460728977e6"
      },
      "source": [
        "from jupyter_tools.preprocessing import stitch_frames, normalize\n",
        "\n",
        "print(f\"Number of raw sequences:        {len(raw_sequences)}\")\n",
        "parsed_sequences = stitch_frames(raw_sequences, min_dist=50, min_sequence_len=40, max_dropped_frames=4)\n",
        "print(f\"Number of stitched sequences:   {len(parsed_sequences)}\")\n",
        "normalized_sequences = normalize(parsed_sequences)\n",
        "print(f\"Number of normalized sequences: {len(normalized_sequences)}\")\n",
        "\n",
        "# CAUTION: further code should ONLY refer to \"preprocessed_sequences\".\n",
        "# This prevent breakages if code changes.\n",
        "preprocessed_sequences = normalized_sequences"
      ],
      "execution_count": null,
      "outputs": [
        {
          "output_type": "stream",
          "text": [
            "Number of raw sequences:        146\n",
            "Number of stitched sequences:   201\n",
            "Number of normalized sequences: 201\n"
          ],
          "name": "stdout"
        }
      ]
    },
    {
      "cell_type": "code",
      "metadata": {
        "id": "DR7M-ecXVJBL",
        "colab_type": "code",
        "colab": {
          "base_uri": "https://localhost:8080/",
          "height": 119
        },
        "outputId": "9eadc8e9-62b7-4279-947d-f33b36018874"
      },
      "source": [
        "# Get some info on preprocessed_sequences\n",
        "number_of_zeroes = 0\n",
        "number_of_ones = 0\n",
        "number_of_twos = 0\n",
        "number_of_threes = 0\n",
        "total_count = 0\n",
        "\n",
        "for sequence in preprocessed_sequences:\n",
        "  for frame in sequence:\n",
        "    total_count += 1\n",
        "    if int(frame[0]) == 0:\n",
        "      number_of_zeroes += 1\n",
        "    elif int(frame[0]) == 1:\n",
        "      number_of_ones += 1\n",
        "    elif int(frame[0]) == 2:\n",
        "      number_of_twos += 1\n",
        "    elif int(frame[0]) == 3:\n",
        "      number_of_threes += 1\n",
        "\n",
        "print(f\"0: {number_of_zeroes}\")\n",
        "print(f\"1: {number_of_ones}\")\n",
        "print(f\"2: {number_of_twos}\")\n",
        "print(f\"3: {number_of_threes}\")\n",
        "print(f\"total_count: {total_count}\")\n",
        "print(f\"total_count - 0's: {total_count - number_of_zeroes}\")"
      ],
      "execution_count": null,
      "outputs": [
        {
          "output_type": "stream",
          "text": [
            "0: 0\n",
            "1: 9461\n",
            "2: 6817\n",
            "3: 8135\n",
            "total_count: 24413\n",
            "total_count - 0's: 24413\n"
          ],
          "name": "stdout"
        }
      ]
    },
    {
      "cell_type": "code",
      "metadata": {
        "id": "1wmDGR_wneek",
        "colab_type": "code",
        "colab": {
          "base_uri": "https://localhost:8080/",
          "height": 297
        },
        "outputId": "34da6a47-14e0-4c3f-a806-9e996dab49f3"
      },
      "source": [
        "import pandas as pd\n",
        "\n",
        "# Get some stats about the length of the processed sequences\n",
        "sequences_len = []\n",
        "for sequence in preprocessed_sequences:\n",
        "  sequences_len.append(len(sequence))\n",
        "\n",
        "a = pd.DataFrame(sequences_len)\n",
        "a.describe()"
      ],
      "execution_count": null,
      "outputs": [
        {
          "output_type": "execute_result",
          "data": {
            "text/html": [
              "<div>\n",
              "<style scoped>\n",
              "    .dataframe tbody tr th:only-of-type {\n",
              "        vertical-align: middle;\n",
              "    }\n",
              "\n",
              "    .dataframe tbody tr th {\n",
              "        vertical-align: top;\n",
              "    }\n",
              "\n",
              "    .dataframe thead th {\n",
              "        text-align: right;\n",
              "    }\n",
              "</style>\n",
              "<table border=\"1\" class=\"dataframe\">\n",
              "  <thead>\n",
              "    <tr style=\"text-align: right;\">\n",
              "      <th></th>\n",
              "      <th>0</th>\n",
              "    </tr>\n",
              "  </thead>\n",
              "  <tbody>\n",
              "    <tr>\n",
              "      <th>count</th>\n",
              "      <td>201.000000</td>\n",
              "    </tr>\n",
              "    <tr>\n",
              "      <th>mean</th>\n",
              "      <td>121.457711</td>\n",
              "    </tr>\n",
              "    <tr>\n",
              "      <th>std</th>\n",
              "      <td>102.400388</td>\n",
              "    </tr>\n",
              "    <tr>\n",
              "      <th>min</th>\n",
              "      <td>40.000000</td>\n",
              "    </tr>\n",
              "    <tr>\n",
              "      <th>25%</th>\n",
              "      <td>54.000000</td>\n",
              "    </tr>\n",
              "    <tr>\n",
              "      <th>50%</th>\n",
              "      <td>84.000000</td>\n",
              "    </tr>\n",
              "    <tr>\n",
              "      <th>75%</th>\n",
              "      <td>143.000000</td>\n",
              "    </tr>\n",
              "    <tr>\n",
              "      <th>max</th>\n",
              "      <td>683.000000</td>\n",
              "    </tr>\n",
              "  </tbody>\n",
              "</table>\n",
              "</div>"
            ],
            "text/plain": [
              "                0\n",
              "count  201.000000\n",
              "mean   121.457711\n",
              "std    102.400388\n",
              "min     40.000000\n",
              "25%     54.000000\n",
              "50%     84.000000\n",
              "75%    143.000000\n",
              "max    683.000000"
            ]
          },
          "metadata": {
            "tags": []
          },
          "execution_count": 9
        }
      ]
    },
    {
      "cell_type": "markdown",
      "metadata": {
        "id": "0i-Na7WHGGVo",
        "colab_type": "text"
      },
      "source": [
        "## Model\n",
        "Create 3 models\n",
        "* Simple RNN\n",
        "* LSTM/GRU RNN\n",
        "\n",
        "For testing, it would be beneficial to write a function (in `jupyter_tools`) to display the frames as a video with a label indicating the prediction from the model.\n",
        "\n",
        "First, we need to extract the X and Y values from our dataset in order to use them on the model.\n",
        "Our Y will be our confusion annotations, and our X will be all the openPose coordinates."
      ]
    },
    {
      "cell_type": "code",
      "metadata": {
        "id": "6qODnLNRdmsR",
        "colab_type": "code",
        "colab": {
          "base_uri": "https://localhost:8080/",
          "height": 34
        },
        "outputId": "f904d496-02cc-4b02-a513-2d0c22d4f90f"
      },
      "source": [
        "from sklearn.model_selection import train_test_split\n",
        "import numpy as np\n",
        "import pandas as pd\n",
        "\n",
        "nn_input_data = np.asarray(preprocessed_sequences)\n",
        "\n",
        "nn_data = []\n",
        "nn_target = []\n",
        "# Split the data into data and target arrays\n",
        "for row in range(len(nn_input_data)):\n",
        "    for frame in range(len(nn_input_data[row])):\n",
        "        target = nn_input_data[row][frame][0]\n",
        "        data = []\n",
        "        for datum in nn_input_data[row][frame][1:]:\n",
        "          data.append(datum)\n",
        "        # data = nn_input_data[row][frame][1:]\n",
        "        nn_data.append(data)\n",
        "        nn_target.append(target)\n",
        "print(\"done\")"
      ],
      "execution_count": null,
      "outputs": [
        {
          "output_type": "stream",
          "text": [
            "done\n"
          ],
          "name": "stdout"
        }
      ]
    },
    {
      "cell_type": "code",
      "metadata": {
        "id": "bamWXoBa3uff",
        "colab_type": "code",
        "colab": {
          "base_uri": "https://localhost:8080/",
          "height": 68
        },
        "outputId": "f505df90-89e7-431e-9f05-68bb921a781f"
      },
      "source": [
        "## Because we have stripped away all 0s from the Confusion Score,\n",
        "## The target set must now be reduced from 1-3 to 0-2, to play nicely with the models\n",
        "nn_target_reduced = []\n",
        "target_counts = [0,0,0]\n",
        "print(\"Previous Values: \", nn_target[0:10])\n",
        "for i in range(len(nn_target)):\n",
        "  if nn_target[i] == 3:\n",
        "    nn_target_reduced.append(2)\n",
        "    target_counts[2] += 1\n",
        "  elif nn_target[i] == 2:\n",
        "    nn_target_reduced.append(1)\n",
        "    target_counts[1] += 1\n",
        "  elif nn_target[i] == 1:\n",
        "    nn_target_reduced.append(0)\n",
        "    target_counts[0] += 1\n",
        "  else:\n",
        "    print(\"found invalid value: \", nn_target[i])\n",
        "\n",
        "print(\" Current Values: \", nn_target_reduced[0:10])\n",
        "\n",
        "print(\"Target Counts for the three possible scores: \", target_counts)"
      ],
      "execution_count": null,
      "outputs": [
        {
          "output_type": "stream",
          "text": [
            "Previous Values:  [3, 2, 3, 2, 3, 2, 3, 2, 3, 2]\n",
            " Current Values:  [2, 1, 2, 1, 2, 1, 2, 1, 2, 1]\n",
            "Target Counts for the three possible scores:  [9461, 6817, 8135]\n"
          ],
          "name": "stdout"
        }
      ]
    },
    {
      "cell_type": "code",
      "metadata": {
        "id": "nM1K2q4F4THF",
        "colab_type": "code",
        "colab": {
          "base_uri": "https://localhost:8080/",
          "height": 51
        },
        "outputId": "a169a8bd-c22f-4419-c6be-2f00beafa13d"
      },
      "source": [
        "nn_data_np = np.asarray(nn_data)\n",
        "nn_target_np = np.asarray(nn_target_reduced)\n",
        "nn_data_pd = pd.DataFrame(nn_data)\n",
        "nn_target_pd = pd.DataFrame(nn_target_reduced)\n",
        "\n",
        "print(\"nn_data_pd shape is: \", nn_data_pd.shape)\n",
        "print(\"nn_data_pd type is: \",nn_data_np.dtype)\n",
        "\n",
        "# print(nn_data_np[0])"
      ],
      "execution_count": null,
      "outputs": [
        {
          "output_type": "stream",
          "text": [
            "nn_data_pd shape is:  (24413, 54)\n",
            "nn_data_pd type is:  float64\n"
          ],
          "name": "stdout"
        }
      ]
    },
    {
      "cell_type": "markdown",
      "metadata": {
        "id": "4kIbBj17kxWo",
        "colab_type": "text"
      },
      "source": [
        "### Statistics for the data\n",
        "There are currently 54 features"
      ]
    },
    {
      "cell_type": "code",
      "metadata": {
        "id": "Rvs-vdQzksDz",
        "colab_type": "code",
        "colab": {
          "base_uri": "https://localhost:8080/",
          "height": 317
        },
        "outputId": "051e955e-2a89-4e1d-8421-3a4ca6a9c882"
      },
      "source": [
        "nn_data_pd.describe()"
      ],
      "execution_count": null,
      "outputs": [
        {
          "output_type": "execute_result",
          "data": {
            "text/html": [
              "<div>\n",
              "<style scoped>\n",
              "    .dataframe tbody tr th:only-of-type {\n",
              "        vertical-align: middle;\n",
              "    }\n",
              "\n",
              "    .dataframe tbody tr th {\n",
              "        vertical-align: top;\n",
              "    }\n",
              "\n",
              "    .dataframe thead th {\n",
              "        text-align: right;\n",
              "    }\n",
              "</style>\n",
              "<table border=\"1\" class=\"dataframe\">\n",
              "  <thead>\n",
              "    <tr style=\"text-align: right;\">\n",
              "      <th></th>\n",
              "      <th>0</th>\n",
              "      <th>1</th>\n",
              "      <th>2</th>\n",
              "      <th>3</th>\n",
              "      <th>4</th>\n",
              "      <th>5</th>\n",
              "      <th>6</th>\n",
              "      <th>7</th>\n",
              "      <th>8</th>\n",
              "      <th>9</th>\n",
              "      <th>10</th>\n",
              "      <th>11</th>\n",
              "      <th>12</th>\n",
              "      <th>13</th>\n",
              "      <th>14</th>\n",
              "      <th>15</th>\n",
              "      <th>16</th>\n",
              "      <th>17</th>\n",
              "      <th>18</th>\n",
              "      <th>19</th>\n",
              "      <th>20</th>\n",
              "      <th>21</th>\n",
              "      <th>22</th>\n",
              "      <th>23</th>\n",
              "      <th>24</th>\n",
              "      <th>25</th>\n",
              "      <th>26</th>\n",
              "      <th>27</th>\n",
              "      <th>28</th>\n",
              "      <th>29</th>\n",
              "      <th>30</th>\n",
              "      <th>31</th>\n",
              "      <th>32</th>\n",
              "      <th>33</th>\n",
              "      <th>34</th>\n",
              "      <th>35</th>\n",
              "      <th>36</th>\n",
              "      <th>37</th>\n",
              "      <th>38</th>\n",
              "      <th>39</th>\n",
              "      <th>40</th>\n",
              "      <th>41</th>\n",
              "      <th>42</th>\n",
              "      <th>43</th>\n",
              "      <th>44</th>\n",
              "      <th>45</th>\n",
              "      <th>46</th>\n",
              "      <th>47</th>\n",
              "      <th>48</th>\n",
              "      <th>49</th>\n",
              "      <th>50</th>\n",
              "      <th>51</th>\n",
              "      <th>52</th>\n",
              "      <th>53</th>\n",
              "    </tr>\n",
              "  </thead>\n",
              "  <tbody>\n",
              "    <tr>\n",
              "      <th>count</th>\n",
              "      <td>24413.000000</td>\n",
              "      <td>24413.000000</td>\n",
              "      <td>24413.000000</td>\n",
              "      <td>24413.000000</td>\n",
              "      <td>24413.000000</td>\n",
              "      <td>24413.000000</td>\n",
              "      <td>24413.000000</td>\n",
              "      <td>24413.000000</td>\n",
              "      <td>24413.000000</td>\n",
              "      <td>24413.000000</td>\n",
              "      <td>24413.000000</td>\n",
              "      <td>24413.000000</td>\n",
              "      <td>24413.000000</td>\n",
              "      <td>24413.000000</td>\n",
              "      <td>24413.000000</td>\n",
              "      <td>24413.000000</td>\n",
              "      <td>24413.000000</td>\n",
              "      <td>24413.000000</td>\n",
              "      <td>24413.000000</td>\n",
              "      <td>24413.000000</td>\n",
              "      <td>24413.000000</td>\n",
              "      <td>24413.000000</td>\n",
              "      <td>24413.000000</td>\n",
              "      <td>24413.000000</td>\n",
              "      <td>24413.000000</td>\n",
              "      <td>24413.000000</td>\n",
              "      <td>24413.000000</td>\n",
              "      <td>24413.000000</td>\n",
              "      <td>24413.000000</td>\n",
              "      <td>24413.000000</td>\n",
              "      <td>24413.000000</td>\n",
              "      <td>24413.000000</td>\n",
              "      <td>24413.000000</td>\n",
              "      <td>24413.000000</td>\n",
              "      <td>24413.000000</td>\n",
              "      <td>24413.000000</td>\n",
              "      <td>24413.000000</td>\n",
              "      <td>24413.000000</td>\n",
              "      <td>24413.000000</td>\n",
              "      <td>24413.000000</td>\n",
              "      <td>24413.000000</td>\n",
              "      <td>24413.000000</td>\n",
              "      <td>24413.000000</td>\n",
              "      <td>24413.000000</td>\n",
              "      <td>24413.000000</td>\n",
              "      <td>24413.000000</td>\n",
              "      <td>24413.000000</td>\n",
              "      <td>24413.000000</td>\n",
              "      <td>24413.000000</td>\n",
              "      <td>24413.000000</td>\n",
              "      <td>24413.000000</td>\n",
              "      <td>24413.000000</td>\n",
              "      <td>24413.000000</td>\n",
              "      <td>24413.000000</td>\n",
              "    </tr>\n",
              "    <tr>\n",
              "      <th>mean</th>\n",
              "      <td>0.417873</td>\n",
              "      <td>-0.297094</td>\n",
              "      <td>-1.053940</td>\n",
              "      <td>1.083413</td>\n",
              "      <td>0.035283</td>\n",
              "      <td>-1.052703</td>\n",
              "      <td>1.072625</td>\n",
              "      <td>0.034763</td>\n",
              "      <td>-1.052886</td>\n",
              "      <td>1.051182</td>\n",
              "      <td>0.235870</td>\n",
              "      <td>-1.053587</td>\n",
              "      <td>0.908857</td>\n",
              "      <td>0.183556</td>\n",
              "      <td>-1.054089</td>\n",
              "      <td>1.095205</td>\n",
              "      <td>0.033153</td>\n",
              "      <td>-1.052842</td>\n",
              "      <td>1.083589</td>\n",
              "      <td>0.239692</td>\n",
              "      <td>-1.053377</td>\n",
              "      <td>0.874002</td>\n",
              "      <td>0.175511</td>\n",
              "      <td>-1.053968</td>\n",
              "      <td>1.079980</td>\n",
              "      <td>0.477647</td>\n",
              "      <td>-1.053304</td>\n",
              "      <td>1.074993</td>\n",
              "      <td>0.783179</td>\n",
              "      <td>-1.053157</td>\n",
              "      <td>1.021614</td>\n",
              "      <td>0.990829</td>\n",
              "      <td>-1.053520</td>\n",
              "      <td>1.094646</td>\n",
              "      <td>0.478195</td>\n",
              "      <td>-1.053264</td>\n",
              "      <td>1.083358</td>\n",
              "      <td>0.784052</td>\n",
              "      <td>-1.053111</td>\n",
              "      <td>1.027648</td>\n",
              "      <td>0.996311</td>\n",
              "      <td>-1.053517</td>\n",
              "      <td>0.333928</td>\n",
              "      <td>-0.486303</td>\n",
              "      <td>-1.054806</td>\n",
              "      <td>0.245490</td>\n",
              "      <td>-0.456388</td>\n",
              "      <td>-1.054533</td>\n",
              "      <td>0.534970</td>\n",
              "      <td>-0.408751</td>\n",
              "      <td>-1.054504</td>\n",
              "      <td>0.415528</td>\n",
              "      <td>-0.333242</td>\n",
              "      <td>-1.054054</td>\n",
              "    </tr>\n",
              "    <tr>\n",
              "      <th>std</th>\n",
              "      <td>1.021192</td>\n",
              "      <td>0.445021</td>\n",
              "      <td>0.129619</td>\n",
              "      <td>0.428562</td>\n",
              "      <td>0.346639</td>\n",
              "      <td>0.130106</td>\n",
              "      <td>0.452394</td>\n",
              "      <td>0.344282</td>\n",
              "      <td>0.130000</td>\n",
              "      <td>0.497909</td>\n",
              "      <td>0.429407</td>\n",
              "      <td>0.130031</td>\n",
              "      <td>0.738571</td>\n",
              "      <td>0.550247</td>\n",
              "      <td>0.129878</td>\n",
              "      <td>0.433374</td>\n",
              "      <td>0.348547</td>\n",
              "      <td>0.130065</td>\n",
              "      <td>0.482692</td>\n",
              "      <td>0.444039</td>\n",
              "      <td>0.130046</td>\n",
              "      <td>0.743688</td>\n",
              "      <td>0.565759</td>\n",
              "      <td>0.129806</td>\n",
              "      <td>0.422975</td>\n",
              "      <td>0.508356</td>\n",
              "      <td>0.129961</td>\n",
              "      <td>0.432282</td>\n",
              "      <td>0.631517</td>\n",
              "      <td>0.130060</td>\n",
              "      <td>0.541908</td>\n",
              "      <td>0.811478</td>\n",
              "      <td>0.130192</td>\n",
              "      <td>0.405097</td>\n",
              "      <td>0.511771</td>\n",
              "      <td>0.129949</td>\n",
              "      <td>0.414942</td>\n",
              "      <td>0.637933</td>\n",
              "      <td>0.130043</td>\n",
              "      <td>0.529405</td>\n",
              "      <td>0.826989</td>\n",
              "      <td>0.130163</td>\n",
              "      <td>1.090346</td>\n",
              "      <td>0.462418</td>\n",
              "      <td>0.129660</td>\n",
              "      <td>1.042646</td>\n",
              "      <td>0.486452</td>\n",
              "      <td>0.129591</td>\n",
              "      <td>1.062971</td>\n",
              "      <td>0.491407</td>\n",
              "      <td>0.130234</td>\n",
              "      <td>1.000101</td>\n",
              "      <td>0.517211</td>\n",
              "      <td>0.130142</td>\n",
              "    </tr>\n",
              "    <tr>\n",
              "      <th>min</th>\n",
              "      <td>-1.257885</td>\n",
              "      <td>-1.109977</td>\n",
              "      <td>-1.398062</td>\n",
              "      <td>-0.573959</td>\n",
              "      <td>-0.610912</td>\n",
              "      <td>-1.395453</td>\n",
              "      <td>-0.803860</td>\n",
              "      <td>-0.712949</td>\n",
              "      <td>-1.395578</td>\n",
              "      <td>-1.113973</td>\n",
              "      <td>-1.113973</td>\n",
              "      <td>-1.396565</td>\n",
              "      <td>-1.269707</td>\n",
              "      <td>-1.269707</td>\n",
              "      <td>-1.396903</td>\n",
              "      <td>-0.916112</td>\n",
              "      <td>-0.916112</td>\n",
              "      <td>-1.395838</td>\n",
              "      <td>-1.193997</td>\n",
              "      <td>-1.193997</td>\n",
              "      <td>-1.397485</td>\n",
              "      <td>-1.290381</td>\n",
              "      <td>-1.290381</td>\n",
              "      <td>-1.398563</td>\n",
              "      <td>-0.689930</td>\n",
              "      <td>-0.654779</td>\n",
              "      <td>-1.395489</td>\n",
              "      <td>-1.198909</td>\n",
              "      <td>-1.198909</td>\n",
              "      <td>-1.396956</td>\n",
              "      <td>-1.258818</td>\n",
              "      <td>-1.258818</td>\n",
              "      <td>-1.397627</td>\n",
              "      <td>-0.903579</td>\n",
              "      <td>-0.903579</td>\n",
              "      <td>-1.395237</td>\n",
              "      <td>-1.147322</td>\n",
              "      <td>-1.147322</td>\n",
              "      <td>-1.396947</td>\n",
              "      <td>-1.273625</td>\n",
              "      <td>-1.273625</td>\n",
              "      <td>-1.397610</td>\n",
              "      <td>-1.291374</td>\n",
              "      <td>-1.291374</td>\n",
              "      <td>-1.398303</td>\n",
              "      <td>-1.274216</td>\n",
              "      <td>-1.274216</td>\n",
              "      <td>-1.398172</td>\n",
              "      <td>-1.291909</td>\n",
              "      <td>-1.291909</td>\n",
              "      <td>-1.398606</td>\n",
              "      <td>-1.292659</td>\n",
              "      <td>-1.292659</td>\n",
              "      <td>-1.397956</td>\n",
              "    </tr>\n",
              "    <tr>\n",
              "      <th>25%</th>\n",
              "      <td>-0.823395</td>\n",
              "      <td>-0.470610</td>\n",
              "      <td>-1.139929</td>\n",
              "      <td>0.981120</td>\n",
              "      <td>-0.236067</td>\n",
              "      <td>-1.139525</td>\n",
              "      <td>0.959321</td>\n",
              "      <td>-0.232283</td>\n",
              "      <td>-1.139630</td>\n",
              "      <td>0.933063</td>\n",
              "      <td>-0.071605</td>\n",
              "      <td>-1.140499</td>\n",
              "      <td>0.784045</td>\n",
              "      <td>-0.092833</td>\n",
              "      <td>-1.140497</td>\n",
              "      <td>0.986601</td>\n",
              "      <td>-0.240911</td>\n",
              "      <td>-1.139591</td>\n",
              "      <td>0.959460</td>\n",
              "      <td>-0.084507</td>\n",
              "      <td>-1.140150</td>\n",
              "      <td>0.698049</td>\n",
              "      <td>-0.116271</td>\n",
              "      <td>-1.140113</td>\n",
              "      <td>0.987560</td>\n",
              "      <td>0.091328</td>\n",
              "      <td>-1.140043</td>\n",
              "      <td>0.987688</td>\n",
              "      <td>0.304361</td>\n",
              "      <td>-1.139791</td>\n",
              "      <td>0.959148</td>\n",
              "      <td>0.472105</td>\n",
              "      <td>-1.140291</td>\n",
              "      <td>0.991529</td>\n",
              "      <td>0.088482</td>\n",
              "      <td>-1.140017</td>\n",
              "      <td>0.984436</td>\n",
              "      <td>0.300728</td>\n",
              "      <td>-1.139800</td>\n",
              "      <td>0.938273</td>\n",
              "      <td>0.465410</td>\n",
              "      <td>-1.139959</td>\n",
              "      <td>-0.961086</td>\n",
              "      <td>-0.961086</td>\n",
              "      <td>-1.140926</td>\n",
              "      <td>-0.956067</td>\n",
              "      <td>-0.956067</td>\n",
              "      <td>-1.140635</td>\n",
              "      <td>-0.923937</td>\n",
              "      <td>-0.923937</td>\n",
              "      <td>-1.141010</td>\n",
              "      <td>-0.932718</td>\n",
              "      <td>-0.932718</td>\n",
              "      <td>-1.141011</td>\n",
              "    </tr>\n",
              "    <tr>\n",
              "      <th>50%</th>\n",
              "      <td>1.017858</td>\n",
              "      <td>-0.283905</td>\n",
              "      <td>-1.057964</td>\n",
              "      <td>1.230301</td>\n",
              "      <td>-0.058506</td>\n",
              "      <td>-1.056334</td>\n",
              "      <td>1.205793</td>\n",
              "      <td>-0.054772</td>\n",
              "      <td>-1.056476</td>\n",
              "      <td>1.186099</td>\n",
              "      <td>0.142024</td>\n",
              "      <td>-1.057104</td>\n",
              "      <td>1.164886</td>\n",
              "      <td>0.139155</td>\n",
              "      <td>-1.057923</td>\n",
              "      <td>1.243831</td>\n",
              "      <td>-0.060233</td>\n",
              "      <td>-1.056481</td>\n",
              "      <td>1.248895</td>\n",
              "      <td>0.135956</td>\n",
              "      <td>-1.056859</td>\n",
              "      <td>1.175508</td>\n",
              "      <td>0.113399</td>\n",
              "      <td>-1.057379</td>\n",
              "      <td>1.211973</td>\n",
              "      <td>0.360119</td>\n",
              "      <td>-1.056899</td>\n",
              "      <td>1.213204</td>\n",
              "      <td>0.656029</td>\n",
              "      <td>-1.056699</td>\n",
              "      <td>1.204378</td>\n",
              "      <td>0.885535</td>\n",
              "      <td>-1.057084</td>\n",
              "      <td>1.238227</td>\n",
              "      <td>0.358626</td>\n",
              "      <td>-1.056893</td>\n",
              "      <td>1.234501</td>\n",
              "      <td>0.653521</td>\n",
              "      <td>-1.056726</td>\n",
              "      <td>1.221098</td>\n",
              "      <td>0.889094</td>\n",
              "      <td>-1.057162</td>\n",
              "      <td>0.977670</td>\n",
              "      <td>-0.414595</td>\n",
              "      <td>-1.059091</td>\n",
              "      <td>0.718160</td>\n",
              "      <td>-0.412839</td>\n",
              "      <td>-1.058578</td>\n",
              "      <td>1.123562</td>\n",
              "      <td>-0.348407</td>\n",
              "      <td>-1.058174</td>\n",
              "      <td>0.931528</td>\n",
              "      <td>-0.271813</td>\n",
              "      <td>-1.057733</td>\n",
              "    </tr>\n",
              "    <tr>\n",
              "      <th>75%</th>\n",
              "      <td>1.281385</td>\n",
              "      <td>-0.029529</td>\n",
              "      <td>-0.981405</td>\n",
              "      <td>1.352876</td>\n",
              "      <td>0.261476</td>\n",
              "      <td>-0.980206</td>\n",
              "      <td>1.352565</td>\n",
              "      <td>0.257128</td>\n",
              "      <td>-0.980325</td>\n",
              "      <td>1.356213</td>\n",
              "      <td>0.468252</td>\n",
              "      <td>-0.981002</td>\n",
              "      <td>1.384972</td>\n",
              "      <td>0.480577</td>\n",
              "      <td>-0.981346</td>\n",
              "      <td>1.377656</td>\n",
              "      <td>0.262540</td>\n",
              "      <td>-0.980345</td>\n",
              "      <td>1.392998</td>\n",
              "      <td>0.509610</td>\n",
              "      <td>-0.981177</td>\n",
              "      <td>1.369862</td>\n",
              "      <td>0.492571</td>\n",
              "      <td>-0.981842</td>\n",
              "      <td>1.341283</td>\n",
              "      <td>0.747395</td>\n",
              "      <td>-0.980798</td>\n",
              "      <td>1.339158</td>\n",
              "      <td>1.067593</td>\n",
              "      <td>-0.980391</td>\n",
              "      <td>1.332694</td>\n",
              "      <td>1.346058</td>\n",
              "      <td>-0.980785</td>\n",
              "      <td>1.356764</td>\n",
              "      <td>0.749507</td>\n",
              "      <td>-0.980725</td>\n",
              "      <td>1.351186</td>\n",
              "      <td>1.073478</td>\n",
              "      <td>-0.980346</td>\n",
              "      <td>1.339504</td>\n",
              "      <td>1.348264</td>\n",
              "      <td>-0.980693</td>\n",
              "      <td>1.306755</td>\n",
              "      <td>-0.200112</td>\n",
              "      <td>-0.982009</td>\n",
              "      <td>1.232735</td>\n",
              "      <td>-0.139623</td>\n",
              "      <td>-0.982275</td>\n",
              "      <td>1.354909</td>\n",
              "      <td>-0.109665</td>\n",
              "      <td>-0.981454</td>\n",
              "      <td>1.261196</td>\n",
              "      <td>0.032490</td>\n",
              "      <td>-0.981936</td>\n",
              "    </tr>\n",
              "    <tr>\n",
              "      <th>max</th>\n",
              "      <td>1.838729</td>\n",
              "      <td>1.070167</td>\n",
              "      <td>-0.243291</td>\n",
              "      <td>2.962752</td>\n",
              "      <td>2.926365</td>\n",
              "      <td>-0.243291</td>\n",
              "      <td>3.663435</td>\n",
              "      <td>1.503020</td>\n",
              "      <td>-0.243291</td>\n",
              "      <td>2.189843</td>\n",
              "      <td>2.714389</td>\n",
              "      <td>-0.243291</td>\n",
              "      <td>2.346742</td>\n",
              "      <td>2.832275</td>\n",
              "      <td>-0.243291</td>\n",
              "      <td>3.283816</td>\n",
              "      <td>3.016842</td>\n",
              "      <td>-0.243291</td>\n",
              "      <td>3.681483</td>\n",
              "      <td>5.049103</td>\n",
              "      <td>-0.243291</td>\n",
              "      <td>3.903498</td>\n",
              "      <td>3.403565</td>\n",
              "      <td>-0.243291</td>\n",
              "      <td>2.153650</td>\n",
              "      <td>3.434853</td>\n",
              "      <td>-0.243291</td>\n",
              "      <td>2.159538</td>\n",
              "      <td>3.989041</td>\n",
              "      <td>-0.243291</td>\n",
              "      <td>1.953631</td>\n",
              "      <td>3.818105</td>\n",
              "      <td>-0.243291</td>\n",
              "      <td>2.846412</td>\n",
              "      <td>3.681582</td>\n",
              "      <td>-0.235367</td>\n",
              "      <td>2.853393</td>\n",
              "      <td>4.835949</td>\n",
              "      <td>-0.236828</td>\n",
              "      <td>1.706773</td>\n",
              "      <td>5.014924</td>\n",
              "      <td>-0.239192</td>\n",
              "      <td>2.047031</td>\n",
              "      <td>1.016267</td>\n",
              "      <td>-0.243291</td>\n",
              "      <td>2.053285</td>\n",
              "      <td>1.019307</td>\n",
              "      <td>-0.243291</td>\n",
              "      <td>3.009484</td>\n",
              "      <td>1.081746</td>\n",
              "      <td>-0.243291</td>\n",
              "      <td>2.962752</td>\n",
              "      <td>1.684497</td>\n",
              "      <td>-0.243291</td>\n",
              "    </tr>\n",
              "  </tbody>\n",
              "</table>\n",
              "</div>"
            ],
            "text/plain": [
              "                 0             1   ...            52            53\n",
              "count  24413.000000  24413.000000  ...  24413.000000  24413.000000\n",
              "mean       0.417873     -0.297094  ...     -0.333242     -1.054054\n",
              "std        1.021192      0.445021  ...      0.517211      0.130142\n",
              "min       -1.257885     -1.109977  ...     -1.292659     -1.397956\n",
              "25%       -0.823395     -0.470610  ...     -0.932718     -1.141011\n",
              "50%        1.017858     -0.283905  ...     -0.271813     -1.057733\n",
              "75%        1.281385     -0.029529  ...      0.032490     -0.981936\n",
              "max        1.838729      1.070167  ...      1.684497     -0.243291\n",
              "\n",
              "[8 rows x 54 columns]"
            ]
          },
          "metadata": {
            "tags": []
          },
          "execution_count": 13
        }
      ]
    },
    {
      "cell_type": "code",
      "metadata": {
        "id": "39HDZedJkutm",
        "colab_type": "code",
        "colab": {
          "base_uri": "https://localhost:8080/",
          "height": 297
        },
        "outputId": "10e6a554-bc97-432f-9e5a-c2df4ddb8299"
      },
      "source": [
        "nn_target_pd.describe()"
      ],
      "execution_count": null,
      "outputs": [
        {
          "output_type": "execute_result",
          "data": {
            "text/html": [
              "<div>\n",
              "<style scoped>\n",
              "    .dataframe tbody tr th:only-of-type {\n",
              "        vertical-align: middle;\n",
              "    }\n",
              "\n",
              "    .dataframe tbody tr th {\n",
              "        vertical-align: top;\n",
              "    }\n",
              "\n",
              "    .dataframe thead th {\n",
              "        text-align: right;\n",
              "    }\n",
              "</style>\n",
              "<table border=\"1\" class=\"dataframe\">\n",
              "  <thead>\n",
              "    <tr style=\"text-align: right;\">\n",
              "      <th></th>\n",
              "      <th>0</th>\n",
              "    </tr>\n",
              "  </thead>\n",
              "  <tbody>\n",
              "    <tr>\n",
              "      <th>count</th>\n",
              "      <td>24413.000000</td>\n",
              "    </tr>\n",
              "    <tr>\n",
              "      <th>mean</th>\n",
              "      <td>0.945685</td>\n",
              "    </tr>\n",
              "    <tr>\n",
              "      <th>std</th>\n",
              "      <td>0.847256</td>\n",
              "    </tr>\n",
              "    <tr>\n",
              "      <th>min</th>\n",
              "      <td>0.000000</td>\n",
              "    </tr>\n",
              "    <tr>\n",
              "      <th>25%</th>\n",
              "      <td>0.000000</td>\n",
              "    </tr>\n",
              "    <tr>\n",
              "      <th>50%</th>\n",
              "      <td>1.000000</td>\n",
              "    </tr>\n",
              "    <tr>\n",
              "      <th>75%</th>\n",
              "      <td>2.000000</td>\n",
              "    </tr>\n",
              "    <tr>\n",
              "      <th>max</th>\n",
              "      <td>2.000000</td>\n",
              "    </tr>\n",
              "  </tbody>\n",
              "</table>\n",
              "</div>"
            ],
            "text/plain": [
              "                  0\n",
              "count  24413.000000\n",
              "mean       0.945685\n",
              "std        0.847256\n",
              "min        0.000000\n",
              "25%        0.000000\n",
              "50%        1.000000\n",
              "75%        2.000000\n",
              "max        2.000000"
            ]
          },
          "metadata": {
            "tags": []
          },
          "execution_count": 14
        }
      ]
    },
    {
      "cell_type": "markdown",
      "metadata": {
        "id": "HL5vrGUcdu7p",
        "colab_type": "text"
      },
      "source": [
        "Next, apply the data to the Models\n",
        "\n",
        "1.   Simple Sequential NN\n",
        "2.   LSTM\n",
        "\n"
      ]
    },
    {
      "cell_type": "code",
      "metadata": {
        "id": "-BwcrjJyxMOT",
        "colab_type": "code",
        "colab": {
          "base_uri": "https://localhost:8080/",
          "height": 68
        },
        "outputId": "b31fb557-1ad5-4f2b-cb73-7b4b168f49cb"
      },
      "source": [
        "# Split the data into training and test sets\n",
        "twenty_percent_split = int(np.floor(len(nn_data_np) * 0.8))\n",
        "x_train_split = nn_data_np[0:twenty_percent_split]\n",
        "x_test_split = nn_data_np[twenty_percent_split:]\n",
        "y_train_split = nn_target_np[0:twenty_percent_split]\n",
        "y_test_split = nn_target_np[twenty_percent_split:]\n",
        "\n",
        "# Split the training set into train & validation\n",
        "twenty_percent_validate_split = int(np.floor(len(x_train_split) * 0.8))\n",
        "x_train = x_train_split[0:twenty_percent_validate_split]\n",
        "x_validate = x_train_split[twenty_percent_validate_split:]\n",
        "y_train = y_train_split[0:twenty_percent_validate_split]\n",
        "y_validate =  y_train_split[twenty_percent_validate_split:]\n",
        "\n",
        "print(\"x_train length is: \", len(x_train))\n",
        "print(\"x_validate length is: \", len(x_validate))\n",
        "print(\"x_test_split length is: \", len(x_test_split))"
      ],
      "execution_count": null,
      "outputs": [
        {
          "output_type": "stream",
          "text": [
            "x_train length is:  15624\n",
            "x_validate length is:  3906\n",
            "x_test_split length is:  4883\n"
          ],
          "name": "stdout"
        }
      ]
    },
    {
      "cell_type": "markdown",
      "metadata": {
        "id": "zW9SF7p2d9f_",
        "colab_type": "text"
      },
      "source": [
        "SNN"
      ]
    },
    {
      "cell_type": "code",
      "metadata": {
        "id": "xs6tH_CEdzhH",
        "colab_type": "code",
        "colab": {
          "base_uri": "https://localhost:8080/",
          "height": 377
        },
        "outputId": "e0175c3e-4e59-4d99-a2ea-2382b52da044"
      },
      "source": [
        "import tensorflow as tf\n",
        "from keras.models import Sequential\n",
        "from keras.layers import Dense, LSTM\n",
        "import tensorflow as tf\n",
        "from keras import backend as K\n",
        "import numpy as np\n",
        "import matplotlib.pyplot as plt\n",
        "\n",
        "# Build the model, compile it, and run the training\n",
        "snn_model = tf.keras.Sequential([\n",
        "    tf.keras.layers.Dense(50, activation='relu'),\n",
        "    tf.keras.layers.Dense(10, activation='relu'),\n",
        "    tf.keras.layers.Dense(3, activation='softmax')\n",
        "  ])\n",
        "\n",
        "snn_model.compile(optimizer='adam',\n",
        "              loss=\"sparse_categorical_crossentropy\",\n",
        "              metrics=['accuracy'])\n",
        "\n",
        "snn_history = snn_model.fit(x_train, y_train, epochs=10, batch_size=1, verbose=2, validation_data=(x_validate, y_validate))"
      ],
      "execution_count": null,
      "outputs": [
        {
          "output_type": "stream",
          "text": [
            "Epoch 1/10\n",
            "15624/15624 - 14s - loss: 1.0914 - accuracy: 0.3648 - val_loss: 1.0817 - val_accuracy: 0.4391\n",
            "Epoch 2/10\n",
            "15624/15624 - 14s - loss: 1.0880 - accuracy: 0.3657 - val_loss: 1.0951 - val_accuracy: 0.3175\n",
            "Epoch 3/10\n",
            "15624/15624 - 14s - loss: 1.0845 - accuracy: 0.3740 - val_loss: 1.0954 - val_accuracy: 0.3226\n",
            "Epoch 4/10\n",
            "15624/15624 - 14s - loss: 1.0813 - accuracy: 0.3877 - val_loss: 1.0948 - val_accuracy: 0.3676\n",
            "Epoch 5/10\n",
            "15624/15624 - 14s - loss: 1.0743 - accuracy: 0.4064 - val_loss: 1.0923 - val_accuracy: 0.3597\n",
            "Epoch 6/10\n",
            "15624/15624 - 14s - loss: 1.0702 - accuracy: 0.4075 - val_loss: 1.0982 - val_accuracy: 0.3991\n",
            "Epoch 7/10\n",
            "15624/15624 - 13s - loss: 1.0688 - accuracy: 0.4114 - val_loss: 1.1196 - val_accuracy: 0.3840\n",
            "Epoch 8/10\n",
            "15624/15624 - 13s - loss: 1.0661 - accuracy: 0.4167 - val_loss: 1.1254 - val_accuracy: 0.4334\n",
            "Epoch 9/10\n",
            "15624/15624 - 13s - loss: 1.0667 - accuracy: 0.4126 - val_loss: 1.0883 - val_accuracy: 0.4465\n",
            "Epoch 10/10\n",
            "15624/15624 - 13s - loss: 1.0636 - accuracy: 0.4167 - val_loss: 1.1023 - val_accuracy: 0.4053\n"
          ],
          "name": "stdout"
        }
      ]
    },
    {
      "cell_type": "code",
      "metadata": {
        "id": "64oAm1dF2sa-",
        "colab_type": "code",
        "colab": {}
      },
      "source": [
        "# Get the target predictions for the test set on the trained model\n",
        "predict_snn = snn_model.predict(x_test_split)"
      ],
      "execution_count": null,
      "outputs": []
    },
    {
      "cell_type": "code",
      "metadata": {
        "id": "gdzfXm332FLq",
        "colab_type": "code",
        "colab": {
          "base_uri": "https://localhost:8080/",
          "height": 88
        },
        "outputId": "cd50c68b-7ffb-45dc-c190-843d8f110ffb"
      },
      "source": [
        "# Round and print prediction array to see the results of our model's prediction ability\n",
        "rounded_predict = []\n",
        "correctness = [[0, 0], [0, 0, 0]]\n",
        "target_correctness = [[0, 0, 0], [0, 0, 0], [0, 0, 0]]\n",
        "for i in range(len(predict_snn)):\n",
        "  rounded = []\n",
        "  for j in range(len(predict_snn[i])):\n",
        "    rounded.append(round(predict_snn[i][j], 3))\n",
        "  \n",
        "  # check if the prediction was correct or not\n",
        "  if predict_snn[i][y_test_split[i]] == max(predict_snn[i]):\n",
        "    correctness[0][0] += 1\n",
        "    correctness[0][1] += predict_snn[i][y_test_split[i]]\n",
        "    target_correctness[y_test_split[i]][0] += 1\n",
        "  else:\n",
        "    correctness[1][0] += 1\n",
        "    correctness[1][1] += predict_snn[i][y_test_split[i]]\n",
        "    correctness[1][2] += max(predict_snn[i])\n",
        "    target_correctness[y_test_split[i]][1] += 1\n",
        "  rounded_predict.append(rounded)\n",
        "\n",
        "# compare actual score vs prediction for a subset of the array\n",
        "# for i in range(1,80):\n",
        "#   print(y_test_split[i], rounded_predict[i][y_test_split[i]])\n",
        "\n",
        "# Calculate the means for the predictions of correct and incorrect predictions\n",
        "correctness[0][1] = correctness[0][1] / correctness[0][0]\n",
        "correctness[1][1] = correctness[1][1] / correctness[1][0]\n",
        "correctness[1][2] = correctness[1][2] / correctness[1][0]\n",
        "percent_correct = correctness[0][0] / (correctness[0][0]+correctness[1][0])\n",
        "target_correctness[0][2] = target_correctness[0][0] / (target_correctness[0][0]+target_correctness[0][1])\n",
        "target_correctness[1][2] = target_correctness[1][0] / (target_correctness[1][0]+target_correctness[1][1])\n",
        "target_correctness[2][2] = target_correctness[2][0] / (target_correctness[2][0]+target_correctness[2][1])\n",
        "\n",
        "print(\"Results: \", correctness)\n",
        "print(\"Percentage Correct: \", percent_correct*100)\n",
        "print(\"Predictions per target value: \", target_correctness)\n",
        "# print((correctness[0][0]+correctness[1][0]), len(predict_snn))"
      ],
      "execution_count": null,
      "outputs": [
        {
          "output_type": "stream",
          "text": [
            "Results:  [[1786, 0.41275527470923484], [3097, 0.2911029939324986, 0.41257233297513074]]\n",
            "Percentage Correct:  36.57587548638132\n",
            "Predictions per target value:  [[1033, 978, 0.513674788662357], [30, 1416, 0.02074688796680498], [723, 703, 0.5070126227208976]]\n"
          ],
          "name": "stdout"
        }
      ]
    },
    {
      "cell_type": "code",
      "metadata": {
        "id": "KNWfXaG66PLt",
        "colab_type": "code",
        "colab": {
          "base_uri": "https://localhost:8080/",
          "height": 51
        },
        "outputId": "b59740b9-92d1-4a40-a6d3-87118dfc01e5"
      },
      "source": [
        "# Print the max & min values for prediction of each confusion score\n",
        "prediction_max = [0,0,0]\n",
        "prediction_min = [1,1,1]\n",
        "for i in range(len(rounded_predict)):\n",
        "  for k in range(len(rounded_predict[i])):\n",
        "    if predict_snn[i][k] > prediction_max[k]:\n",
        "      prediction_max[k] = predict_snn[i][k]\n",
        "    if predict_snn[i][k] < prediction_min[k]:\n",
        "      prediction_min[k] = predict_snn[i][k]\n",
        "\n",
        "print(\"max probability predictions: \", prediction_max)\n",
        "print(\"min probability predictions: \", prediction_min)"
      ],
      "execution_count": null,
      "outputs": [
        {
          "output_type": "stream",
          "text": [
            "max probability predictions:  [0.8430253, 0.9999995, 0.44949442]\n",
            "min probability predictions:  [5.0348626e-07, 0.03663271, 4.0586715e-11]\n"
          ],
          "name": "stdout"
        }
      ]
    },
    {
      "cell_type": "code",
      "metadata": {
        "id": "nSw30-5-gPDK",
        "colab_type": "code",
        "colab": {
          "base_uri": "https://localhost:8080/",
          "height": 760
        },
        "outputId": "88a7b985-aa73-4f4b-fa70-9ca755a29437"
      },
      "source": [
        "## Visualize Results      source: https://machinelearningmastery.com/display-deep-learning-model-training-history-in-keras/\n",
        "\n",
        "# summarize snn_history for accuracy\n",
        "plt.plot(snn_history.history['accuracy'])\n",
        "plt.plot(snn_history.history['val_accuracy'])\n",
        "plt.title('snn_history Accuracy')\n",
        "plt.ylabel('accuracy')\n",
        "plt.xlabel('epoch')\n",
        "plt.legend(['train', 'test'], loc='upper left')\n",
        "plt.show()\n",
        "# summarize snn_history for loss\n",
        "plt.plot(snn_history.history['loss'])\n",
        "plt.plot(snn_history.history['val_loss'])\n",
        "plt.title('snn_history Loss')\n",
        "plt.ylabel('loss')\n",
        "plt.xlabel('epoch')\n",
        "plt.legend(['train', 'test'], loc='upper left')\n",
        "plt.show()\n",
        "\n",
        "history_pd = pd.DataFrame(snn_history.history)\n",
        "print(history_pd)"
      ],
      "execution_count": null,
      "outputs": [
        {
          "output_type": "display_data",
          "data": {
            "image/png": "[encoded data removed]",
            "text/plain": [
              "<Figure size 432x288 with 1 Axes>"
            ]
          },
          "metadata": {
            "tags": [],
            "needs_background": "light"
          }
        },
        {
          "output_type": "display_data",
          "data": {
            "image/png": "[encoded data removed]",
            "text/plain": [
              "<Figure size 432x288 with 1 Axes>"
            ]
          },
          "metadata": {
            "tags": [],
            "needs_background": "light"
          }
        },
        {
          "output_type": "stream",
          "text": [
            "       loss  accuracy  val_loss  val_accuracy\n",
            "0  1.091390  0.364823  1.081707      0.439068\n",
            "1  1.087992  0.365655  1.095076      0.317460\n",
            "2  1.084500  0.374040  1.095376      0.322581\n",
            "3  1.081300  0.387737  1.094839      0.367640\n",
            "4  1.074278  0.406362  1.092347      0.359703\n",
            "5  1.070178  0.407514  1.098200      0.399130\n",
            "6  1.068759  0.411418  1.119631      0.384025\n",
            "7  1.066101  0.416667  1.125376      0.433436\n",
            "8  1.066700  0.412634  1.088322      0.446493\n",
            "9  1.063594  0.416731  1.102258      0.405274\n"
          ],
          "name": "stdout"
        }
      ]
    },
    {
      "cell_type": "markdown",
      "metadata": {
        "id": "8OkaDbzojXyL",
        "colab_type": "text"
      },
      "source": [
        "**Create a 3D array with a constant step-size for the LSTM**"
      ]
    },
    {
      "cell_type": "code",
      "metadata": {
        "id": "_y-iAxaQjVKN",
        "colab_type": "code",
        "colab": {
          "base_uri": "https://localhost:8080/",
          "height": 34
        },
        "outputId": "88616d8d-b0ff-47f6-b70f-38ac89954924"
      },
      "source": [
        "import numpy as np\n",
        "\n",
        "number_of_features = 54\n",
        "window_size = 10\n",
        "window_size_array_x = []\n",
        "window_size_array_y = []\n",
        "index = 0\n",
        "while index <= len(nn_data):\n",
        "  if index+window_size > len(nn_data):\n",
        "    break\n",
        "  data_x = []\n",
        "  data_y = []\n",
        "  for i in range(index, index+window_size, 1):\n",
        "    data_x.append(tf.convert_to_tensor(nn_data[i][:number_of_features]))\n",
        "    data_y.append(tf.convert_to_tensor(nn_target_reduced[i]))\n",
        "  window_size_array_x.append(data_x)\n",
        "  window_size_array_y.append(data_y)\n",
        "  index += window_size\n",
        "\n",
        "print(\"done\")"
      ],
      "execution_count": null,
      "outputs": [
        {
          "output_type": "stream",
          "text": [
            "done\n"
          ],
          "name": "stdout"
        }
      ]
    },
    {
      "cell_type": "markdown",
      "metadata": {
        "id": "yjg_Klok4z4q",
        "colab_type": "text"
      },
      "source": [
        "### Train Model"
      ]
    },
    {
      "cell_type": "code",
      "metadata": {
        "id": "7lsiXSv341Iz",
        "colab_type": "code",
        "colab": {
          "base_uri": "https://localhost:8080/",
          "height": 170
        },
        "outputId": "6febf628-49ec-4792-93f7-59b1cf27be31"
      },
      "source": [
        "## THIS CELL TAKES QUITE A WHILE TO PROCESS (just a heads up)\n",
        "\n",
        "# Split the data into training and test sets\n",
        "twenty_percent_split = int(np.floor(len(window_size_array_x) * 0.8))\n",
        "x_train_split = window_size_array_x[0:twenty_percent_split]\n",
        "x_test_split = window_size_array_x[twenty_percent_split:]\n",
        "y_train_split = window_size_array_y[0:twenty_percent_split]\n",
        "y_test_split = window_size_array_y[twenty_percent_split:]\n",
        "\n",
        "# Split Train set into train & validation\n",
        "twenty_percent_validate_split = int(np.floor(len(x_train_split) * 0.8))\n",
        "x_train_temp = x_train_split[0:twenty_percent_validate_split]\n",
        "x_validate = x_train_split[twenty_percent_validate_split:]\n",
        "y_train_temp = y_train_split[0:twenty_percent_validate_split]\n",
        "y_validate =  y_train_split[twenty_percent_validate_split:]\n",
        "print(\"arrays have been split\")\n",
        "\n",
        "# Convert the arrays into npArrays\n",
        "x_train_lstm = np.asarray(x_train_temp)\n",
        "print(\"x_train_temp has been converted to np\")\n",
        "x_validate_lstm = np.asarray(x_validate)\n",
        "print(\"x_validate has been converted to np\")\n",
        "x_test_lstm = np.asarray(x_test_split)\n",
        "print(\"x_test1 has been converted to np\")\n",
        "y_train_lstm = np.asarray(y_train_temp)\n",
        "print(\"y_train_temp has been converted to np\")\n",
        "y_validate_lstm = np.asarray(y_validate)\n",
        "print(\"y_validate has been converted to np\")\n",
        "y_test_lstm = np.asarray(y_test_split)\n",
        "print(\"y_test1 has been converted to np\")\n",
        "\n",
        "print(\"x_train_lstm shape is: \", x_train_lstm.shape)\n",
        "print(\"x_validate_lstm shape is: \", x_validate_lstm.shape)"
      ],
      "execution_count": null,
      "outputs": [
        {
          "output_type": "stream",
          "text": [
            "arrays have been split\n",
            "x_train_temp has been converted to np\n",
            "x_validate has been converted to np\n",
            "x_test1 has been converted to np\n",
            "y_train_temp has been converted to np\n",
            "y_validate has been converted to np\n",
            "y_test1 has been converted to np\n",
            "x_train_lstm shape is:  (1561, 10, 54)\n",
            "x_validate_lstm shape is:  (391, 10, 54)\n"
          ],
          "name": "stdout"
        }
      ]
    },
    {
      "cell_type": "markdown",
      "metadata": {
        "id": "Rm-KDhmueE7T",
        "colab_type": "text"
      },
      "source": [
        "Simple LSTM"
      ]
    },
    {
      "cell_type": "code",
      "metadata": {
        "id": "dM3za1ER24Ku",
        "colab_type": "code",
        "colab": {
          "base_uri": "https://localhost:8080/",
          "height": 377
        },
        "outputId": "fcd39fee-1621-44e2-f8be-fe69dea7b073"
      },
      "source": [
        "import tensorflow as tf\n",
        "from keras.models import Sequential\n",
        "from keras.layers import Dense, LSTM\n",
        "import tensorflow as tf\n",
        "from keras import backend as K\n",
        "import numpy as np\n",
        "import matplotlib.pyplot as plt\n",
        "\n",
        "# We could potentially use EarlyStopping to limit required amount of epochs with: ,callbacks = [early_stopping]\n",
        "from keras.callbacks import EarlyStopping\n",
        "early_stopping = EarlyStopping(monitor='val_loss', patience=4, mode='auto')\n",
        "\n",
        "# As a general rule-of-thumb, the number of hidden layers should roughly equal Ns / (alpha*(Ni+No))\n",
        "hidden_nodes = int(len(x_train_lstm) / (6 * (54+3)))\n",
        "print(\"number of hidden nodes: \", hidden_nodes)\n",
        "\n",
        "simple_lstm_model = tf.keras.models.Sequential([\n",
        "    # Shape [batch, time, features] => [batch, time, lstm_units]\n",
        "    tf.keras.layers.LSTM(hidden_nodes, return_sequences=True),\n",
        "    tf.keras.layers.Dense(3, activation='softmax')\n",
        "])\n",
        "\n",
        "simple_lstm_model.compile(optimizer='adam',\n",
        "              loss=\"sparse_categorical_crossentropy\",\n",
        "              metrics=['accuracy'])\n",
        "\n",
        "simple_lstm_history = simple_lstm_model.fit(x_train_lstm, y_train_lstm, \n",
        "               batch_size=window_size, epochs=10, verbose=2,\n",
        "               callbacks=[early_stopping],\n",
        "               validation_data=(x_validate_lstm, y_validate_lstm))\n",
        "\n",
        "print(\"done\")"
      ],
      "execution_count": null,
      "outputs": [
        {
          "output_type": "stream",
          "text": [
            "number of hidden nodes:  4\n",
            "Epoch 1/10\n",
            "157/157 - 1s - loss: 1.1082 - accuracy: 0.3504 - val_loss: 1.0924 - val_accuracy: 0.3918\n",
            "Epoch 2/10\n",
            "157/157 - 1s - loss: 1.0901 - accuracy: 0.3714 - val_loss: 1.0851 - val_accuracy: 0.4156\n",
            "Epoch 3/10\n",
            "157/157 - 1s - loss: 1.0861 - accuracy: 0.3817 - val_loss: 1.0826 - val_accuracy: 0.4174\n",
            "Epoch 4/10\n",
            "157/157 - 1s - loss: 1.0837 - accuracy: 0.3926 - val_loss: 1.0848 - val_accuracy: 0.3959\n",
            "Epoch 5/10\n",
            "157/157 - 1s - loss: 1.0814 - accuracy: 0.3917 - val_loss: 1.0770 - val_accuracy: 0.4243\n",
            "Epoch 6/10\n",
            "157/157 - 1s - loss: 1.0813 - accuracy: 0.3890 - val_loss: 1.0798 - val_accuracy: 0.4228\n",
            "Epoch 7/10\n",
            "157/157 - 1s - loss: 1.0786 - accuracy: 0.4009 - val_loss: 1.0834 - val_accuracy: 0.3959\n",
            "Epoch 8/10\n",
            "157/157 - 1s - loss: 1.0793 - accuracy: 0.3914 - val_loss: 1.0799 - val_accuracy: 0.3959\n",
            "Epoch 9/10\n",
            "157/157 - 1s - loss: 1.0767 - accuracy: 0.4043 - val_loss: 1.0855 - val_accuracy: 0.3616\n",
            "done\n"
          ],
          "name": "stdout"
        }
      ]
    },
    {
      "cell_type": "markdown",
      "metadata": {
        "id": "JfxVvCwqeHf8",
        "colab_type": "text"
      },
      "source": [
        "Complex LSTM"
      ]
    },
    {
      "cell_type": "code",
      "metadata": {
        "id": "ZvKKlLDHUyFa",
        "colab_type": "code",
        "colab": {
          "base_uri": "https://localhost:8080/",
          "height": 394
        },
        "outputId": "30b6a09b-152f-4a2a-d33b-84b29ed87111"
      },
      "source": [
        "complex_lstm_model = tf.keras.models.Sequential([\n",
        "    # Shape [batch, time, features] => [batch, time, lstm_units]\n",
        "    tf.keras.layers.LSTM(hidden_nodes, return_sequences=True),\n",
        "    tf.keras.layers.Dropout(0.2),\n",
        "    tf.keras.layers.LSTM(hidden_nodes, return_sequences=True),\n",
        "    tf.keras.layers.Dropout(0.2),\n",
        "    tf.keras.layers.LSTM(hidden_nodes, return_sequences=True),\n",
        "    tf.keras.layers.Dropout(0.2),\n",
        "    tf.keras.layers.Dense(3, activation='softmax')\n",
        "])\n",
        "\n",
        "complex_lstm_model.compile(optimizer='adam',\n",
        "              loss=\"sparse_categorical_crossentropy\",\n",
        "              metrics=['accuracy'])\n",
        "\n",
        "complex_lstm_history = complex_lstm_model.fit(x_train_lstm, y_train_lstm, \n",
        "               batch_size=window_size, epochs=10, verbose=2,\n",
        "               callbacks=[early_stopping],\n",
        "               validation_data=(x_validate_lstm, y_validate_lstm))\n",
        "\n",
        "print(\"done\")"
      ],
      "execution_count": null,
      "outputs": [
        {
          "output_type": "stream",
          "text": [
            "Epoch 1/10\n",
            "157/157 - 2s - loss: 1.0951 - accuracy: 0.3616 - val_loss: 1.0856 - val_accuracy: 0.4118\n",
            "Epoch 2/10\n",
            "157/157 - 1s - loss: 1.0921 - accuracy: 0.3698 - val_loss: 1.0850 - val_accuracy: 0.3931\n",
            "Epoch 3/10\n",
            "157/157 - 2s - loss: 1.0917 - accuracy: 0.3711 - val_loss: 1.0837 - val_accuracy: 0.4036\n",
            "Epoch 4/10\n",
            "157/157 - 1s - loss: 1.0912 - accuracy: 0.3693 - val_loss: 1.0833 - val_accuracy: 0.3936\n",
            "Epoch 5/10\n",
            "157/157 - 1s - loss: 1.0903 - accuracy: 0.3635 - val_loss: 1.0838 - val_accuracy: 0.4123\n",
            "Epoch 6/10\n",
            "157/157 - 2s - loss: 1.0888 - accuracy: 0.3695 - val_loss: 1.0839 - val_accuracy: 0.3762\n",
            "Epoch 7/10\n",
            "157/157 - 2s - loss: 1.0878 - accuracy: 0.3756 - val_loss: 1.0861 - val_accuracy: 0.3775\n",
            "Epoch 8/10\n",
            "157/157 - 2s - loss: 1.0870 - accuracy: 0.3692 - val_loss: 1.0832 - val_accuracy: 0.3964\n",
            "Epoch 9/10\n",
            "157/157 - 2s - loss: 1.0867 - accuracy: 0.3736 - val_loss: 1.0816 - val_accuracy: 0.4013\n",
            "Epoch 10/10\n",
            "157/157 - 2s - loss: 1.0873 - accuracy: 0.3634 - val_loss: 1.0820 - val_accuracy: 0.3972\n",
            "done\n"
          ],
          "name": "stdout"
        }
      ]
    },
    {
      "cell_type": "code",
      "metadata": {
        "id": "XHUF125l_IZp",
        "colab_type": "code",
        "colab": {}
      },
      "source": [
        "# Get the target predictions for the test set on the trained model\n",
        "predict_simple_lstm = simple_lstm_model.predict(x_test_lstm)\n",
        "predict_complex_lstm = complex_lstm_model.predict(x_test_lstm)"
      ],
      "execution_count": null,
      "outputs": []
    },
    {
      "cell_type": "code",
      "metadata": {
        "id": "GrFp8qeY_Jrm",
        "colab_type": "code",
        "colab": {
          "base_uri": "https://localhost:8080/",
          "height": 88
        },
        "outputId": "5dda3dad-b397-4de8-b6fb-7f88e3bc492e"
      },
      "source": [
        "# Round and print prediction array to see the results of our model's prediction ability\n",
        "rounded_predict = []\n",
        "correctness = [[0, 0], [0, 0, 0]]\n",
        "target_correctness = [[0, 0, 0], [0, 0, 0], [0, 0, 0]]\n",
        "for i in range(len(predict_simple_lstm)):\n",
        "  rounded = []\n",
        "  for j in range(len(predict_simple_lstm[i])):\n",
        "    rounded_array = []\n",
        "    for k in range(len(predict_simple_lstm[i][j])):\n",
        "      rounded_array.append(round(predict_simple_lstm[i][j][k], 3))\n",
        "    \n",
        "    # check if the prediction was correct or not\n",
        "    if predict_simple_lstm[i][j][y_test_lstm[i][j]] == max(predict_simple_lstm[i][j]):\n",
        "      correctness[0][0] += 1\n",
        "      correctness[0][1] += predict_simple_lstm[i][j][y_test_lstm[i][j]]\n",
        "      target_correctness[y_test_lstm[i][j]][0] += 1\n",
        "    else:\n",
        "      correctness[1][0] += 1\n",
        "      correctness[1][1] += predict_simple_lstm[i][j][y_test_lstm[i][j]]\n",
        "      correctness[1][2] += max(predict_simple_lstm[i][j])\n",
        "      target_correctness[y_test_lstm[i][j]][1] += 1\n",
        "    rounded.append(rounded_array)\n",
        "  rounded_predict.append(rounded)\n",
        "\n",
        "# Compare actual score vs prediction for a subset of the array\n",
        "# for j in range(1,20):\n",
        "#   for i in range(window_size):\n",
        "#     print(y_test_lstm[j][i], rounded_predict[j][i][y_test_lstm[j][i]])\n",
        "\n",
        "# Calculate the means for the predictions of correct and incorrect predictions\n",
        "correctness[0][1] = correctness[0][1] / correctness[0][0]\n",
        "correctness[1][1] = correctness[1][1] / correctness[1][0]\n",
        "correctness[1][2] = correctness[1][2] / correctness[1][0]\n",
        "percent_correct = correctness[0][0] / (correctness[0][0]+correctness[1][0])\n",
        "target_correctness[0][2] = target_correctness[0][0] / (target_correctness[0][0]+target_correctness[0][1])\n",
        "target_correctness[1][2] = target_correctness[1][0] / (target_correctness[1][0]+target_correctness[1][1])\n",
        "target_correctness[2][2] = target_correctness[2][0] / (target_correctness[2][0]+target_correctness[2][1])\n",
        "\n",
        "print(\"sLSTM Results: \", correctness)\n",
        "print(\"Percentage Correct: \", percent_correct*100)\n",
        "print(\"Predictions per target value: \", target_correctness)\n",
        "# print((correctness[0][0]+correctness[1][0]), len(predict_simple_lstm)*window_size)"
      ],
      "execution_count": null,
      "outputs": [
        {
          "output_type": "stream",
          "text": [
            "sLSTM Results:  [[1598, 0.3952623299685527], [3292, 0.3031898713959234, 0.3974633891031345]]\n",
            "Percentage Correct:  32.67893660531697\n",
            "Predictions per target value:  [[734, 1283, 0.3639067922657412], [28, 1419, 0.019350380096751902], [836, 590, 0.5862552594670407]]\n"
          ],
          "name": "stdout"
        }
      ]
    },
    {
      "cell_type": "code",
      "metadata": {
        "id": "x0kpYmtCqNLu",
        "colab_type": "code",
        "colab": {
          "base_uri": "https://localhost:8080/",
          "height": 88
        },
        "outputId": "87ff68fb-d137-4d29-b2e4-c7b253c5e2fd"
      },
      "source": [
        "# Round and print prediction array to see the results of our model's prediction ability\n",
        "rounded_predict = []\n",
        "correctness = [[0, 0], [0, 0, 0]]\n",
        "target_correctness = [[0, 0, 0], [0, 0, 0], [0, 0, 0]]\n",
        "for i in range(len(predict_complex_lstm)):\n",
        "  rounded = []\n",
        "  for j in range(len(predict_complex_lstm[i])):\n",
        "    rounded_array = []\n",
        "    for k in range(len(predict_complex_lstm[i][j])):\n",
        "      rounded_array.append(round(predict_complex_lstm[i][j][k], 3))\n",
        "      # check if the prediction was correct or not\n",
        "    if predict_complex_lstm[i][j][y_test_lstm[i][j]] == max(predict_complex_lstm[i][j]):\n",
        "      correctness[0][0] += 1\n",
        "      correctness[0][1] += predict_complex_lstm[i][j][y_test_lstm[i][j]]\n",
        "      target_correctness[y_test_lstm[i][j]][0] += 1\n",
        "    else:\n",
        "      correctness[1][0] += 1\n",
        "      correctness[1][1] += predict_complex_lstm[i][j][y_test_lstm[i][j]]\n",
        "      correctness[1][2] += max(predict_complex_lstm[i][j])\n",
        "      target_correctness[y_test_lstm[i][j]][1] += 1\n",
        "    rounded.append(rounded_array)\n",
        "  rounded_predict.append(rounded)\n",
        "\n",
        "# Compare actual score vs prediction for a subset of the array\n",
        "# for j in range(1,20):\n",
        "#   for i in range(window_size):\n",
        "#     print(y_test_lstm[j][i], rounded_predict[j][i][y_test_lstm[j][i]])\n",
        "\n",
        "# Calculate the means for the predictions of correct and incorrect predictions\n",
        "correctness[0][1] = correctness[0][1] / correctness[0][0]\n",
        "correctness[1][1] = correctness[1][1] / correctness[1][0]\n",
        "correctness[1][2] = correctness[1][2] / correctness[1][0]\n",
        "percent_correct = correctness[0][0] / (correctness[0][0]+correctness[1][0])\n",
        "target_correctness[0][2] = target_correctness[0][0] / (target_correctness[0][0]+target_correctness[0][1])\n",
        "target_correctness[1][2] = target_correctness[1][0] / (target_correctness[1][0]+target_correctness[1][1])\n",
        "target_correctness[2][2] = target_correctness[2][0] / (target_correctness[2][0]+target_correctness[2][1])\n",
        "\n",
        "print(\"cLSTM Results: \", correctness)\n",
        "print(\"Percentage Correct: \", percent_correct*100)\n",
        "print(\"Predictions per target value: \", target_correctness)\n",
        "# print((correctness[0][0]+correctness[1][0]), len(predict_simple_lstm)*window_size)"
      ],
      "execution_count": null,
      "outputs": [
        {
          "output_type": "stream",
          "text": [
            "cLSTM Results:  [[1826, 0.3789951775675927], [3064, 0.3123282140009008, 0.3763473711849504]]\n",
            "Percentage Correct:  37.34151329243354\n",
            "Predictions per target value:  [[1339, 678, 0.6638572136836887], [5, 1442, 0.0034554250172771253], [482, 944, 0.3380084151472651]]\n"
          ],
          "name": "stdout"
        }
      ]
    },
    {
      "cell_type": "code",
      "metadata": {
        "id": "uuHUfRMhBUIt",
        "colab_type": "code",
        "colab": {
          "base_uri": "https://localhost:8080/",
          "height": 51
        },
        "outputId": "b17b1672-5c8f-4e53-f54d-935605a0302e"
      },
      "source": [
        "# Print the max & min values for prediction of each confusion score\n",
        "prediction_max = [0,0,0]\n",
        "prediction_min = [1,1,1]\n",
        "for i in range(len(rounded_predict)):\n",
        "  for j in range(len(rounded_predict[i])):\n",
        "    for k in range(len(rounded_predict[i][j])):\n",
        "      if predict_simple_lstm[i][j][k] > prediction_max[k]:\n",
        "        prediction_max[k] = predict_simple_lstm[i][j][k]\n",
        "      if predict_simple_lstm[i][j][k] < prediction_min[k]:\n",
        "        prediction_min[k] = predict_simple_lstm[i][j][k]\n",
        "\n",
        "print(\"max probability predictions: \", prediction_max)\n",
        "print(\"min probability predictions: \", prediction_min)"
      ],
      "execution_count": null,
      "outputs": [
        {
          "output_type": "stream",
          "text": [
            "max probability predictions:  [0.48299044, 0.45531476, 0.51360154]\n",
            "min probability predictions:  [0.22567384, 0.13982382, 0.21634111]\n"
          ],
          "name": "stdout"
        }
      ]
    },
    {
      "cell_type": "code",
      "metadata": {
        "id": "iSiKH-DPqpCh",
        "colab_type": "code",
        "colab": {
          "base_uri": "https://localhost:8080/",
          "height": 51
        },
        "outputId": "0076554c-da71-4321-ba34-550512810222"
      },
      "source": [
        "# Print the max & min values for prediction of each confusion score\n",
        "prediction_max = [0,0,0]\n",
        "prediction_min = [1,1,1]\n",
        "for i in range(len(rounded_predict)):\n",
        "  for j in range(len(rounded_predict[i])):\n",
        "    for k in range(len(rounded_predict[i][j])):\n",
        "      if predict_complex_lstm[i][j][k] > prediction_max[k]:\n",
        "        prediction_max[k] = predict_complex_lstm[i][j][k]\n",
        "      if predict_complex_lstm[i][j][k] < prediction_min[k]:\n",
        "        prediction_min[k] = predict_complex_lstm[i][j][k]\n",
        "\n",
        "print(\"max probability predictions: \", prediction_max)\n",
        "print(\"min probability predictions: \", prediction_min)"
      ],
      "execution_count": null,
      "outputs": [
        {
          "output_type": "stream",
          "text": [
            "max probability predictions:  [0.5701927, 0.3725934, 0.3666023]\n",
            "min probability predictions:  [0.28524444, 0.1368608, 0.2929465]\n"
          ],
          "name": "stdout"
        }
      ]
    },
    {
      "cell_type": "code",
      "metadata": {
        "id": "ymVltw92YwXo",
        "colab_type": "code",
        "colab": {
          "base_uri": "https://localhost:8080/",
          "height": 743
        },
        "outputId": "e940421d-28fd-4d82-a74c-fec23b87d58c"
      },
      "source": [
        "## Visualize Results      source: https://machinelearningmastery.com/display-deep-learning-model-training-history-in-keras/\n",
        "\n",
        "# summarize lstm_history for accuracy\n",
        "plt.plot(simple_lstm_history.history['accuracy'])\n",
        "plt.plot(simple_lstm_history.history['val_accuracy'])\n",
        "plt.title('lstm_history Accuracy')\n",
        "plt.ylabel('accuracy')\n",
        "plt.xlabel('epoch')\n",
        "plt.legend(['train', 'test'], loc='upper left')\n",
        "plt.show()\n",
        "# summarize lstm_history for loss\n",
        "plt.plot(simple_lstm_history.history['loss'])\n",
        "plt.plot(simple_lstm_history.history['val_loss'])\n",
        "plt.title('lstm_history Loss')\n",
        "plt.ylabel('loss')\n",
        "plt.xlabel('epoch')\n",
        "plt.legend(['train', 'test'], loc='upper left')\n",
        "plt.show()\n",
        "\n",
        "history_pd = pd.DataFrame(simple_lstm_history.history)\n",
        "print(history_pd)\n"
      ],
      "execution_count": null,
      "outputs": [
        {
          "output_type": "display_data",
          "data": {
            "image/png": "[encoded data removed]",
            "text/plain": [
              "<Figure size 432x288 with 1 Axes>"
            ]
          },
          "metadata": {
            "tags": [],
            "needs_background": "light"
          }
        },
        {
          "output_type": "display_data",
          "data": {
            "image/png": "[encoded data removed]",
            "text/plain": [
              "<Figure size 432x288 with 1 Axes>"
            ]
          },
          "metadata": {
            "tags": [],
            "needs_background": "light"
          }
        },
        {
          "output_type": "stream",
          "text": [
            "       loss  accuracy  val_loss  val_accuracy\n",
            "0  1.108203  0.350416  1.092436      0.391816\n",
            "1  1.090061  0.371429  1.085129      0.415601\n",
            "2  1.086093  0.381678  1.082633      0.417391\n",
            "3  1.083740  0.392569  1.084776      0.395908\n",
            "4  1.081381  0.391736  1.077036      0.424297\n",
            "5  1.081326  0.389045  1.079834      0.422762\n",
            "6  1.078569  0.400897  1.083388      0.395908\n",
            "7  1.079314  0.391352  1.079882      0.395908\n",
            "8  1.076739  0.404292  1.085502      0.361637\n"
          ],
          "name": "stdout"
        }
      ]
    },
    {
      "cell_type": "code",
      "metadata": {
        "id": "bfrdELOOrdOB",
        "colab_type": "code",
        "colab": {
          "base_uri": "https://localhost:8080/",
          "height": 760
        },
        "outputId": "e04f9e36-ae56-44f1-8fa9-272bdd50d76f"
      },
      "source": [
        "## Visualize Results      source: https://machinelearningmastery.com/display-deep-learning-model-training-history-in-keras/\n",
        "\n",
        "# summarize lstm_history for accuracy\n",
        "plt.plot(complex_lstm_history.history['accuracy'])\n",
        "plt.plot(complex_lstm_history.history['val_accuracy'])\n",
        "plt.title('lstm_history Accuracy')\n",
        "plt.ylabel('accuracy')\n",
        "plt.xlabel('epoch')\n",
        "plt.legend(['train', 'test'], loc='upper left')\n",
        "plt.show()\n",
        "# summarize lstm_history for loss\n",
        "plt.plot(complex_lstm_history.history['loss'])\n",
        "plt.plot(complex_lstm_history.history['val_loss'])\n",
        "plt.title('lstm_history Loss')\n",
        "plt.ylabel('loss')\n",
        "plt.xlabel('epoch')\n",
        "plt.legend(['train', 'test'], loc='upper left')\n",
        "plt.show()\n",
        "\n",
        "history_pd = pd.DataFrame(complex_lstm_history.history)\n",
        "print(history_pd)\n"
      ],
      "execution_count": null,
      "outputs": [
        {
          "output_type": "display_data",
          "data": {
            "image/png": "[encoded data removed]",
            "text/plain": [
              "<Figure size 432x288 with 1 Axes>"
            ]
          },
          "metadata": {
            "tags": [],
            "needs_background": "light"
          }
        },
        {
          "output_type": "display_data",
          "data": {
            "image/png": "[encoded data removed]",
            "text/plain": [
              "<Figure size 432x288 with 1 Axes>"
            ]
          },
          "metadata": {
            "tags": [],
            "needs_background": "light"
          }
        },
        {
          "output_type": "stream",
          "text": [
            "       loss  accuracy  val_loss  val_accuracy\n",
            "0  1.095065  0.361563  1.085555      0.411765\n",
            "1  1.092099  0.369763  1.084957      0.393095\n",
            "2  1.091685  0.371108  1.083718      0.403581\n",
            "3  1.091164  0.369315  1.083281      0.393606\n",
            "4  1.090294  0.363485  1.083769      0.412276\n",
            "5  1.088793  0.369507  1.083935      0.376215\n",
            "6  1.087837  0.375593  1.086087      0.377494\n",
            "7  1.087033  0.369186  1.083214      0.396419\n",
            "8  1.086710  0.373607  1.081579      0.401279\n",
            "9  1.087274  0.363357  1.082024      0.397187\n"
          ],
          "name": "stdout"
        }
      ]
    }
  ]
}
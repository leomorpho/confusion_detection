{
  "nbformat": 4,
  "nbformat_minor": 0,
  "metadata": {
    "colab": {
      "name": "confusion_detection.ipynb",
      "provenance": [],
      "collapsed_sections": []
    },
    "kernelspec": {
      "name": "python3",
      "display_name": "Python 3"
    }
  },
  "cells": [
    {
      "cell_type": "code",
      "metadata": {
        "id": "As1Y8fC8cQo-",
        "colab_type": "code",
        "colab": {}
      },
      "source": [
        "# If pulled changes from github are not reflected, uncomment this code block. \n",
        "# Furthermore, restart all of your runtimes. \n",
        "# Colab sometimes seems to cache executed code from github, not using the latest pulled changes.\n",
        "# %cd /content\n",
        "# !rm -rf *"
      ],
      "execution_count": 1,
      "outputs": []
    },
    {
      "cell_type": "markdown",
      "metadata": {
        "id": "CvYhGcFL1Xws",
        "colab_type": "text"
      },
      "source": [
        "## Download our dataset from our Dropbox and our main dependencies\n",
        "Make sure to add all newly created data to the `combined_jsons` folder in our shared dropbox. The data will be directly curled from it."
      ]
    },
    {
      "cell_type": "code",
      "metadata": {
        "id": "jPynH3BYQ8A9",
        "colab_type": "code",
        "colab": {
          "base_uri": "https://localhost:8080/",
          "height": 170
        },
        "outputId": "8cf78789-8f54-47c5-f87a-fff4ac3b06ca"
      },
      "source": [
        "import os\n",
        "\n",
        "REPO = \"confusion_detection\"\n",
        "%cd /content\n",
        "\n",
        "if not os.path.exists(f\"/content/{REPO}\"):\n",
        "  !rm -rf *\n",
        "  !git clone https://github.com/leomorpho/confusion_detection.git\n",
        "  %cd confusion_detection\n",
        "else:\n",
        "  %cd /content\n",
        "  %cd confusion_detection\n",
        "  !git fetch --all\n",
        "  !git reset --hard origin/master\n",
        "\n",
        "assert(os.getcwd() == \"/content/confusion_detection\")"
      ],
      "execution_count": 2,
      "outputs": [
        {
          "output_type": "stream",
          "text": [
            "/content\n",
            "Cloning into 'confusion_detection'...\n",
            "remote: Enumerating objects: 23, done.\u001b[K\n",
            "remote: Counting objects: 100% (23/23), done.\u001b[K\n",
            "remote: Compressing objects: 100% (19/19), done.\u001b[K\n",
            "remote: Total 7444 (delta 9), reused 14 (delta 4), pack-reused 7421\u001b[K\n",
            "Receiving objects: 100% (7444/7444), 155.41 MiB | 33.28 MiB/s, done.\n",
            "Resolving deltas: 100% (711/711), done.\n",
            "/content/confusion_detection\n"
          ],
          "name": "stdout"
        }
      ]
    },
    {
      "cell_type": "code",
      "metadata": {
        "id": "0Fwz4RqxHL6B",
        "colab_type": "code",
        "colab": {}
      },
      "source": [
        "# Implement a flag to allow/disallow printing of more details\n",
        "# Set to true if you want to see more details\n",
        "DEBUG_OUTPUT = False"
      ],
      "execution_count": 3,
      "outputs": []
    },
    {
      "cell_type": "markdown",
      "metadata": {
        "id": "8Vh1vJwa4qGm",
        "colab_type": "text"
      },
      "source": [
        "## Preprocess"
      ]
    },
    {
      "cell_type": "code",
      "metadata": {
        "id": "OtK_Uvwi3bns",
        "colab_type": "code",
        "colab": {
          "base_uri": "https://localhost:8080/",
          "height": 156
        },
        "outputId": "816f433a-928f-4127-e63e-50eea14c1abb"
      },
      "source": [
        "from glob import glob\n",
        "from typing import *\n",
        "import json\n",
        "\n",
        "DATA_DIR = \"data/combined_jsons\"\n",
        "dataset_paths = glob(f\"{DATA_DIR}/*\")\n",
        "print(\"dataset_paths is: \", dataset_paths)\n",
        "print(\"dataset_paths count is: \", len(dataset_paths))\n",
        "\n",
        "# We need all frames to have the same number of features for the models\n",
        "length_75 = []\n",
        "length_55 = []\n",
        "length_75_count = 0\n",
        "length_55_count = 0\n",
        "length_unknown = []\n",
        "length_unknown_count = 0\n",
        "indeces_to_pop = []\n",
        "# Create single list object from all the JSONs to run through preprocessing\n",
        "raw_sequences: List[List[List[float]]] = []\n",
        "for path in dataset_paths:\n",
        "  with open(path, \"r\") as f:\n",
        "    sequences = json.loads(f.read())\n",
        "    for seq in sequences:\n",
        "      if len(seq) > 55:\n",
        "        length_75_count += 1\n",
        "        length_75.append([path, seq])\n",
        "      elif len(seq) == 55:\n",
        "        length_55_count += 1\n",
        "        length_55.append([path, seq])\n",
        "      else:\n",
        "        length_unknown_count += 1\n",
        "        length_unknown.append([path, seq])\n",
        "    raw_sequences.append(sequences)\n",
        "\n",
        "# Remove all frames that do not have 55 features (Confusion Score + 54 OpenPose points)\n",
        "for i in range(len(raw_sequences)):\n",
        "  for j in range(len(raw_sequences[i])):\n",
        "    if len(raw_sequences[i][len(raw_sequences[i])-j-1]) != 55:\n",
        "      indeces_to_pop.append([i, len(raw_sequences[i])-j-1])\n",
        "      if DEBUG_OUTPUT:\n",
        "        print(\"not 55: \", len(raw_sequences[i][len(raw_sequences[i])-j-1]))\n",
        "\n",
        "\n",
        "print(\"Number of indeces to pop: \", len(indeces_to_pop))\n",
        "for (i, j) in sorted(indeces_to_pop, reverse=True):\n",
        "  raw_sequences[i].pop(j)\n",
        "\n",
        "\n",
        "print(\"length_75_count is: \", length_75_count)\n",
        "print(\"length_55_count is: \", length_55_count)\n",
        "print(\"length_unknown_count is: \", length_unknown_count)\n",
        "print(\"length of raw_sequences is: \", len(raw_sequences))\n",
        "\n",
        "if DEBUG_OUTPUT:\n",
        "  print(\"length_75 is: \", len(length_75))\n",
        "  print(\"length_55 is: \", len(length_55))\n",
        "  print(\"length_unknown is: \", len(length_unknown))\n",
        "\n",
        "  for (path, seq) in length_75:\n",
        "    print(\"length_75 is: \", path)\n",
        "\n",
        "  for (path, seq) in length_unknown:\n",
        "    print(\"length_unknown is: \", path)\n",
        "    print(\"length is: \", len(seq))\n"
      ],
      "execution_count": 4,
      "outputs": [
        {
          "output_type": "stream",
          "text": [
            "dataset_paths is:  ['data/combined_jsons/2019-10-15-14-15-19bag_img_raw_04_combined.json', 'data/combined_jsons/2019-10-16-14-12-40bag_img_raw_01_combined.json', 'data/combined_jsons/2019-10-15-14-22-48bag_img_raw_04_combined.json', 'data/combined_jsons/2019-10-15-14-15-19bag_img_raw_01_combined.json', 'data/combined_jsons/2019-10-24-14-32-29bag_img_raw_01_combined.json', 'data/combined_jsons/2019-10-15-14-12-10bag_img_raw_04_combined.json', 'data/combined_jsons/2019-10-24-15-05-09bag_img_raw_03_combined.json', 'data/combined_jsons/2019-10-10-14-24-28bag_img_raw_04_combined.json', 'data/combined_jsons/2019-10-24-14-25-07bag_img_raw_04_combined.json', 'data/combined_jsons/2019-10-24-15-05-09bag_img_raw_01_combined.json', 'data/combined_jsons/2019-10-24-15-21-13bag_img_raw_03_combined.json', 'data/combined_jsons/2019-11-05-14-14-31bag_img_raw_03_combined.json', 'data/combined_jsons/2019-12-05-14-20-24bag_img_raw_04_combined.json', 'data/combined_jsons/2019-12-05-15-15-46bag_img_raw_01_combined.json', 'data/combined_jsons/2019-10-16-14-10-02bag_img_raw_04_combined.json', 'data/combined_jsons/2019-12-05-15-07-56bag_img_raw_04_combined.json', 'data/combined_jsons/2019-10-24-14-32-29bag_img_raw_04_combined.json', 'data/combined_jsons/2019-11-06-14-09-28bag_img_raw_03_combined.json', 'data/combined_jsons/2019-10-15-14-07-05bag_img_raw_01_combined.json', 'data/combined_jsons/2019-12-05-11-16-12bag_pepper_robot_camera_front_camera_image_raw_combined.json', 'data/combined_jsons/2019-11-05-14-27-15bag_img_raw_02_combined.json', 'data/combined_jsons/2019-10-24-14-10-56bag_img_raw_02_combined.json', 'data/combined_jsons/2019-11-06-15-26-48bag_pepper_robot_camera_front_camera_image_raw_combined.json', 'data/combined_jsons/2019-12-05-11-20-03bag_img_raw_04_combined.json', 'data/combined_jsons/2019-12-10-14-18-19bag_img_raw_03_combined.json', 'data/combined_jsons/2019-11-05-15-17-20bag_pepper_robot_camera_front_camera_image_raw_combined.json', 'data/combined_jsons/2019-10-15-13-06-59bag_img_raw_04_combined.json', 'data/combined_jsons/2019-12-05-15-07-56bag_img_raw_02_combined.json', 'data/combined_jsons/2019-11-05-15-04-58bag_img_raw_02_combined.json', 'data/combined_jsons/2019-12-10-15-15-12bag_pepper_robot_camera_front_camera_image_raw_combined.json', 'data/combined_jsons/2019-11-05-14-27-15bag_img_raw_03_combined.json', 'data/combined_jsons/2019-11-07-13-01-40bag_img_raw_01_combined.json', 'data/combined_jsons/2019-11-07-13-21-16bag_pepper_robot_camera_front_camera_image_raw_combined.json', 'data/combined_jsons/2019-12-05-11-20-03bag_img_raw_03_combined.json', 'data/combined_jsons/2019-10-15-15-21-43bag_img_raw_01_combined.json', 'data/combined_jsons/2019-12-05-14-20-24bag_img_raw_03_combined.json', 'data/combined_jsons/2019-10-15-15-10-22bag_img_raw_03_combined.json', 'data/combined_jsons/2019-10-10-14-24-28bag_pepper_robot_camera_front_camera_image_raw_combined.json', 'data/combined_jsons/2019-11-07-13-18-44bag_pepper_robot_camera_front_camera_image_raw_combined.json', 'data/combined_jsons/2019-10-24-14-06-05bag_img_raw_03_combined.json', 'data/combined_jsons/2019-11-05-15-04-58bag_pepper_robot_camera_front_camera_image_raw_combined.json', 'data/combined_jsons/2019-10-16-14-12-40bag_img_raw_03_combined.json', 'data/combined_jsons/2019-10-15-14-07-05bag_img_raw_04_combined.json', 'data/combined_jsons/2019-10-15-14-07-05bag_img_raw_03_combined.json', 'data/combined_jsons/2019-10-15-13-18-14bag_img_raw_03_combined.json', 'data/combined_jsons/2019-10-15-14-18-18bag_img_raw_04_combined.json', 'data/combined_jsons/2019-11-06-14-09-28bag_img_raw_01_combined.json', 'data/combined_jsons/2019-11-07-13-01-40bag_img_raw_03_combined.json', 'data/combined_jsons/2019-10-24-15-05-09bag_img_raw_02_combined.json', 'data/combined_jsons/2019-10-15-13-18-14bag_img_raw_04_combined.json', 'data/combined_jsons/2019-12-05-15-19-29bag_img_raw_04_combined.json', 'data/combined_jsons/2019-12-05-11-16-12bag_img_raw_01_combined.json', 'data/combined_jsons/2019-10-24-14-06-05bag_img_raw_01_combined.json', 'data/combined_jsons/2019-10-24-14-32-29bag_img_raw_03_combined.json', 'data/combined_jsons/2019-10-15-14-22-48bag_img_raw_03_combined.json', 'data/combined_jsons/2019-10-15-13-18-14bag_pepper_robot_camera_front_camera_image_raw_combined.json', 'data/combined_jsons/2019-11-05-15-25-01bag_img_raw_04_combined.json', 'data/combined_jsons/2019-11-07-13-01-40bag_img_raw_04_combined.json', 'data/combined_jsons/2019-11-05-15-17-20bag_img_raw_02_combined.json', 'data/combined_jsons/2019-11-06-15-26-48bag_img_raw_04_combined.json', 'data/combined_jsons/2019-10-15-14-18-18bag_pepper_robot_camera_front_camera_image_raw_combined.json', 'data/combined_jsons/2019-12-04-14-07-44bag_img_raw_01_combined.json', 'data/combined_jsons/2019-10-24-15-21-13bag_img_raw_01_combined.json', 'data/combined_jsons/2019-10-24-14-25-07bag_img_raw_02_combined.json', 'data/combined_jsons/2019-10-15-13-18-14bag_img_raw_01_combined.json', 'data/combined_jsons/2019-10-10-14-07-25bag_img_raw_01_combined.json', 'data/combined_jsons/2019-11-05-15-04-58bag_img_raw_01_combined.json', 'data/combined_jsons/2019-10-15-14-20-47bag_img_raw_03_combined.json', 'data/combined_jsons/2019-10-15-14-18-18bag_img_raw_01_combined.json', 'data/combined_jsons/2019-10-24-15-12-12bag_img_raw_03_combined.json', 'data/combined_jsons/2019-11-05-14-14-31bag_img_raw_01_combined.json', 'data/combined_jsons/2019-11-05-14-20-13bag_img_raw_03_combined.json', 'data/combined_jsons/2019-12-05-14-24-08bag_img_raw_03_combined.json', 'data/combined_jsons/2019-11-05-14-27-15bag_pepper_robot_camera_front_camera_image_raw_combined.json', 'data/combined_jsons/2019-11-05-14-20-13bag_img_raw_01_combined.json', 'data/combined_jsons/2019-11-05-15-25-01bag_img_raw_03_combined.json', 'data/combined_jsons/2019-12-05-11-16-12bag_img_raw_03_combined.json', 'data/combined_jsons/2019-10-10-14-24-28bag_img_raw_01_combined.json', 'data/combined_jsons/2019-12-10-15-12-01bag_pepper_robot_camera_front_camera_image_raw_combined.json', 'data/combined_jsons/2019-11-05-14-14-31bag_img_raw_04_combined.json', 'data/combined_jsons/2019-10-15-15-27-58bag_img_raw_03_combined.json', 'data/combined_jsons/2019-11-05-14-27-15bag_img_raw_01_combined.json', 'data/combined_jsons/2019-10-24-15-12-12bag_img_raw_01_combined.json', 'data/combined_jsons/2019-10-15-15-10-22bag_img_raw_04_combined.json', 'data/combined_jsons/2019-12-05-15-15-46bag_img_raw_02_combined.json', 'data/combined_jsons/2019-10-24-14-25-07bag_img_raw_01_combined.json', 'data/combined_jsons/2019-12-05-14-24-08bag_img_raw_04_combined.json', 'data/combined_jsons/2019-10-10-14-07-25bag_img_raw_03_combined.json', 'data/combined_jsons/2019-11-05-15-04-58bag_img_raw_03_combined.json', 'data/combined_jsons/2019-12-10-14-18-19bag_img_raw_02_combined.json', 'data/combined_jsons/2019-11-05-15-25-01bag_img_raw_02_combined.json', 'data/combined_jsons/2019-10-16-14-12-40bag_img_raw_04_combined.json', 'data/combined_jsons/2019-11-07-13-21-16bag_img_raw_03_combined.json', 'data/combined_jsons/2019-12-05-15-07-56bag_img_raw_01_combined.json', 'data/combined_jsons/2019-10-24-14-25-07bag_img_raw_03_combined.json', 'data/combined_jsons/2019-10-24-15-21-13bag_img_raw_02_combined.json', 'data/combined_jsons/2019-11-05-15-13-26bag_img_raw_03_combined.json', 'data/combined_jsons/2019-12-05-14-20-24bag_img_raw_01_combined.json', 'data/combined_jsons/2019-10-15-14-18-18bag_img_raw_03_combined.json', 'data/combined_jsons/2019-10-24-14-10-56bag_img_raw_03_combined.json', 'data/combined_jsons/2019-10-15-15-10-22bag_img_raw_01_combined.json', 'data/combined_jsons/2019-10-24-15-15-27bag_img_raw_01_combined.json', 'data/combined_jsons/2019-11-05-15-13-26bag_pepper_robot_camera_front_camera_image_raw_combined.json', 'data/combined_jsons/2019-11-07-13-01-40bag_pepper_robot_camera_front_camera_image_raw_combined.json', 'data/combined_jsons/2019-11-05-14-20-13bag_pepper_robot_camera_front_camera_image_raw_combined.json', 'data/combined_jsons/2019-10-10-14-24-28bag_img_raw_03_combined.json', 'data/combined_jsons/2019-10-24-15-12-12bag_img_raw_02_combined.json', 'data/combined_jsons/2019-12-10-14-20-38bag_pepper_robot_camera_front_camera_image_raw_combined.json', 'data/combined_jsons/2019-10-24-14-06-05bag_img_raw_02_combined.json', 'data/combined_jsons/2019-11-05-15-17-20bag_img_raw_03_combined.json', 'data/combined_jsons/2019-10-15-13-06-59bag_pepper_robot_camera_front_camera_image_raw_combined.json', 'data/combined_jsons/2019-10-15-13-06-59bag_img_raw_01_combined.json', 'data/combined_jsons/2019-12-05-11-20-03bag_pepper_robot_camera_front_camera_image_raw_combined.json', 'data/combined_jsons/2019-11-07-13-21-16bag_img_raw_04_combined.json', 'data/combined_jsons/2019-12-05-11-16-12bag_img_raw_04_combined.json', 'data/combined_jsons/2019-11-06-14-09-28bag_img_raw_04_combined.json', 'data/combined_jsons/2019-11-05-15-13-26bag_img_raw_02_combined.json', 'data/combined_jsons/2019-10-15-14-07-05bag_pepper_robot_camera_front_camera_image_raw_combined.json', 'data/combined_jsons/2019-10-24-14-06-05bag_img_raw_04_combined.json', 'data/combined_jsons/2019-12-05-11-20-03bag_img_raw_02_combined.json', 'data/combined_jsons/2019-10-10-14-07-25bag_pepper_robot_camera_front_camera_image_raw_combined.json', 'data/combined_jsons/2019-12-10-13-10-55bag_img_raw_02_combined.json', 'data/combined_jsons/2019-12-05-15-19-29bag_img_raw_01_combined.json', 'data/combined_jsons/2019-10-15-15-27-58bag_img_raw_01_combined.json', 'data/combined_jsons/2019-11-05-14-20-13bag_img_raw_04_combined.json', 'data/combined_jsons/2019-10-15-14-20-47bag_pepper_robot_camera_front_camera_image_raw_combined.json', 'data/combined_jsons/2019-10-10-14-07-25bag_img_raw_04_combined.json', 'data/combined_jsons/2019-11-05-15-13-26bag_img_raw_01_combined.json', 'data/combined_jsons/2019-10-15-14-20-47bag_img_raw_04_combined.json', 'data/combined_jsons/2019-12-05-11-16-12bag_img_raw_02_combined.json', 'data/combined_jsons/2019-10-15-14-22-48bag_img_raw_01_combined.json', 'data/combined_jsons/2019-12-05-14-20-24bag_img_raw_02_combined.json', 'data/combined_jsons/2019-10-24-14-20-37bag_img_raw_04_combined.json', 'data/combined_jsons/2019-10-24-15-21-13bag_img_raw_04_combined.json', 'data/combined_jsons/2019-10-24-15-15-27bag_img_raw_02_combined.json', 'data/combined_jsons/2019-12-05-15-19-29bag_img_raw_03_combined.json', 'data/combined_jsons/2019-10-15-15-21-43bag_img_raw_03_combined.json', 'data/combined_jsons/2019-12-05-14-08-45bag_img_raw_04_combined.json', 'data/combined_jsons/2019-12-10-15-15-12bag_img_raw_02_combined.json', 'data/combined_jsons/2019-12-10-14-18-19bag_pepper_robot_camera_front_camera_image_raw_combined.json', 'data/combined_jsons/2019-10-24-14-20-37bag_img_raw_02_combined.json', 'data/combined_jsons/2019-10-15-14-15-19bag_img_raw_03_combined.json', 'data/combined_jsons/2019-11-05-15-17-20bag_img_raw_01_combined.json', 'data/combined_jsons/2019-10-15-14-12-10bag_pepper_robot_camera_front_camera_image_raw_combined.json', 'data/combined_jsons/2019-12-05-11-20-03bag_img_raw_01_combined.json', 'data/combined_jsons/2019-10-15-15-27-58bag_img_raw_04_combined.json']\n",
            "dataset_paths count is:  146\n",
            "Number of indeces to pop:  1458\n",
            "length_75_count is:  1391\n",
            "length_55_count is:  42844\n",
            "length_unknown_count is:  67\n",
            "length of raw_sequences is:  146\n"
          ],
          "name": "stdout"
        }
      ]
    },
    {
      "cell_type": "code",
      "metadata": {
        "id": "oMqzM1JeIeAE",
        "colab_type": "code",
        "colab": {
          "base_uri": "https://localhost:8080/",
          "height": 68
        },
        "outputId": "7477e60b-8da7-4739-e03f-7610bb4fefee"
      },
      "source": [
        "counts = [0,0,0,0]\n",
        "total_count = 0\n",
        "\n",
        "for sequence in raw_sequences:\n",
        "  for frame in sequence:\n",
        "    total_count += 1\n",
        "    if int(frame[0]) == 0:\n",
        "      counts[0] += 1\n",
        "    elif int(frame[0]) == 1:\n",
        "      counts[1] += 1\n",
        "    elif int(frame[0]) == 2:\n",
        "      counts[2] += 1\n",
        "    elif int(frame[0]) == 3:\n",
        "      counts[3] += 1\n",
        "\n",
        "print(\"counts are: \", counts)\n",
        "print(f\"total_count: {total_count}\")\n",
        "print(f\"total_count - number_of_zeroes: {total_count - counts[0]}\")"
      ],
      "execution_count": 5,
      "outputs": [
        {
          "output_type": "stream",
          "text": [
            "counts are:  [3955, 16081, 11363, 11445]\n",
            "total_count: 42844\n",
            "total_count - number_of_zeroes: 38889\n"
          ],
          "name": "stdout"
        }
      ]
    },
    {
      "cell_type": "markdown",
      "metadata": {
        "id": "KZddK8WY5ILW",
        "colab_type": "text"
      },
      "source": [
        "Get centroid for every frame. If the centroid differs widely between 2 frames, it may indicate that different people were picked up by OpenPose.\n",
        "Centroid code taken from [here](https://stackoverflow.com/questions/23020659/fastest-way-to-calculate-the-centroid-of-a-set-of-coordinate-tuples-in-python-wi).\n",
        "\n",
        "Format of OpenPose output can be found [here](https://github.com/CMU-Perceptual-Computing-Lab/openpose/blob/master/doc/output.md). A frame is represented by `x1,y1,c1,x2,y2,c2,...`\n",
        "\n",
        "If a dropped frame is between 2 valid sequences, consider stitching them back together.\n",
        "* Drop frames which have **no subject** in them.\n",
        "* Drop frames which have **wrong** subject in them.\n",
        "* Give unit variance and zero mean to all points."
      ]
    },
    {
      "cell_type": "code",
      "metadata": {
        "id": "wWXnNNXN5Jwc",
        "colab_type": "code",
        "colab": {
          "base_uri": "https://localhost:8080/",
          "height": 68
        },
        "outputId": "ff9ebf34-4cb8-4ae4-e10a-0ecfab432e6c"
      },
      "source": [
        "from jupyter_tools.preprocessing import stitch_frames, normalize\n",
        "\n",
        "print(f\"Number of raw sequences:        {len(raw_sequences)}\")\n",
        "parsed_sequences = stitch_frames(raw_sequences, min_dist=50, min_sequence_len=40, max_dropped_frames=4)\n",
        "print(f\"Number of stitched sequences:   {len(parsed_sequences)}\")\n",
        "preprocessed_sequences = normalize(parsed_sequences)\n",
        "print(f\"Number of preprocessed sequences: {len(preprocessed_sequences)}\")"
      ],
      "execution_count": 6,
      "outputs": [
        {
          "output_type": "stream",
          "text": [
            "Number of raw sequences:        146\n",
            "Number of stitched sequences:   201\n",
            "Number of preprocessed sequences: 201\n"
          ],
          "name": "stdout"
        }
      ]
    },
    {
      "cell_type": "code",
      "metadata": {
        "id": "DR7M-ecXVJBL",
        "colab_type": "code",
        "colab": {
          "base_uri": "https://localhost:8080/",
          "height": 68
        },
        "outputId": "eb2c9bcf-30e8-4398-a15a-7965fd9ba8d4"
      },
      "source": [
        "# Get some info on preprocessed_sequences\n",
        "counts = [0,0,0,0]\n",
        "total_count = 0\n",
        "\n",
        "for sequence in preprocessed_sequences:\n",
        "  for frame in sequence:\n",
        "    total_count += 1\n",
        "    if int(frame[0]) == 0:\n",
        "      counts[0] += 1\n",
        "    elif int(frame[0]) == 1:\n",
        "      counts[1] += 1\n",
        "    elif int(frame[0]) == 2:\n",
        "      counts[2] += 1\n",
        "    elif int(frame[0]) == 3:\n",
        "      counts[3] += 1\n",
        "\n",
        "print(\"counts are: \", counts)\n",
        "print(f\"total_count: {total_count}\")\n",
        "print(f\"total_count - number_of_zeroes: {total_count - counts[0]}\")"
      ],
      "execution_count": 7,
      "outputs": [
        {
          "output_type": "stream",
          "text": [
            "counts are:  [0, 9461, 6817, 8135]\n",
            "total_count: 24413\n",
            "total_count - number_of_zeroes: 24413\n"
          ],
          "name": "stdout"
        }
      ]
    },
    {
      "cell_type": "code",
      "metadata": {
        "id": "1wmDGR_wneek",
        "colab_type": "code",
        "colab": {
          "base_uri": "https://localhost:8080/",
          "height": 297
        },
        "outputId": "b00cd5fe-b7e9-4035-b9e3-59d48047a55a"
      },
      "source": [
        "import pandas as pd\n",
        "\n",
        "# Visualize statistics regarding preprocessed_sequences\n",
        "sequences_len = []\n",
        "for sequence in preprocessed_sequences:\n",
        "  sequences_len.append(len(sequence))\n",
        "\n",
        "a = pd.DataFrame(sequences_len)\n",
        "a.describe()"
      ],
      "execution_count": 8,
      "outputs": [
        {
          "output_type": "execute_result",
          "data": {
            "text/html": [
              "<div>\n",
              "<style scoped>\n",
              "    .dataframe tbody tr th:only-of-type {\n",
              "        vertical-align: middle;\n",
              "    }\n",
              "\n",
              "    .dataframe tbody tr th {\n",
              "        vertical-align: top;\n",
              "    }\n",
              "\n",
              "    .dataframe thead th {\n",
              "        text-align: right;\n",
              "    }\n",
              "</style>\n",
              "<table border=\"1\" class=\"dataframe\">\n",
              "  <thead>\n",
              "    <tr style=\"text-align: right;\">\n",
              "      <th></th>\n",
              "      <th>0</th>\n",
              "    </tr>\n",
              "  </thead>\n",
              "  <tbody>\n",
              "    <tr>\n",
              "      <th>count</th>\n",
              "      <td>201.000000</td>\n",
              "    </tr>\n",
              "    <tr>\n",
              "      <th>mean</th>\n",
              "      <td>121.457711</td>\n",
              "    </tr>\n",
              "    <tr>\n",
              "      <th>std</th>\n",
              "      <td>102.400388</td>\n",
              "    </tr>\n",
              "    <tr>\n",
              "      <th>min</th>\n",
              "      <td>40.000000</td>\n",
              "    </tr>\n",
              "    <tr>\n",
              "      <th>25%</th>\n",
              "      <td>54.000000</td>\n",
              "    </tr>\n",
              "    <tr>\n",
              "      <th>50%</th>\n",
              "      <td>84.000000</td>\n",
              "    </tr>\n",
              "    <tr>\n",
              "      <th>75%</th>\n",
              "      <td>143.000000</td>\n",
              "    </tr>\n",
              "    <tr>\n",
              "      <th>max</th>\n",
              "      <td>683.000000</td>\n",
              "    </tr>\n",
              "  </tbody>\n",
              "</table>\n",
              "</div>"
            ],
            "text/plain": [
              "                0\n",
              "count  201.000000\n",
              "mean   121.457711\n",
              "std    102.400388\n",
              "min     40.000000\n",
              "25%     54.000000\n",
              "50%     84.000000\n",
              "75%    143.000000\n",
              "max    683.000000"
            ]
          },
          "metadata": {
            "tags": []
          },
          "execution_count": 8
        }
      ]
    },
    {
      "cell_type": "markdown",
      "metadata": {
        "id": "0i-Na7WHGGVo",
        "colab_type": "text"
      },
      "source": [
        "## Model\n",
        "Create 3 models\n",
        "* simple Sequential NN\n",
        "* simple LSTM\n",
        "* complex LSTM\n",
        "\n",
        "First, we need to extract the X and Y values from our dataset in order to use them on the model.\n",
        "Our Y will be our confusion annotations, and our X will be all the openPose coordinates."
      ]
    },
    {
      "cell_type": "code",
      "metadata": {
        "id": "6qODnLNRdmsR",
        "colab_type": "code",
        "colab": {
          "base_uri": "https://localhost:8080/",
          "height": 34
        },
        "outputId": "075db80b-9243-4308-e0f2-8e05f3975712"
      },
      "source": [
        "from sklearn.model_selection import train_test_split\n",
        "import numpy as np\n",
        "import pandas as pd\n",
        "\n",
        "nn_input_data = np.asarray(preprocessed_sequences)\n",
        "\n",
        "nn_data = []\n",
        "nn_target = []\n",
        "# Split the data into training and target arrays\n",
        "for row in range(len(nn_input_data)):\n",
        "    for frame in range(len(nn_input_data[row])):\n",
        "        target = nn_input_data[row][frame][0]\n",
        "        data = []\n",
        "        for datum in nn_input_data[row][frame][1:]:\n",
        "          data.append(datum)\n",
        "        nn_data.append(data)\n",
        "        nn_target.append(target)\n",
        "print(\"Completed splitting data into training and target arrays\")"
      ],
      "execution_count": 9,
      "outputs": [
        {
          "output_type": "stream",
          "text": [
            "Completed splitting data into training and target arrays\n"
          ],
          "name": "stdout"
        }
      ]
    },
    {
      "cell_type": "code",
      "metadata": {
        "id": "bamWXoBa3uff",
        "colab_type": "code",
        "colab": {
          "base_uri": "https://localhost:8080/",
          "height": 68
        },
        "outputId": "c744e92a-4b9c-4943-9d88-8558a2d9a321"
      },
      "source": [
        "## Because we have stripped away all 0s from the Confusion Score,\n",
        "## The target set must now be reduced from 1-3 to 0-2, to play nicely with the models\n",
        "nn_target_reduced = []\n",
        "target_counts = [0,0,0]\n",
        "print(\"Previous Values: \", nn_target[0:10])\n",
        "for i in range(len(nn_target)):\n",
        "  if nn_target[i] == 3:\n",
        "    nn_target_reduced.append(2)\n",
        "    target_counts[2] += 1\n",
        "  elif nn_target[i] == 2:\n",
        "    nn_target_reduced.append(1)\n",
        "    target_counts[1] += 1\n",
        "  elif nn_target[i] == 1:\n",
        "    nn_target_reduced.append(0)\n",
        "    target_counts[0] += 1\n",
        "  else:\n",
        "    print(\"found invalid value: \", nn_target[i])\n",
        "\n",
        "print(\" Current Values: \", nn_target_reduced[0:10])\n",
        "\n",
        "print(\"Target Counts for Not Confused, Maybe Confused, and Confused: \", target_counts)"
      ],
      "execution_count": 10,
      "outputs": [
        {
          "output_type": "stream",
          "text": [
            "Previous Values:  [3, 2, 3, 2, 3, 2, 3, 2, 3, 2]\n",
            " Current Values:  [2, 1, 2, 1, 2, 1, 2, 1, 2, 1]\n",
            "Target Counts for Not Confused, Maybe Confused, and Confused:  [9461, 6817, 8135]\n"
          ],
          "name": "stdout"
        }
      ]
    },
    {
      "cell_type": "code",
      "metadata": {
        "id": "nM1K2q4F4THF",
        "colab_type": "code",
        "colab": {
          "base_uri": "https://localhost:8080/",
          "height": 51
        },
        "outputId": "5b02fb11-535b-4a4b-9e89-2e3dca91ec22"
      },
      "source": [
        "nn_data_np = np.asarray(nn_data)\n",
        "nn_target_np = np.asarray(nn_target_reduced)\n",
        "nn_data_pd = pd.DataFrame(nn_data)\n",
        "nn_target_pd = pd.DataFrame(nn_target_reduced)\n",
        "\n",
        "print(\"nn_data_pd shape is: \", nn_data_pd.shape)\n",
        "print(\"nn_data_pd type is: \",nn_data_np.dtype)\n",
        "\n",
        "if DEBUG_OUTPUT:\n",
        "  print(\"Output of the first frame data: \", nn_data_np[0])"
      ],
      "execution_count": 11,
      "outputs": [
        {
          "output_type": "stream",
          "text": [
            "nn_data_pd shape is:  (24413, 54)\n",
            "nn_data_pd type is:  float64\n"
          ],
          "name": "stdout"
        }
      ]
    },
    {
      "cell_type": "markdown",
      "metadata": {
        "id": "4kIbBj17kxWo",
        "colab_type": "text"
      },
      "source": [
        "### Statistics for the OpenPose Coordinate Data\n",
        "There are 54 features provided from OpenPose.\n",
        "Each feature represents the locations of the subject's body part in space.\n",
        "These values have been normalized in preprocessing."
      ]
    },
    {
      "cell_type": "code",
      "metadata": {
        "id": "Rvs-vdQzksDz",
        "colab_type": "code",
        "colab": {
          "base_uri": "https://localhost:8080/",
          "height": 1000
        },
        "outputId": "c3ff4f16-1e8a-4517-f636-2cbd337542b7"
      },
      "source": [
        "nn_data_pd.describe().T"
      ],
      "execution_count": 12,
      "outputs": [
        {
          "output_type": "execute_result",
          "data": {
            "text/html": [
              "<div>\n",
              "<style scoped>\n",
              "    .dataframe tbody tr th:only-of-type {\n",
              "        vertical-align: middle;\n",
              "    }\n",
              "\n",
              "    .dataframe tbody tr th {\n",
              "        vertical-align: top;\n",
              "    }\n",
              "\n",
              "    .dataframe thead th {\n",
              "        text-align: right;\n",
              "    }\n",
              "</style>\n",
              "<table border=\"1\" class=\"dataframe\">\n",
              "  <thead>\n",
              "    <tr style=\"text-align: right;\">\n",
              "      <th></th>\n",
              "      <th>count</th>\n",
              "      <th>mean</th>\n",
              "      <th>std</th>\n",
              "      <th>min</th>\n",
              "      <th>25%</th>\n",
              "      <th>50%</th>\n",
              "      <th>75%</th>\n",
              "      <th>max</th>\n",
              "    </tr>\n",
              "  </thead>\n",
              "  <tbody>\n",
              "    <tr>\n",
              "      <th>0</th>\n",
              "      <td>24413.0</td>\n",
              "      <td>0.417873</td>\n",
              "      <td>1.021192</td>\n",
              "      <td>-1.257885</td>\n",
              "      <td>-0.823395</td>\n",
              "      <td>1.017858</td>\n",
              "      <td>1.281385</td>\n",
              "      <td>1.838729</td>\n",
              "    </tr>\n",
              "    <tr>\n",
              "      <th>1</th>\n",
              "      <td>24413.0</td>\n",
              "      <td>-0.297094</td>\n",
              "      <td>0.445021</td>\n",
              "      <td>-1.109977</td>\n",
              "      <td>-0.470610</td>\n",
              "      <td>-0.283905</td>\n",
              "      <td>-0.029529</td>\n",
              "      <td>1.070167</td>\n",
              "    </tr>\n",
              "    <tr>\n",
              "      <th>2</th>\n",
              "      <td>24413.0</td>\n",
              "      <td>-1.053940</td>\n",
              "      <td>0.129619</td>\n",
              "      <td>-1.398062</td>\n",
              "      <td>-1.139929</td>\n",
              "      <td>-1.057964</td>\n",
              "      <td>-0.981405</td>\n",
              "      <td>-0.243291</td>\n",
              "    </tr>\n",
              "    <tr>\n",
              "      <th>3</th>\n",
              "      <td>24413.0</td>\n",
              "      <td>1.083413</td>\n",
              "      <td>0.428562</td>\n",
              "      <td>-0.573959</td>\n",
              "      <td>0.981120</td>\n",
              "      <td>1.230301</td>\n",
              "      <td>1.352876</td>\n",
              "      <td>2.962752</td>\n",
              "    </tr>\n",
              "    <tr>\n",
              "      <th>4</th>\n",
              "      <td>24413.0</td>\n",
              "      <td>0.035283</td>\n",
              "      <td>0.346639</td>\n",
              "      <td>-0.610912</td>\n",
              "      <td>-0.236067</td>\n",
              "      <td>-0.058506</td>\n",
              "      <td>0.261476</td>\n",
              "      <td>2.926365</td>\n",
              "    </tr>\n",
              "    <tr>\n",
              "      <th>5</th>\n",
              "      <td>24413.0</td>\n",
              "      <td>-1.052703</td>\n",
              "      <td>0.130106</td>\n",
              "      <td>-1.395453</td>\n",
              "      <td>-1.139525</td>\n",
              "      <td>-1.056334</td>\n",
              "      <td>-0.980206</td>\n",
              "      <td>-0.243291</td>\n",
              "    </tr>\n",
              "    <tr>\n",
              "      <th>6</th>\n",
              "      <td>24413.0</td>\n",
              "      <td>1.072625</td>\n",
              "      <td>0.452394</td>\n",
              "      <td>-0.803860</td>\n",
              "      <td>0.959321</td>\n",
              "      <td>1.205793</td>\n",
              "      <td>1.352565</td>\n",
              "      <td>3.663435</td>\n",
              "    </tr>\n",
              "    <tr>\n",
              "      <th>7</th>\n",
              "      <td>24413.0</td>\n",
              "      <td>0.034763</td>\n",
              "      <td>0.344282</td>\n",
              "      <td>-0.712949</td>\n",
              "      <td>-0.232283</td>\n",
              "      <td>-0.054772</td>\n",
              "      <td>0.257128</td>\n",
              "      <td>1.503020</td>\n",
              "    </tr>\n",
              "    <tr>\n",
              "      <th>8</th>\n",
              "      <td>24413.0</td>\n",
              "      <td>-1.052886</td>\n",
              "      <td>0.130000</td>\n",
              "      <td>-1.395578</td>\n",
              "      <td>-1.139630</td>\n",
              "      <td>-1.056476</td>\n",
              "      <td>-0.980325</td>\n",
              "      <td>-0.243291</td>\n",
              "    </tr>\n",
              "    <tr>\n",
              "      <th>9</th>\n",
              "      <td>24413.0</td>\n",
              "      <td>1.051182</td>\n",
              "      <td>0.497909</td>\n",
              "      <td>-1.113973</td>\n",
              "      <td>0.933063</td>\n",
              "      <td>1.186099</td>\n",
              "      <td>1.356213</td>\n",
              "      <td>2.189843</td>\n",
              "    </tr>\n",
              "    <tr>\n",
              "      <th>10</th>\n",
              "      <td>24413.0</td>\n",
              "      <td>0.235870</td>\n",
              "      <td>0.429407</td>\n",
              "      <td>-1.113973</td>\n",
              "      <td>-0.071605</td>\n",
              "      <td>0.142024</td>\n",
              "      <td>0.468252</td>\n",
              "      <td>2.714389</td>\n",
              "    </tr>\n",
              "    <tr>\n",
              "      <th>11</th>\n",
              "      <td>24413.0</td>\n",
              "      <td>-1.053587</td>\n",
              "      <td>0.130031</td>\n",
              "      <td>-1.396565</td>\n",
              "      <td>-1.140499</td>\n",
              "      <td>-1.057104</td>\n",
              "      <td>-0.981002</td>\n",
              "      <td>-0.243291</td>\n",
              "    </tr>\n",
              "    <tr>\n",
              "      <th>12</th>\n",
              "      <td>24413.0</td>\n",
              "      <td>0.908857</td>\n",
              "      <td>0.738571</td>\n",
              "      <td>-1.269707</td>\n",
              "      <td>0.784045</td>\n",
              "      <td>1.164886</td>\n",
              "      <td>1.384972</td>\n",
              "      <td>2.346742</td>\n",
              "    </tr>\n",
              "    <tr>\n",
              "      <th>13</th>\n",
              "      <td>24413.0</td>\n",
              "      <td>0.183556</td>\n",
              "      <td>0.550247</td>\n",
              "      <td>-1.269707</td>\n",
              "      <td>-0.092833</td>\n",
              "      <td>0.139155</td>\n",
              "      <td>0.480577</td>\n",
              "      <td>2.832275</td>\n",
              "    </tr>\n",
              "    <tr>\n",
              "      <th>14</th>\n",
              "      <td>24413.0</td>\n",
              "      <td>-1.054089</td>\n",
              "      <td>0.129878</td>\n",
              "      <td>-1.396903</td>\n",
              "      <td>-1.140497</td>\n",
              "      <td>-1.057923</td>\n",
              "      <td>-0.981346</td>\n",
              "      <td>-0.243291</td>\n",
              "    </tr>\n",
              "    <tr>\n",
              "      <th>15</th>\n",
              "      <td>24413.0</td>\n",
              "      <td>1.095205</td>\n",
              "      <td>0.433374</td>\n",
              "      <td>-0.916112</td>\n",
              "      <td>0.986601</td>\n",
              "      <td>1.243831</td>\n",
              "      <td>1.377656</td>\n",
              "      <td>3.283816</td>\n",
              "    </tr>\n",
              "    <tr>\n",
              "      <th>16</th>\n",
              "      <td>24413.0</td>\n",
              "      <td>0.033153</td>\n",
              "      <td>0.348547</td>\n",
              "      <td>-0.916112</td>\n",
              "      <td>-0.240911</td>\n",
              "      <td>-0.060233</td>\n",
              "      <td>0.262540</td>\n",
              "      <td>3.016842</td>\n",
              "    </tr>\n",
              "    <tr>\n",
              "      <th>17</th>\n",
              "      <td>24413.0</td>\n",
              "      <td>-1.052842</td>\n",
              "      <td>0.130065</td>\n",
              "      <td>-1.395838</td>\n",
              "      <td>-1.139591</td>\n",
              "      <td>-1.056481</td>\n",
              "      <td>-0.980345</td>\n",
              "      <td>-0.243291</td>\n",
              "    </tr>\n",
              "    <tr>\n",
              "      <th>18</th>\n",
              "      <td>24413.0</td>\n",
              "      <td>1.083589</td>\n",
              "      <td>0.482692</td>\n",
              "      <td>-1.193997</td>\n",
              "      <td>0.959460</td>\n",
              "      <td>1.248895</td>\n",
              "      <td>1.392998</td>\n",
              "      <td>3.681483</td>\n",
              "    </tr>\n",
              "    <tr>\n",
              "      <th>19</th>\n",
              "      <td>24413.0</td>\n",
              "      <td>0.239692</td>\n",
              "      <td>0.444039</td>\n",
              "      <td>-1.193997</td>\n",
              "      <td>-0.084507</td>\n",
              "      <td>0.135956</td>\n",
              "      <td>0.509610</td>\n",
              "      <td>5.049103</td>\n",
              "    </tr>\n",
              "    <tr>\n",
              "      <th>20</th>\n",
              "      <td>24413.0</td>\n",
              "      <td>-1.053377</td>\n",
              "      <td>0.130046</td>\n",
              "      <td>-1.397485</td>\n",
              "      <td>-1.140150</td>\n",
              "      <td>-1.056859</td>\n",
              "      <td>-0.981177</td>\n",
              "      <td>-0.243291</td>\n",
              "    </tr>\n",
              "    <tr>\n",
              "      <th>21</th>\n",
              "      <td>24413.0</td>\n",
              "      <td>0.874002</td>\n",
              "      <td>0.743688</td>\n",
              "      <td>-1.290381</td>\n",
              "      <td>0.698049</td>\n",
              "      <td>1.175508</td>\n",
              "      <td>1.369862</td>\n",
              "      <td>3.903498</td>\n",
              "    </tr>\n",
              "    <tr>\n",
              "      <th>22</th>\n",
              "      <td>24413.0</td>\n",
              "      <td>0.175511</td>\n",
              "      <td>0.565759</td>\n",
              "      <td>-1.290381</td>\n",
              "      <td>-0.116271</td>\n",
              "      <td>0.113399</td>\n",
              "      <td>0.492571</td>\n",
              "      <td>3.403565</td>\n",
              "    </tr>\n",
              "    <tr>\n",
              "      <th>23</th>\n",
              "      <td>24413.0</td>\n",
              "      <td>-1.053968</td>\n",
              "      <td>0.129806</td>\n",
              "      <td>-1.398563</td>\n",
              "      <td>-1.140113</td>\n",
              "      <td>-1.057379</td>\n",
              "      <td>-0.981842</td>\n",
              "      <td>-0.243291</td>\n",
              "    </tr>\n",
              "    <tr>\n",
              "      <th>24</th>\n",
              "      <td>24413.0</td>\n",
              "      <td>1.079980</td>\n",
              "      <td>0.422975</td>\n",
              "      <td>-0.689930</td>\n",
              "      <td>0.987560</td>\n",
              "      <td>1.211973</td>\n",
              "      <td>1.341283</td>\n",
              "      <td>2.153650</td>\n",
              "    </tr>\n",
              "    <tr>\n",
              "      <th>25</th>\n",
              "      <td>24413.0</td>\n",
              "      <td>0.477647</td>\n",
              "      <td>0.508356</td>\n",
              "      <td>-0.654779</td>\n",
              "      <td>0.091328</td>\n",
              "      <td>0.360119</td>\n",
              "      <td>0.747395</td>\n",
              "      <td>3.434853</td>\n",
              "    </tr>\n",
              "    <tr>\n",
              "      <th>26</th>\n",
              "      <td>24413.0</td>\n",
              "      <td>-1.053304</td>\n",
              "      <td>0.129961</td>\n",
              "      <td>-1.395489</td>\n",
              "      <td>-1.140043</td>\n",
              "      <td>-1.056899</td>\n",
              "      <td>-0.980798</td>\n",
              "      <td>-0.243291</td>\n",
              "    </tr>\n",
              "    <tr>\n",
              "      <th>27</th>\n",
              "      <td>24413.0</td>\n",
              "      <td>1.074993</td>\n",
              "      <td>0.432282</td>\n",
              "      <td>-1.198909</td>\n",
              "      <td>0.987688</td>\n",
              "      <td>1.213204</td>\n",
              "      <td>1.339158</td>\n",
              "      <td>2.159538</td>\n",
              "    </tr>\n",
              "    <tr>\n",
              "      <th>28</th>\n",
              "      <td>24413.0</td>\n",
              "      <td>0.783179</td>\n",
              "      <td>0.631517</td>\n",
              "      <td>-1.198909</td>\n",
              "      <td>0.304361</td>\n",
              "      <td>0.656029</td>\n",
              "      <td>1.067593</td>\n",
              "      <td>3.989041</td>\n",
              "    </tr>\n",
              "    <tr>\n",
              "      <th>29</th>\n",
              "      <td>24413.0</td>\n",
              "      <td>-1.053157</td>\n",
              "      <td>0.130060</td>\n",
              "      <td>-1.396956</td>\n",
              "      <td>-1.139791</td>\n",
              "      <td>-1.056699</td>\n",
              "      <td>-0.980391</td>\n",
              "      <td>-0.243291</td>\n",
              "    </tr>\n",
              "    <tr>\n",
              "      <th>30</th>\n",
              "      <td>24413.0</td>\n",
              "      <td>1.021614</td>\n",
              "      <td>0.541908</td>\n",
              "      <td>-1.258818</td>\n",
              "      <td>0.959148</td>\n",
              "      <td>1.204378</td>\n",
              "      <td>1.332694</td>\n",
              "      <td>1.953631</td>\n",
              "    </tr>\n",
              "    <tr>\n",
              "      <th>31</th>\n",
              "      <td>24413.0</td>\n",
              "      <td>0.990829</td>\n",
              "      <td>0.811478</td>\n",
              "      <td>-1.258818</td>\n",
              "      <td>0.472105</td>\n",
              "      <td>0.885535</td>\n",
              "      <td>1.346058</td>\n",
              "      <td>3.818105</td>\n",
              "    </tr>\n",
              "    <tr>\n",
              "      <th>32</th>\n",
              "      <td>24413.0</td>\n",
              "      <td>-1.053520</td>\n",
              "      <td>0.130192</td>\n",
              "      <td>-1.397627</td>\n",
              "      <td>-1.140291</td>\n",
              "      <td>-1.057084</td>\n",
              "      <td>-0.980785</td>\n",
              "      <td>-0.243291</td>\n",
              "    </tr>\n",
              "    <tr>\n",
              "      <th>33</th>\n",
              "      <td>24413.0</td>\n",
              "      <td>1.094646</td>\n",
              "      <td>0.405097</td>\n",
              "      <td>-0.903579</td>\n",
              "      <td>0.991529</td>\n",
              "      <td>1.238227</td>\n",
              "      <td>1.356764</td>\n",
              "      <td>2.846412</td>\n",
              "    </tr>\n",
              "    <tr>\n",
              "      <th>34</th>\n",
              "      <td>24413.0</td>\n",
              "      <td>0.478195</td>\n",
              "      <td>0.511771</td>\n",
              "      <td>-0.903579</td>\n",
              "      <td>0.088482</td>\n",
              "      <td>0.358626</td>\n",
              "      <td>0.749507</td>\n",
              "      <td>3.681582</td>\n",
              "    </tr>\n",
              "    <tr>\n",
              "      <th>35</th>\n",
              "      <td>24413.0</td>\n",
              "      <td>-1.053264</td>\n",
              "      <td>0.129949</td>\n",
              "      <td>-1.395237</td>\n",
              "      <td>-1.140017</td>\n",
              "      <td>-1.056893</td>\n",
              "      <td>-0.980725</td>\n",
              "      <td>-0.235367</td>\n",
              "    </tr>\n",
              "    <tr>\n",
              "      <th>36</th>\n",
              "      <td>24413.0</td>\n",
              "      <td>1.083358</td>\n",
              "      <td>0.414942</td>\n",
              "      <td>-1.147322</td>\n",
              "      <td>0.984436</td>\n",
              "      <td>1.234501</td>\n",
              "      <td>1.351186</td>\n",
              "      <td>2.853393</td>\n",
              "    </tr>\n",
              "    <tr>\n",
              "      <th>37</th>\n",
              "      <td>24413.0</td>\n",
              "      <td>0.784052</td>\n",
              "      <td>0.637933</td>\n",
              "      <td>-1.147322</td>\n",
              "      <td>0.300728</td>\n",
              "      <td>0.653521</td>\n",
              "      <td>1.073478</td>\n",
              "      <td>4.835949</td>\n",
              "    </tr>\n",
              "    <tr>\n",
              "      <th>38</th>\n",
              "      <td>24413.0</td>\n",
              "      <td>-1.053111</td>\n",
              "      <td>0.130043</td>\n",
              "      <td>-1.396947</td>\n",
              "      <td>-1.139800</td>\n",
              "      <td>-1.056726</td>\n",
              "      <td>-0.980346</td>\n",
              "      <td>-0.236828</td>\n",
              "    </tr>\n",
              "    <tr>\n",
              "      <th>39</th>\n",
              "      <td>24413.0</td>\n",
              "      <td>1.027648</td>\n",
              "      <td>0.529405</td>\n",
              "      <td>-1.273625</td>\n",
              "      <td>0.938273</td>\n",
              "      <td>1.221098</td>\n",
              "      <td>1.339504</td>\n",
              "      <td>1.706773</td>\n",
              "    </tr>\n",
              "    <tr>\n",
              "      <th>40</th>\n",
              "      <td>24413.0</td>\n",
              "      <td>0.996311</td>\n",
              "      <td>0.826989</td>\n",
              "      <td>-1.273625</td>\n",
              "      <td>0.465410</td>\n",
              "      <td>0.889094</td>\n",
              "      <td>1.348264</td>\n",
              "      <td>5.014924</td>\n",
              "    </tr>\n",
              "    <tr>\n",
              "      <th>41</th>\n",
              "      <td>24413.0</td>\n",
              "      <td>-1.053517</td>\n",
              "      <td>0.130163</td>\n",
              "      <td>-1.397610</td>\n",
              "      <td>-1.139959</td>\n",
              "      <td>-1.057162</td>\n",
              "      <td>-0.980693</td>\n",
              "      <td>-0.239192</td>\n",
              "    </tr>\n",
              "    <tr>\n",
              "      <th>42</th>\n",
              "      <td>24413.0</td>\n",
              "      <td>0.333928</td>\n",
              "      <td>1.090346</td>\n",
              "      <td>-1.291374</td>\n",
              "      <td>-0.961086</td>\n",
              "      <td>0.977670</td>\n",
              "      <td>1.306755</td>\n",
              "      <td>2.047031</td>\n",
              "    </tr>\n",
              "    <tr>\n",
              "      <th>43</th>\n",
              "      <td>24413.0</td>\n",
              "      <td>-0.486303</td>\n",
              "      <td>0.462418</td>\n",
              "      <td>-1.291374</td>\n",
              "      <td>-0.961086</td>\n",
              "      <td>-0.414595</td>\n",
              "      <td>-0.200112</td>\n",
              "      <td>1.016267</td>\n",
              "    </tr>\n",
              "    <tr>\n",
              "      <th>44</th>\n",
              "      <td>24413.0</td>\n",
              "      <td>-1.054806</td>\n",
              "      <td>0.129660</td>\n",
              "      <td>-1.398303</td>\n",
              "      <td>-1.140926</td>\n",
              "      <td>-1.059091</td>\n",
              "      <td>-0.982009</td>\n",
              "      <td>-0.243291</td>\n",
              "    </tr>\n",
              "    <tr>\n",
              "      <th>45</th>\n",
              "      <td>24413.0</td>\n",
              "      <td>0.245490</td>\n",
              "      <td>1.042646</td>\n",
              "      <td>-1.274216</td>\n",
              "      <td>-0.956067</td>\n",
              "      <td>0.718160</td>\n",
              "      <td>1.232735</td>\n",
              "      <td>2.053285</td>\n",
              "    </tr>\n",
              "    <tr>\n",
              "      <th>46</th>\n",
              "      <td>24413.0</td>\n",
              "      <td>-0.456388</td>\n",
              "      <td>0.486452</td>\n",
              "      <td>-1.274216</td>\n",
              "      <td>-0.956067</td>\n",
              "      <td>-0.412839</td>\n",
              "      <td>-0.139623</td>\n",
              "      <td>1.019307</td>\n",
              "    </tr>\n",
              "    <tr>\n",
              "      <th>47</th>\n",
              "      <td>24413.0</td>\n",
              "      <td>-1.054533</td>\n",
              "      <td>0.129591</td>\n",
              "      <td>-1.398172</td>\n",
              "      <td>-1.140635</td>\n",
              "      <td>-1.058578</td>\n",
              "      <td>-0.982275</td>\n",
              "      <td>-0.243291</td>\n",
              "    </tr>\n",
              "    <tr>\n",
              "      <th>48</th>\n",
              "      <td>24413.0</td>\n",
              "      <td>0.534970</td>\n",
              "      <td>1.062971</td>\n",
              "      <td>-1.291909</td>\n",
              "      <td>-0.923937</td>\n",
              "      <td>1.123562</td>\n",
              "      <td>1.354909</td>\n",
              "      <td>3.009484</td>\n",
              "    </tr>\n",
              "    <tr>\n",
              "      <th>49</th>\n",
              "      <td>24413.0</td>\n",
              "      <td>-0.408751</td>\n",
              "      <td>0.491407</td>\n",
              "      <td>-1.291909</td>\n",
              "      <td>-0.923937</td>\n",
              "      <td>-0.348407</td>\n",
              "      <td>-0.109665</td>\n",
              "      <td>1.081746</td>\n",
              "    </tr>\n",
              "    <tr>\n",
              "      <th>50</th>\n",
              "      <td>24413.0</td>\n",
              "      <td>-1.054504</td>\n",
              "      <td>0.130234</td>\n",
              "      <td>-1.398606</td>\n",
              "      <td>-1.141010</td>\n",
              "      <td>-1.058174</td>\n",
              "      <td>-0.981454</td>\n",
              "      <td>-0.243291</td>\n",
              "    </tr>\n",
              "    <tr>\n",
              "      <th>51</th>\n",
              "      <td>24413.0</td>\n",
              "      <td>0.415528</td>\n",
              "      <td>1.000101</td>\n",
              "      <td>-1.292659</td>\n",
              "      <td>-0.932718</td>\n",
              "      <td>0.931528</td>\n",
              "      <td>1.261196</td>\n",
              "      <td>2.962752</td>\n",
              "    </tr>\n",
              "    <tr>\n",
              "      <th>52</th>\n",
              "      <td>24413.0</td>\n",
              "      <td>-0.333242</td>\n",
              "      <td>0.517211</td>\n",
              "      <td>-1.292659</td>\n",
              "      <td>-0.932718</td>\n",
              "      <td>-0.271813</td>\n",
              "      <td>0.032490</td>\n",
              "      <td>1.684497</td>\n",
              "    </tr>\n",
              "    <tr>\n",
              "      <th>53</th>\n",
              "      <td>24413.0</td>\n",
              "      <td>-1.054054</td>\n",
              "      <td>0.130142</td>\n",
              "      <td>-1.397956</td>\n",
              "      <td>-1.141011</td>\n",
              "      <td>-1.057733</td>\n",
              "      <td>-0.981936</td>\n",
              "      <td>-0.243291</td>\n",
              "    </tr>\n",
              "  </tbody>\n",
              "</table>\n",
              "</div>"
            ],
            "text/plain": [
              "      count      mean       std  ...       50%       75%       max\n",
              "0   24413.0  0.417873  1.021192  ...  1.017858  1.281385  1.838729\n",
              "1   24413.0 -0.297094  0.445021  ... -0.283905 -0.029529  1.070167\n",
              "2   24413.0 -1.053940  0.129619  ... -1.057964 -0.981405 -0.243291\n",
              "3   24413.0  1.083413  0.428562  ...  1.230301  1.352876  2.962752\n",
              "4   24413.0  0.035283  0.346639  ... -0.058506  0.261476  2.926365\n",
              "5   24413.0 -1.052703  0.130106  ... -1.056334 -0.980206 -0.243291\n",
              "6   24413.0  1.072625  0.452394  ...  1.205793  1.352565  3.663435\n",
              "7   24413.0  0.034763  0.344282  ... -0.054772  0.257128  1.503020\n",
              "8   24413.0 -1.052886  0.130000  ... -1.056476 -0.980325 -0.243291\n",
              "9   24413.0  1.051182  0.497909  ...  1.186099  1.356213  2.189843\n",
              "10  24413.0  0.235870  0.429407  ...  0.142024  0.468252  2.714389\n",
              "11  24413.0 -1.053587  0.130031  ... -1.057104 -0.981002 -0.243291\n",
              "12  24413.0  0.908857  0.738571  ...  1.164886  1.384972  2.346742\n",
              "13  24413.0  0.183556  0.550247  ...  0.139155  0.480577  2.832275\n",
              "14  24413.0 -1.054089  0.129878  ... -1.057923 -0.981346 -0.243291\n",
              "15  24413.0  1.095205  0.433374  ...  1.243831  1.377656  3.283816\n",
              "16  24413.0  0.033153  0.348547  ... -0.060233  0.262540  3.016842\n",
              "17  24413.0 -1.052842  0.130065  ... -1.056481 -0.980345 -0.243291\n",
              "18  24413.0  1.083589  0.482692  ...  1.248895  1.392998  3.681483\n",
              "19  24413.0  0.239692  0.444039  ...  0.135956  0.509610  5.049103\n",
              "20  24413.0 -1.053377  0.130046  ... -1.056859 -0.981177 -0.243291\n",
              "21  24413.0  0.874002  0.743688  ...  1.175508  1.369862  3.903498\n",
              "22  24413.0  0.175511  0.565759  ...  0.113399  0.492571  3.403565\n",
              "23  24413.0 -1.053968  0.129806  ... -1.057379 -0.981842 -0.243291\n",
              "24  24413.0  1.079980  0.422975  ...  1.211973  1.341283  2.153650\n",
              "25  24413.0  0.477647  0.508356  ...  0.360119  0.747395  3.434853\n",
              "26  24413.0 -1.053304  0.129961  ... -1.056899 -0.980798 -0.243291\n",
              "27  24413.0  1.074993  0.432282  ...  1.213204  1.339158  2.159538\n",
              "28  24413.0  0.783179  0.631517  ...  0.656029  1.067593  3.989041\n",
              "29  24413.0 -1.053157  0.130060  ... -1.056699 -0.980391 -0.243291\n",
              "30  24413.0  1.021614  0.541908  ...  1.204378  1.332694  1.953631\n",
              "31  24413.0  0.990829  0.811478  ...  0.885535  1.346058  3.818105\n",
              "32  24413.0 -1.053520  0.130192  ... -1.057084 -0.980785 -0.243291\n",
              "33  24413.0  1.094646  0.405097  ...  1.238227  1.356764  2.846412\n",
              "34  24413.0  0.478195  0.511771  ...  0.358626  0.749507  3.681582\n",
              "35  24413.0 -1.053264  0.129949  ... -1.056893 -0.980725 -0.235367\n",
              "36  24413.0  1.083358  0.414942  ...  1.234501  1.351186  2.853393\n",
              "37  24413.0  0.784052  0.637933  ...  0.653521  1.073478  4.835949\n",
              "38  24413.0 -1.053111  0.130043  ... -1.056726 -0.980346 -0.236828\n",
              "39  24413.0  1.027648  0.529405  ...  1.221098  1.339504  1.706773\n",
              "40  24413.0  0.996311  0.826989  ...  0.889094  1.348264  5.014924\n",
              "41  24413.0 -1.053517  0.130163  ... -1.057162 -0.980693 -0.239192\n",
              "42  24413.0  0.333928  1.090346  ...  0.977670  1.306755  2.047031\n",
              "43  24413.0 -0.486303  0.462418  ... -0.414595 -0.200112  1.016267\n",
              "44  24413.0 -1.054806  0.129660  ... -1.059091 -0.982009 -0.243291\n",
              "45  24413.0  0.245490  1.042646  ...  0.718160  1.232735  2.053285\n",
              "46  24413.0 -0.456388  0.486452  ... -0.412839 -0.139623  1.019307\n",
              "47  24413.0 -1.054533  0.129591  ... -1.058578 -0.982275 -0.243291\n",
              "48  24413.0  0.534970  1.062971  ...  1.123562  1.354909  3.009484\n",
              "49  24413.0 -0.408751  0.491407  ... -0.348407 -0.109665  1.081746\n",
              "50  24413.0 -1.054504  0.130234  ... -1.058174 -0.981454 -0.243291\n",
              "51  24413.0  0.415528  1.000101  ...  0.931528  1.261196  2.962752\n",
              "52  24413.0 -0.333242  0.517211  ... -0.271813  0.032490  1.684497\n",
              "53  24413.0 -1.054054  0.130142  ... -1.057733 -0.981936 -0.243291\n",
              "\n",
              "[54 rows x 8 columns]"
            ]
          },
          "metadata": {
            "tags": []
          },
          "execution_count": 12
        }
      ]
    },
    {
      "cell_type": "code",
      "metadata": {
        "id": "39HDZedJkutm",
        "colab_type": "code",
        "colab": {
          "base_uri": "https://localhost:8080/",
          "height": 297
        },
        "outputId": "c95a00aa-5f56-40c5-acf2-ae56d56763a0"
      },
      "source": [
        "nn_target_pd.describe()"
      ],
      "execution_count": 13,
      "outputs": [
        {
          "output_type": "execute_result",
          "data": {
            "text/html": [
              "<div>\n",
              "<style scoped>\n",
              "    .dataframe tbody tr th:only-of-type {\n",
              "        vertical-align: middle;\n",
              "    }\n",
              "\n",
              "    .dataframe tbody tr th {\n",
              "        vertical-align: top;\n",
              "    }\n",
              "\n",
              "    .dataframe thead th {\n",
              "        text-align: right;\n",
              "    }\n",
              "</style>\n",
              "<table border=\"1\" class=\"dataframe\">\n",
              "  <thead>\n",
              "    <tr style=\"text-align: right;\">\n",
              "      <th></th>\n",
              "      <th>0</th>\n",
              "    </tr>\n",
              "  </thead>\n",
              "  <tbody>\n",
              "    <tr>\n",
              "      <th>count</th>\n",
              "      <td>24413.000000</td>\n",
              "    </tr>\n",
              "    <tr>\n",
              "      <th>mean</th>\n",
              "      <td>0.945685</td>\n",
              "    </tr>\n",
              "    <tr>\n",
              "      <th>std</th>\n",
              "      <td>0.847256</td>\n",
              "    </tr>\n",
              "    <tr>\n",
              "      <th>min</th>\n",
              "      <td>0.000000</td>\n",
              "    </tr>\n",
              "    <tr>\n",
              "      <th>25%</th>\n",
              "      <td>0.000000</td>\n",
              "    </tr>\n",
              "    <tr>\n",
              "      <th>50%</th>\n",
              "      <td>1.000000</td>\n",
              "    </tr>\n",
              "    <tr>\n",
              "      <th>75%</th>\n",
              "      <td>2.000000</td>\n",
              "    </tr>\n",
              "    <tr>\n",
              "      <th>max</th>\n",
              "      <td>2.000000</td>\n",
              "    </tr>\n",
              "  </tbody>\n",
              "</table>\n",
              "</div>"
            ],
            "text/plain": [
              "                  0\n",
              "count  24413.000000\n",
              "mean       0.945685\n",
              "std        0.847256\n",
              "min        0.000000\n",
              "25%        0.000000\n",
              "50%        1.000000\n",
              "75%        2.000000\n",
              "max        2.000000"
            ]
          },
          "metadata": {
            "tags": []
          },
          "execution_count": 13
        }
      ]
    },
    {
      "cell_type": "markdown",
      "metadata": {
        "id": "HL5vrGUcdu7p",
        "colab_type": "text"
      },
      "source": [
        "Next, apply the data to the Models\n",
        "\n",
        "1.   Simple Sequential NN\n",
        "2.   Simple LSTM\n",
        "3.   Complex LSTM\n",
        "\n"
      ]
    },
    {
      "cell_type": "code",
      "metadata": {
        "id": "-BwcrjJyxMOT",
        "colab_type": "code",
        "colab": {
          "base_uri": "https://localhost:8080/",
          "height": 68
        },
        "outputId": "a126f274-5793-4bf0-8ab4-02758680b0e5"
      },
      "source": [
        "# Split the data into training and test sets\n",
        "twenty_percent_split = int(np.floor(len(nn_data_np) * 0.8))\n",
        "x_train_split = nn_data_np[0:twenty_percent_split]\n",
        "x_test_split = nn_data_np[twenty_percent_split:]\n",
        "y_train_split = nn_target_np[0:twenty_percent_split]\n",
        "y_test_split = nn_target_np[twenty_percent_split:]\n",
        "\n",
        "# Split the training set into train & validation\n",
        "twenty_percent_validate_split = int(np.floor(len(x_train_split) * 0.8))\n",
        "x_train = x_train_split[0:twenty_percent_validate_split]\n",
        "x_validate = x_train_split[twenty_percent_validate_split:]\n",
        "y_train = y_train_split[0:twenty_percent_validate_split]\n",
        "y_validate =  y_train_split[twenty_percent_validate_split:]\n",
        "\n",
        "print(\"x_train length is: \", len(x_train))\n",
        "print(\"x_validate length is: \", len(x_validate))\n",
        "print(\"x_test_split length is: \", len(x_test_split))"
      ],
      "execution_count": 14,
      "outputs": [
        {
          "output_type": "stream",
          "text": [
            "x_train length is:  15624\n",
            "x_validate length is:  3906\n",
            "x_test_split length is:  4883\n"
          ],
          "name": "stdout"
        }
      ]
    },
    {
      "cell_type": "markdown",
      "metadata": {
        "id": "zW9SF7p2d9f_",
        "colab_type": "text"
      },
      "source": [
        "Simpe Sequential NN"
      ]
    },
    {
      "cell_type": "code",
      "metadata": {
        "id": "xs6tH_CEdzhH",
        "colab_type": "code",
        "colab": {
          "base_uri": "https://localhost:8080/",
          "height": 374
        },
        "outputId": "246c81f0-a520-44c4-da54-61a3e573d6ab"
      },
      "source": [
        "import tensorflow as tf\n",
        "from keras.models import Sequential\n",
        "from keras.layers import Dense, LSTM\n",
        "import tensorflow as tf\n",
        "from keras import backend as K\n",
        "import numpy as np\n",
        "import matplotlib.pyplot as plt\n",
        "\n",
        "# Build the model, compile it, and run the training\n",
        "snn_model = tf.keras.Sequential([\n",
        "    tf.keras.layers.Dense(50, activation='relu'),\n",
        "    tf.keras.layers.Dense(10, activation='relu'),\n",
        "    tf.keras.layers.Dense(3, activation='softmax')\n",
        "  ])\n",
        "\n",
        "snn_model.compile(optimizer='adam',\n",
        "                  loss=\"sparse_categorical_crossentropy\",\n",
        "                  metrics=['accuracy'])\n",
        "\n",
        "snn_history = snn_model.fit(x_train, y_train, epochs=10, batch_size=1, verbose=2, validation_data=(x_validate, y_validate))\n",
        "print(\"Training Completed\")"
      ],
      "execution_count": 15,
      "outputs": [
        {
          "output_type": "stream",
          "text": [
            "Epoch 1/10\n",
            "15624/15624 - 16s - loss: 1.0855 - accuracy: 0.3927 - val_loss: 1.0937 - val_accuracy: 0.3479\n",
            "Epoch 2/10\n",
            "15624/15624 - 16s - loss: 1.0761 - accuracy: 0.4018 - val_loss: 1.0939 - val_accuracy: 0.3671\n",
            "Epoch 3/10\n",
            "15624/15624 - 16s - loss: 1.0714 - accuracy: 0.4091 - val_loss: 1.0995 - val_accuracy: 0.3738\n",
            "Epoch 4/10\n",
            "15624/15624 - 16s - loss: 1.0666 - accuracy: 0.4149 - val_loss: 1.1100 - val_accuracy: 0.3710\n",
            "Epoch 5/10\n",
            "15624/15624 - 16s - loss: 1.0610 - accuracy: 0.4241 - val_loss: 1.1319 - val_accuracy: 0.3917\n",
            "Epoch 6/10\n",
            "15624/15624 - 15s - loss: 1.0578 - accuracy: 0.4238 - val_loss: 1.1132 - val_accuracy: 0.3628\n",
            "Epoch 7/10\n",
            "15624/15624 - 17s - loss: 1.0550 - accuracy: 0.4293 - val_loss: 1.1632 - val_accuracy: 0.3651\n",
            "Epoch 8/10\n",
            "15624/15624 - 16s - loss: 1.0518 - accuracy: 0.4336 - val_loss: 1.1734 - val_accuracy: 0.3694\n",
            "Epoch 9/10\n",
            "15624/15624 - 15s - loss: 1.0495 - accuracy: 0.4345 - val_loss: 1.1216 - val_accuracy: 0.3774\n",
            "Epoch 10/10\n",
            "15624/15624 - 18s - loss: 1.0472 - accuracy: 0.4437 - val_loss: 1.1565 - val_accuracy: 0.3359\n",
            "Training Completed\n"
          ],
          "name": "stdout"
        }
      ]
    },
    {
      "cell_type": "code",
      "metadata": {
        "id": "64oAm1dF2sa-",
        "colab_type": "code",
        "colab": {}
      },
      "source": [
        "# Get the target predictions for the test set on the trained model\n",
        "predict_snn = snn_model.predict(x_test_split)"
      ],
      "execution_count": 16,
      "outputs": []
    },
    {
      "cell_type": "code",
      "metadata": {
        "id": "gdzfXm332FLq",
        "colab_type": "code",
        "colab": {
          "base_uri": "https://localhost:8080/",
          "height": 68
        },
        "outputId": "b1a92fe3-1cb3-457d-d8da-469dbee05c77"
      },
      "source": [
        "# Round and print prediction array to see the results of our model's prediction ability\n",
        "rounded_predict = []\n",
        "correctness = [[0, 0], [0, 0, 0]]\n",
        "target_correctness = [[0, 0, 0], [0, 0, 0], [0, 0, 0]]\n",
        "for i in range(len(predict_snn)):\n",
        "  rounded = []\n",
        "  for j in range(len(predict_snn[i])):\n",
        "    rounded.append(round(predict_snn[i][j], 3))\n",
        "  \n",
        "  # check if the prediction was correct or not\n",
        "  if predict_snn[i][y_test_split[i]] == max(predict_snn[i]):\n",
        "    correctness[0][0] += 1\n",
        "    correctness[0][1] += predict_snn[i][y_test_split[i]]\n",
        "    target_correctness[y_test_split[i]][0] += 1\n",
        "  else:\n",
        "    correctness[1][0] += 1\n",
        "    correctness[1][1] += predict_snn[i][y_test_split[i]]\n",
        "    correctness[1][2] += max(predict_snn[i])\n",
        "    target_correctness[y_test_split[i]][1] += 1\n",
        "  rounded_predict.append(rounded)\n",
        "\n",
        "if DEBUG_OUTPUT:\n",
        "  # compare actual score vs prediction for a subset of the array\n",
        "  for i in range(1,80):\n",
        "    print(y_test_split[i], rounded_predict[i][y_test_split[i]])\n",
        "\n",
        "# Calculate the means for the predictions of correct and incorrect predictions\n",
        "correctness[0][1] = correctness[0][1] / correctness[0][0]\n",
        "correctness[1][1] = correctness[1][1] / correctness[1][0]\n",
        "correctness[1][2] = correctness[1][2] / correctness[1][0]\n",
        "percent_correct = correctness[0][0] / (correctness[0][0]+correctness[1][0])\n",
        "target_correctness[0][2] = target_correctness[0][0] / (target_correctness[0][0]+target_correctness[0][1])\n",
        "target_correctness[1][2] = target_correctness[1][0] / (target_correctness[1][0]+target_correctness[1][1])\n",
        "target_correctness[2][2] = target_correctness[2][0] / (target_correctness[2][0]+target_correctness[2][1])\n",
        "\n",
        "print(\"Results: \", correctness)\n",
        "print(\"Percentage Correct: \", percent_correct*100)\n",
        "print(\"Predictions per target value: \", target_correctness)"
      ],
      "execution_count": 17,
      "outputs": [
        {
          "output_type": "stream",
          "text": [
            "Results:  [[1599, 0.4368302429781026], [3284, 0.2941925811401444, 0.421576911554049]]\n",
            "Percentage Correct:  32.74626254351833\n",
            "Predictions per target value:  [[474, 1537, 0.23570363003480854], [53, 1393, 0.03665283540802213], [1072, 354, 0.7517531556802244]]\n"
          ],
          "name": "stdout"
        }
      ]
    },
    {
      "cell_type": "code",
      "metadata": {
        "id": "KNWfXaG66PLt",
        "colab_type": "code",
        "colab": {
          "base_uri": "https://localhost:8080/",
          "height": 51
        },
        "outputId": "77d8ccba-f1ed-4de5-d99c-e9effd36da34"
      },
      "source": [
        "# Print the max & min values for prediction of each confusion score\n",
        "prediction_max = [0,0,0]\n",
        "prediction_min = [1,1,1]\n",
        "for i in range(len(rounded_predict)):\n",
        "  for k in range(len(rounded_predict[i])):\n",
        "    if predict_snn[i][k] > prediction_max[k]:\n",
        "      prediction_max[k] = predict_snn[i][k]\n",
        "    if predict_snn[i][k] < prediction_min[k]:\n",
        "      prediction_min[k] = predict_snn[i][k]\n",
        "\n",
        "print(\"max probability predictions: \", prediction_max)\n",
        "print(\"min probability predictions: \", prediction_min)"
      ],
      "execution_count": 18,
      "outputs": [
        {
          "output_type": "stream",
          "text": [
            "max probability predictions:  [0.9347983, 0.9998516, 0.9416299]\n",
            "min probability predictions:  [0.00014840427, 0.010750251, 2.3145747e-08]\n"
          ],
          "name": "stdout"
        }
      ]
    },
    {
      "cell_type": "code",
      "metadata": {
        "id": "nSw30-5-gPDK",
        "colab_type": "code",
        "colab": {
          "base_uri": "https://localhost:8080/",
          "height": 760
        },
        "outputId": "91ea376d-be5d-4299-9bf9-ee54210c41ce"
      },
      "source": [
        "## Visualize Results      source: https://machinelearningmastery.com/display-deep-learning-model-training-history-in-keras/\n",
        "\n",
        "# summarize snn_history for accuracy\n",
        "plt.plot(snn_history.history['accuracy'])\n",
        "plt.plot(snn_history.history['val_accuracy'])\n",
        "plt.title('snn_history Accuracy')\n",
        "plt.ylabel('accuracy')\n",
        "plt.xlabel('epoch')\n",
        "plt.legend(['train', 'test'], loc='upper left')\n",
        "plt.show()\n",
        "# summarize snn_history for loss\n",
        "plt.plot(snn_history.history['loss'])\n",
        "plt.plot(snn_history.history['val_loss'])\n",
        "plt.title('snn_history Loss')\n",
        "plt.ylabel('loss')\n",
        "plt.xlabel('epoch')\n",
        "plt.legend(['train', 'test'], loc='upper left')\n",
        "plt.show()\n",
        "\n",
        "history_pd = pd.DataFrame(snn_history.history)\n",
        "print(history_pd)"
      ],
      "execution_count": 19,
      "outputs": [
        {
          "output_type": "display_data",
          "data": {
            "image/png": "[encoded data removed]",
            "text/plain": [
              "<Figure size 432x288 with 1 Axes>"
            ]
          },
          "metadata": {
            "tags": [],
            "needs_background": "light"
          }
        },
        {
          "output_type": "display_data",
          "data": {
            "image/png": "[encoded data removed]",
            "text/plain": [
              "<Figure size 432x288 with 1 Axes>"
            ]
          },
          "metadata": {
            "tags": [],
            "needs_background": "light"
          }
        },
        {
          "output_type": "stream",
          "text": [
            "       loss  accuracy  val_loss  val_accuracy\n",
            "0  1.085521  0.392665  1.093660      0.347926\n",
            "1  1.076105  0.401754  1.093900      0.367128\n",
            "2  1.071445  0.409050  1.099505      0.373784\n",
            "3  1.066568  0.414939  1.110025      0.370968\n",
            "4  1.061024  0.424091  1.131882      0.391705\n",
            "5  1.057789  0.423835  1.113187      0.362775\n",
            "6  1.054989  0.429339  1.163188      0.365079\n",
            "7  1.051824  0.433564  1.173426      0.369432\n",
            "8  1.049507  0.434524  1.121618      0.377368\n",
            "9  1.047176  0.443740  1.156505      0.335894\n"
          ],
          "name": "stdout"
        }
      ]
    },
    {
      "cell_type": "markdown",
      "metadata": {
        "id": "8OkaDbzojXyL",
        "colab_type": "text"
      },
      "source": [
        "**Create a 3D array with a constant step-size for the LSTM**"
      ]
    },
    {
      "cell_type": "code",
      "metadata": {
        "id": "_y-iAxaQjVKN",
        "colab_type": "code",
        "colab": {
          "base_uri": "https://localhost:8080/",
          "height": 34
        },
        "outputId": "6104ec7b-3e43-4798-8c7e-ee0eafaff33b"
      },
      "source": [
        "import numpy as np\n",
        "\n",
        "number_of_features = 54\n",
        "window_size = 10\n",
        "window_size_array_x = []\n",
        "window_size_array_y = []\n",
        "index = 0\n",
        "while index <= len(nn_data):\n",
        "  if index+window_size > len(nn_data):\n",
        "    break\n",
        "  data_x = []\n",
        "  data_y = []\n",
        "  for i in range(index, index+window_size, 1):\n",
        "    data_x.append(tf.convert_to_tensor(nn_data[i][:number_of_features]))\n",
        "    data_y.append(tf.convert_to_tensor(nn_target_reduced[i]))\n",
        "  window_size_array_x.append(data_x)\n",
        "  window_size_array_y.append(data_y)\n",
        "  index += window_size\n",
        "\n",
        "print(\"Completed reshaping the array based on Window Size\")"
      ],
      "execution_count": 20,
      "outputs": [
        {
          "output_type": "stream",
          "text": [
            "Completed reshaping the array based on Window Size\n"
          ],
          "name": "stdout"
        }
      ]
    },
    {
      "cell_type": "markdown",
      "metadata": {
        "id": "yjg_Klok4z4q",
        "colab_type": "text"
      },
      "source": [
        "### Train Model"
      ]
    },
    {
      "cell_type": "code",
      "metadata": {
        "id": "7lsiXSv341Iz",
        "colab_type": "code",
        "colab": {
          "base_uri": "https://localhost:8080/",
          "height": 170
        },
        "outputId": "058a21c0-8038-470c-a844-8f6045bfd926"
      },
      "source": [
        "## THIS CELL TAKES QUITE A WHILE TO PROCESS (just a heads up)\n",
        "\n",
        "# Split the data into training and test sets\n",
        "twenty_percent_split = int(np.floor(len(window_size_array_x) * 0.8))\n",
        "x_train_split = window_size_array_x[0:twenty_percent_split]\n",
        "x_test_split = window_size_array_x[twenty_percent_split:]\n",
        "y_train_split = window_size_array_y[0:twenty_percent_split]\n",
        "y_test_split = window_size_array_y[twenty_percent_split:]\n",
        "\n",
        "# Split the training set into train & validation\n",
        "twenty_percent_validate_split = int(np.floor(len(x_train_split) * 0.8))\n",
        "x_train_temp = x_train_split[0:twenty_percent_validate_split]\n",
        "x_validate = x_train_split[twenty_percent_validate_split:]\n",
        "y_train_temp = y_train_split[0:twenty_percent_validate_split]\n",
        "y_validate =  y_train_split[twenty_percent_validate_split:]\n",
        "print(\"arrays have been split\")\n",
        "\n",
        "# Convert the arrays into npArrays\n",
        "x_train_lstm = np.asarray(x_train_temp)\n",
        "print(\"x_train_temp has been converted to np\")\n",
        "x_validate_lstm = np.asarray(x_validate)\n",
        "print(\"x_validate has been converted to np\")\n",
        "x_test_lstm = np.asarray(x_test_split)\n",
        "print(\"x_test1 has been converted to np\")\n",
        "y_train_lstm = np.asarray(y_train_temp)\n",
        "print(\"y_train_temp has been converted to np\")\n",
        "y_validate_lstm = np.asarray(y_validate)\n",
        "print(\"y_validate has been converted to np\")\n",
        "y_test_lstm = np.asarray(y_test_split)\n",
        "print(\"y_test1 has been converted to np\")\n",
        "\n",
        "print(\"x_train_lstm shape is: \", x_train_lstm.shape)\n",
        "print(\"x_validate_lstm shape is: \", x_validate_lstm.shape)"
      ],
      "execution_count": 21,
      "outputs": [
        {
          "output_type": "stream",
          "text": [
            "arrays have been split\n",
            "x_train_temp has been converted to np\n",
            "x_validate has been converted to np\n",
            "x_test1 has been converted to np\n",
            "y_train_temp has been converted to np\n",
            "y_validate has been converted to np\n",
            "y_test1 has been converted to np\n",
            "x_train_lstm shape is:  (1561, 10, 54)\n",
            "x_validate_lstm shape is:  (391, 10, 54)\n"
          ],
          "name": "stdout"
        }
      ]
    },
    {
      "cell_type": "markdown",
      "metadata": {
        "id": "Rm-KDhmueE7T",
        "colab_type": "text"
      },
      "source": [
        "Simple LSTM"
      ]
    },
    {
      "cell_type": "code",
      "metadata": {
        "id": "dM3za1ER24Ku",
        "colab_type": "code",
        "colab": {
          "base_uri": "https://localhost:8080/",
          "height": 255
        },
        "outputId": "b384e85a-54c5-4c71-ffa3-317344df92ff"
      },
      "source": [
        "import tensorflow as tf\n",
        "from keras.models import Sequential\n",
        "from keras.layers import Dense, LSTM\n",
        "import tensorflow as tf\n",
        "from keras import backend as K\n",
        "import numpy as np\n",
        "import matplotlib.pyplot as plt\n",
        "\n",
        "# We will use EarlyStopping to limit required amount of epochs with: ,callbacks = [early_stopping]\n",
        "from keras.callbacks import EarlyStopping\n",
        "early_stopping = EarlyStopping(monitor='val_loss', patience=4, mode='auto')\n",
        "\n",
        "# As a general rule-of-thumb, the number of hidden layers should roughly equal Ns / (alpha*(Ni+No))\n",
        "hidden_nodes = int(len(x_train_lstm) / (6 * (54+3)))\n",
        "print(\"number of hidden nodes: \", hidden_nodes)\n",
        "\n",
        "# Build the simple LSTM, comprised of a single LSTM layer\n",
        "simple_lstm_model = tf.keras.models.Sequential([\n",
        "    # Shape [batch, time, features] => [batch, time, lstm_units]\n",
        "    tf.keras.layers.LSTM(hidden_nodes, return_sequences=True),\n",
        "    tf.keras.layers.Dense(3, activation='softmax')\n",
        "])\n",
        "\n",
        "# Compile the model using Adam optimization, as it is considered the best for LSTMs\n",
        "simple_lstm_model.compile(optimizer='adam',\n",
        "                               loss=\"sparse_categorical_crossentropy\",\n",
        "                            metrics=['accuracy'])\n",
        "\n",
        "simple_lstm_history = simple_lstm_model.fit(x_train_lstm, y_train_lstm, \n",
        "                                            batch_size=window_size, epochs=10, verbose=2,\n",
        "                                            callbacks=[early_stopping],\n",
        "                                            validation_data=(x_validate_lstm, y_validate_lstm))\n",
        "\n",
        "print(\"Training Completed\")"
      ],
      "execution_count": 22,
      "outputs": [
        {
          "output_type": "stream",
          "text": [
            "number of hidden nodes:  4\n",
            "Epoch 1/10\n",
            "157/157 - 1s - loss: 1.0911 - accuracy: 0.3717 - val_loss: 1.0840 - val_accuracy: 0.4077\n",
            "Epoch 2/10\n",
            "157/157 - 1s - loss: 1.0849 - accuracy: 0.3945 - val_loss: 1.0789 - val_accuracy: 0.4315\n",
            "Epoch 3/10\n",
            "157/157 - 1s - loss: 1.0815 - accuracy: 0.4076 - val_loss: 1.0838 - val_accuracy: 0.3887\n",
            "Epoch 4/10\n",
            "157/157 - 1s - loss: 1.0783 - accuracy: 0.4088 - val_loss: 1.0816 - val_accuracy: 0.4210\n",
            "Epoch 5/10\n",
            "157/157 - 1s - loss: 1.0776 - accuracy: 0.4098 - val_loss: 1.0910 - val_accuracy: 0.3363\n",
            "Epoch 6/10\n",
            "157/157 - 1s - loss: 1.0746 - accuracy: 0.4159 - val_loss: 1.0893 - val_accuracy: 0.3609\n",
            "Training Completed\n"
          ],
          "name": "stdout"
        }
      ]
    },
    {
      "cell_type": "markdown",
      "metadata": {
        "id": "JfxVvCwqeHf8",
        "colab_type": "text"
      },
      "source": [
        "Complex LSTM"
      ]
    },
    {
      "cell_type": "code",
      "metadata": {
        "id": "ZvKKlLDHUyFa",
        "colab_type": "code",
        "colab": {
          "base_uri": "https://localhost:8080/",
          "height": 374
        },
        "outputId": "1f630fe7-d880-4856-ef53-c4a0627e4abc"
      },
      "source": [
        "# Construct the complex LSTM using 3 LSTM layers \n",
        "# With 20% random node dropouts between each layer to prevent overfitting\n",
        "complex_lstm_model = tf.keras.models.Sequential([\n",
        "    # Shape [batch, time, features] => [batch, time, lstm_units]\n",
        "    tf.keras.layers.LSTM(hidden_nodes, return_sequences=True),\n",
        "    tf.keras.layers.Dropout(0.2),\n",
        "    tf.keras.layers.LSTM(hidden_nodes, return_sequences=True),\n",
        "    tf.keras.layers.Dropout(0.2),\n",
        "    tf.keras.layers.LSTM(hidden_nodes, return_sequences=True),\n",
        "    tf.keras.layers.Dropout(0.2),\n",
        "    tf.keras.layers.Dense(3, activation='softmax')\n",
        "])\n",
        "\n",
        "# Compile the model using Adam optimization, as it is considered the best for LSTMs\n",
        "complex_lstm_model.compile(optimizer='adam',\n",
        "                                loss=\"sparse_categorical_crossentropy\",\n",
        "                             metrics=['accuracy'])\n",
        "\n",
        "complex_lstm_history = complex_lstm_model.fit(x_train_lstm, y_train_lstm, \n",
        "                                              batch_size=window_size, epochs=10, verbose=2,\n",
        "                                              callbacks=[early_stopping],\n",
        "                                              validation_data=(x_validate_lstm, y_validate_lstm))\n",
        "\n",
        "print(\"Training Completed\")"
      ],
      "execution_count": 23,
      "outputs": [
        {
          "output_type": "stream",
          "text": [
            "Epoch 1/10\n",
            "157/157 - 3s - loss: 1.0927 - accuracy: 0.3596 - val_loss: 1.0872 - val_accuracy: 0.4028\n",
            "Epoch 2/10\n",
            "157/157 - 2s - loss: 1.0899 - accuracy: 0.3685 - val_loss: 1.0853 - val_accuracy: 0.3969\n",
            "Epoch 3/10\n",
            "157/157 - 2s - loss: 1.0885 - accuracy: 0.3817 - val_loss: 1.0817 - val_accuracy: 0.4233\n",
            "Epoch 4/10\n",
            "157/157 - 2s - loss: 1.0874 - accuracy: 0.3810 - val_loss: 1.0838 - val_accuracy: 0.4159\n",
            "Epoch 5/10\n",
            "157/157 - 2s - loss: 1.0858 - accuracy: 0.3849 - val_loss: 1.0843 - val_accuracy: 0.4138\n",
            "Epoch 6/10\n",
            "157/157 - 2s - loss: 1.0844 - accuracy: 0.3908 - val_loss: 1.0837 - val_accuracy: 0.4105\n",
            "Epoch 7/10\n",
            "157/157 - 2s - loss: 1.0826 - accuracy: 0.3898 - val_loss: 1.0808 - val_accuracy: 0.4253\n",
            "Epoch 8/10\n",
            "157/157 - 2s - loss: 1.0815 - accuracy: 0.3972 - val_loss: 1.0839 - val_accuracy: 0.4133\n",
            "Epoch 9/10\n",
            "157/157 - 2s - loss: 1.0815 - accuracy: 0.3984 - val_loss: 1.0827 - val_accuracy: 0.4038\n",
            "Epoch 10/10\n",
            "157/157 - 2s - loss: 1.0819 - accuracy: 0.3965 - val_loss: 1.0830 - val_accuracy: 0.4100\n",
            "Training Completed\n"
          ],
          "name": "stdout"
        }
      ]
    },
    {
      "cell_type": "code",
      "metadata": {
        "id": "XHUF125l_IZp",
        "colab_type": "code",
        "colab": {}
      },
      "source": [
        "# Get the target predictions for the test set on the trained model\n",
        "predict_simple_lstm = simple_lstm_model.predict(x_test_lstm)\n",
        "predict_complex_lstm = complex_lstm_model.predict(x_test_lstm)"
      ],
      "execution_count": 24,
      "outputs": []
    },
    {
      "cell_type": "code",
      "metadata": {
        "id": "GrFp8qeY_Jrm",
        "colab_type": "code",
        "colab": {
          "base_uri": "https://localhost:8080/",
          "height": 68
        },
        "outputId": "26c9f831-7c01-48ab-c573-7d4d4f13a895"
      },
      "source": [
        "# Round and print prediction array to see the results of our model's prediction ability\n",
        "rounded_predict = []\n",
        "correctness = [[0, 0], [0, 0, 0]]\n",
        "target_correctness = [[0, 0, 0], [0, 0, 0], [0, 0, 0]]\n",
        "for i in range(len(predict_simple_lstm)):\n",
        "  rounded = []\n",
        "  for j in range(len(predict_simple_lstm[i])):\n",
        "    rounded_array = []\n",
        "    for k in range(len(predict_simple_lstm[i][j])):\n",
        "      rounded_array.append(round(predict_simple_lstm[i][j][k], 3))\n",
        "    \n",
        "    # check if the prediction was correct or not\n",
        "    if predict_simple_lstm[i][j][y_test_lstm[i][j]] == max(predict_simple_lstm[i][j]):\n",
        "      correctness[0][0] += 1\n",
        "      correctness[0][1] += predict_simple_lstm[i][j][y_test_lstm[i][j]]\n",
        "      target_correctness[y_test_lstm[i][j]][0] += 1\n",
        "    else:\n",
        "      correctness[1][0] += 1\n",
        "      correctness[1][1] += predict_simple_lstm[i][j][y_test_lstm[i][j]]\n",
        "      correctness[1][2] += max(predict_simple_lstm[i][j])\n",
        "      target_correctness[y_test_lstm[i][j]][1] += 1\n",
        "    rounded.append(rounded_array)\n",
        "  rounded_predict.append(rounded)\n",
        "\n",
        "\n",
        "if DEBUG_OUTPUT:\n",
        "  # Compare actual score vs prediction for a subset of the array\n",
        "  for j in range(1,20):\n",
        "    for i in range(window_size):\n",
        "      print(y_test_lstm[j][i], rounded_predict[j][i][y_test_lstm[j][i]])\n",
        "\n",
        "# Calculate the means for the predictions of correct and incorrect predictions\n",
        "correctness[0][1] = correctness[0][1] / correctness[0][0]\n",
        "correctness[1][1] = correctness[1][1] / correctness[1][0]\n",
        "correctness[1][2] = correctness[1][2] / correctness[1][0]\n",
        "percent_correct = correctness[0][0] / (correctness[0][0]+correctness[1][0])\n",
        "target_correctness[0][2] = target_correctness[0][0] / (target_correctness[0][0]+target_correctness[0][1])\n",
        "target_correctness[1][2] = target_correctness[1][0] / (target_correctness[1][0]+target_correctness[1][1])\n",
        "target_correctness[2][2] = target_correctness[2][0] / (target_correctness[2][0]+target_correctness[2][1])\n",
        "\n",
        "print(\"sLSTM Results: \", correctness)\n",
        "print(\"Percentage Correct: \", percent_correct*100)\n",
        "print(\"Correct/Incorrect predictions per target value: \", target_correctness)\n"
      ],
      "execution_count": 25,
      "outputs": [
        {
          "output_type": "stream",
          "text": [
            "sLSTM Results:  [[1674, 0.3966070521476021], [3216, 0.3030956712417045, 0.39667439022430434]]\n",
            "Percentage Correct:  34.23312883435583\n",
            "Correct/Incorrect predictions per target value:  [[930, 1087, 0.46108081308874566], [59, 1388, 0.04077401520387008], [685, 741, 0.4803646563814867]]\n"
          ],
          "name": "stdout"
        }
      ]
    },
    {
      "cell_type": "code",
      "metadata": {
        "id": "x0kpYmtCqNLu",
        "colab_type": "code",
        "colab": {
          "base_uri": "https://localhost:8080/",
          "height": 68
        },
        "outputId": "0a7742a7-94e1-45f5-8765-5e4d61b819f1"
      },
      "source": [
        "# Round and print prediction array to see the results of our model's prediction ability\n",
        "rounded_predict = []\n",
        "correctness = [[0, 0], [0, 0, 0]]\n",
        "target_correctness = [[0, 0, 0], [0, 0, 0], [0, 0, 0]]\n",
        "for i in range(len(predict_complex_lstm)):\n",
        "  rounded = []\n",
        "  for j in range(len(predict_complex_lstm[i])):\n",
        "    rounded_array = []\n",
        "    for k in range(len(predict_complex_lstm[i][j])):\n",
        "      rounded_array.append(round(predict_complex_lstm[i][j][k], 3))\n",
        "      # check if the prediction was correct or not\n",
        "    if predict_complex_lstm[i][j][y_test_lstm[i][j]] == max(predict_complex_lstm[i][j]):\n",
        "      correctness[0][0] += 1\n",
        "      correctness[0][1] += predict_complex_lstm[i][j][y_test_lstm[i][j]]\n",
        "      target_correctness[y_test_lstm[i][j]][0] += 1\n",
        "    else:\n",
        "      correctness[1][0] += 1\n",
        "      correctness[1][1] += predict_complex_lstm[i][j][y_test_lstm[i][j]]\n",
        "      correctness[1][2] += max(predict_complex_lstm[i][j])\n",
        "      target_correctness[y_test_lstm[i][j]][1] += 1\n",
        "    rounded.append(rounded_array)\n",
        "  rounded_predict.append(rounded)\n",
        "\n",
        "if DEBUG_OUTPUT:\n",
        "  # Compare actual score vs prediction for a subset of the array\n",
        "  for j in range(1,20):\n",
        "    for i in range(window_size):\n",
        "      print(y_test_lstm[j][i], rounded_predict[j][i][y_test_lstm[j][i]])\n",
        "\n",
        "# Calculate the means for the predictions of correct and incorrect predictions\n",
        "correctness[0][1] = correctness[0][1] / correctness[0][0]\n",
        "correctness[1][1] = correctness[1][1] / correctness[1][0]\n",
        "correctness[1][2] = correctness[1][2] / correctness[1][0]\n",
        "percent_correct = correctness[0][0] / (correctness[0][0]+correctness[1][0])\n",
        "target_correctness[0][2] = target_correctness[0][0] / (target_correctness[0][0]+target_correctness[0][1])\n",
        "target_correctness[1][2] = target_correctness[1][0] / (target_correctness[1][0]+target_correctness[1][1])\n",
        "target_correctness[2][2] = target_correctness[2][0] / (target_correctness[2][0]+target_correctness[2][1])\n",
        "\n",
        "print(\"cLSTM Results: \", correctness)\n",
        "print(\"Percentage Correct: \", percent_correct*100)\n",
        "print(\"Correct/Incorrect predictions per target value: \", target_correctness)\n"
      ],
      "execution_count": 26,
      "outputs": [
        {
          "output_type": "stream",
          "text": [
            "cLSTM Results:  [[1847, 0.38693710353223454], [3043, 0.3038911682051967, 0.3885947218604907]]\n",
            "Percentage Correct:  37.77096114519428\n",
            "Correct/Incorrect predictions per target value:  [[1455, 562, 0.7213683688646505], [46, 1401, 0.03178991015894955], [346, 1080, 0.2426367461430575]]\n"
          ],
          "name": "stdout"
        }
      ]
    },
    {
      "cell_type": "code",
      "metadata": {
        "id": "uuHUfRMhBUIt",
        "colab_type": "code",
        "colab": {
          "base_uri": "https://localhost:8080/",
          "height": 51
        },
        "outputId": "5241f8fe-e9f7-4df2-b442-2d703e9d7046"
      },
      "source": [
        "# Print the max & min values for prediction of each confusion score\n",
        "prediction_max = [0,0,0]\n",
        "prediction_min = [1,1,1]\n",
        "for i in range(len(rounded_predict)):\n",
        "  for j in range(len(rounded_predict[i])):\n",
        "    for k in range(len(rounded_predict[i][j])):\n",
        "      if predict_simple_lstm[i][j][k] > prediction_max[k]:\n",
        "        prediction_max[k] = predict_simple_lstm[i][j][k]\n",
        "      if predict_simple_lstm[i][j][k] < prediction_min[k]:\n",
        "        prediction_min[k] = predict_simple_lstm[i][j][k]\n",
        "\n",
        "print(\"max probability predictions: \", prediction_max)\n",
        "print(\"min probability predictions: \", prediction_min)"
      ],
      "execution_count": 27,
      "outputs": [
        {
          "output_type": "stream",
          "text": [
            "max probability predictions:  [0.62078875, 0.47404826, 0.48218393]\n",
            "min probability predictions:  [0.2349295, 0.13769966, 0.15763238]\n"
          ],
          "name": "stdout"
        }
      ]
    },
    {
      "cell_type": "code",
      "metadata": {
        "id": "iSiKH-DPqpCh",
        "colab_type": "code",
        "colab": {
          "base_uri": "https://localhost:8080/",
          "height": 51
        },
        "outputId": "1ae1949f-a940-4982-8026-fa9c226009db"
      },
      "source": [
        "# Print the max & min values for prediction of each confusion score\n",
        "prediction_max = [0,0,0]\n",
        "prediction_min = [1,1,1]\n",
        "for i in range(len(rounded_predict)):\n",
        "  for j in range(len(rounded_predict[i])):\n",
        "    for k in range(len(rounded_predict[i][j])):\n",
        "      if predict_complex_lstm[i][j][k] > prediction_max[k]:\n",
        "        prediction_max[k] = predict_complex_lstm[i][j][k]\n",
        "      if predict_complex_lstm[i][j][k] < prediction_min[k]:\n",
        "        prediction_min[k] = predict_complex_lstm[i][j][k]\n",
        "\n",
        "print(\"max probability predictions: \", prediction_max)\n",
        "print(\"min probability predictions: \", prediction_min)"
      ],
      "execution_count": 28,
      "outputs": [
        {
          "output_type": "stream",
          "text": [
            "max probability predictions:  [0.5155994, 0.39589193, 0.46297148]\n",
            "min probability predictions:  [0.2777916, 0.15406656, 0.2546752]\n"
          ],
          "name": "stdout"
        }
      ]
    },
    {
      "cell_type": "code",
      "metadata": {
        "id": "ymVltw92YwXo",
        "colab_type": "code",
        "colab": {
          "base_uri": "https://localhost:8080/",
          "height": 692
        },
        "outputId": "d545148a-74be-48c8-80fc-4e35069b7f98"
      },
      "source": [
        "## Visualize Results      source: https://machinelearningmastery.com/display-deep-learning-model-training-history-in-keras/\n",
        "\n",
        "# summarize lstm_history for accuracy\n",
        "plt.plot(simple_lstm_history.history['accuracy'])\n",
        "plt.plot(simple_lstm_history.history['val_accuracy'])\n",
        "plt.title('lstm_history Accuracy')\n",
        "plt.ylabel('accuracy')\n",
        "plt.xlabel('epoch')\n",
        "plt.legend(['train', 'test'], loc='upper left')\n",
        "plt.show()\n",
        "# summarize lstm_history for loss\n",
        "plt.plot(simple_lstm_history.history['loss'])\n",
        "plt.plot(simple_lstm_history.history['val_loss'])\n",
        "plt.title('lstm_history Loss')\n",
        "plt.ylabel('loss')\n",
        "plt.xlabel('epoch')\n",
        "plt.legend(['train', 'test'], loc='upper left')\n",
        "plt.show()\n",
        "\n",
        "history_pd = pd.DataFrame(simple_lstm_history.history)\n",
        "print(history_pd)\n"
      ],
      "execution_count": 29,
      "outputs": [
        {
          "output_type": "display_data",
          "data": {
            "image/png": "[encoded data removed]",
            "text/plain": [
              "<Figure size 432x288 with 1 Axes>"
            ]
          },
          "metadata": {
            "tags": [],
            "needs_background": "light"
          }
        },
        {
          "output_type": "display_data",
          "data": {
            "image/png": "[encoded data removed]",
            "text/plain": [
              "<Figure size 432x288 with 1 Axes>"
            ]
          },
          "metadata": {
            "tags": [],
            "needs_background": "light"
          }
        },
        {
          "output_type": "stream",
          "text": [
            "       loss  accuracy  val_loss  val_accuracy\n",
            "0  1.091096  0.371685  1.084045      0.407673\n",
            "1  1.084946  0.394491  1.078854      0.431458\n",
            "2  1.081517  0.407559  1.083802      0.388747\n",
            "3  1.078287  0.408840  1.081648      0.420972\n",
            "4  1.077577  0.409801  1.091028      0.336317\n",
            "5  1.074593  0.415887  1.089284      0.360870\n"
          ],
          "name": "stdout"
        }
      ]
    },
    {
      "cell_type": "code",
      "metadata": {
        "id": "bfrdELOOrdOB",
        "colab_type": "code",
        "colab": {
          "base_uri": "https://localhost:8080/",
          "height": 760
        },
        "outputId": "9d8b77a7-c421-486e-c8ec-e967ce3b8375"
      },
      "source": [
        "## Visualize Results      source: https://machinelearningmastery.com/display-deep-learning-model-training-history-in-keras/\n",
        "\n",
        "# summarize lstm_history for accuracy\n",
        "plt.plot(complex_lstm_history.history['accuracy'])\n",
        "plt.plot(complex_lstm_history.history['val_accuracy'])\n",
        "plt.title('lstm_history Accuracy')\n",
        "plt.ylabel('accuracy')\n",
        "plt.xlabel('epoch')\n",
        "plt.legend(['train', 'test'], loc='upper left')\n",
        "plt.show()\n",
        "# summarize lstm_history for loss\n",
        "plt.plot(complex_lstm_history.history['loss'])\n",
        "plt.plot(complex_lstm_history.history['val_loss'])\n",
        "plt.title('lstm_history Loss')\n",
        "plt.ylabel('loss')\n",
        "plt.xlabel('epoch')\n",
        "plt.legend(['train', 'test'], loc='upper left')\n",
        "plt.show()\n",
        "\n",
        "history_pd = pd.DataFrame(complex_lstm_history.history)\n",
        "print(history_pd)\n"
      ],
      "execution_count": 30,
      "outputs": [
        {
          "output_type": "display_data",
          "data": {
            "image/png": "[encoded data removed]",
            "text/plain": [
              "<Figure size 432x288 with 1 Axes>"
            ]
          },
          "metadata": {
            "tags": [],
            "needs_background": "light"
          }
        },
        {
          "output_type": "display_data",
          "data": {
            "image/png": "[encoded data removed]",
            "text/plain": [
              "<Figure size 432x288 with 1 Axes>"
            ]
          },
          "metadata": {
            "tags": [],
            "needs_background": "light"
          }
        },
        {
          "output_type": "stream",
          "text": [
            "       loss  accuracy  val_loss  val_accuracy\n",
            "0  1.092677  0.359641  1.087179      0.402813\n",
            "1  1.089936  0.368482  1.085314      0.396931\n",
            "2  1.088456  0.381742  1.081735      0.423274\n",
            "3  1.087439  0.381038  1.083754      0.415857\n",
            "4  1.085837  0.384881  1.084336      0.413811\n",
            "5  1.084402  0.390839  1.083678      0.410486\n",
            "6  1.082623  0.389814  1.080794      0.425320\n",
            "7  1.081508  0.397245  1.083904      0.413299\n",
            "8  1.081504  0.398398  1.082667      0.403836\n",
            "9  1.081908  0.396541  1.082999      0.409974\n"
          ],
          "name": "stdout"
        }
      ]
    }
  ]
}
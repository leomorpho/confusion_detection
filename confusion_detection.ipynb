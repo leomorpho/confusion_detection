{
  "nbformat": 4,
  "nbformat_minor": 0,
  "metadata": {
    "colab": {
      "name": "confusion_detection.ipynb",
      "provenance": [],
      "collapsed_sections": []
    },
    "kernelspec": {
      "name": "python3",
      "display_name": "Python 3"
    }
  },
  "cells": [
    {
      "cell_type": "code",
      "metadata": {
        "id": "As1Y8fC8cQo-",
        "colab_type": "code",
        "colab": {
          "base_uri": "https://localhost:8080/",
          "height": 34
        },
        "outputId": "b420f951-4bb8-4109-a73d-31dedf691f3f"
      },
      "source": [
        "# If pulled changes from github are not reflected, uncomment this code block. Furthermore, restart all of your runtimes. \n",
        "# Colab sometimes seems to cache executed code from github, not using the latest pulled changes.\n",
        "# %cd /content\n",
        "# !rm -rf *"
      ],
      "execution_count": null,
      "outputs": [
        {
          "output_type": "stream",
          "text": [
            "/content\n"
          ],
          "name": "stdout"
        }
      ]
    },
    {
      "cell_type": "markdown",
      "metadata": {
        "id": "CvYhGcFL1Xws",
        "colab_type": "text"
      },
      "source": [
        "## Download our dataset from our Dropbox and our main dependencies\n",
        "Make sure to add all newly created data to the `combined_jsons` folder in our shared dropbox. The data will be directly curled from it."
      ]
    },
    {
      "cell_type": "code",
      "metadata": {
        "id": "jPynH3BYQ8A9",
        "colab_type": "code",
        "colab": {
          "base_uri": "https://localhost:8080/",
          "height": 170
        },
        "outputId": "897ee0cb-30d9-46aa-e2db-940799d9b035"
      },
      "source": [
        "import os\n",
        "\n",
        "REPO = \"confusion_detection\"\n",
        "%cd /content\n",
        "\n",
        "if not os.path.exists(f\"/content/{REPO}\"):\n",
        "  !rm -rf *\n",
        "  !git clone https://github.com/leomorpho/confusion_detection.git\n",
        "  %cd confusion_detection\n",
        "else:\n",
        "  %cd /content\n",
        "  %cd confusion_detection\n",
        "  !git fetch --all\n",
        "  !git reset --hard origin/master\n",
        "\n",
        "assert(os.getcwd() == \"/content/confusion_detection\")"
      ],
      "execution_count": null,
      "outputs": [
        {
          "output_type": "stream",
          "text": [
            "/content\n",
            "Cloning into 'confusion_detection'...\n",
            "remote: Enumerating objects: 893, done.\u001b[K\n",
            "remote: Counting objects: 100% (893/893), done.\u001b[K\n",
            "remote: Compressing objects: 100% (662/662), done.\u001b[K\n",
            "remote: Total 7404 (delta 434), reused 674 (delta 219), pack-reused 6511\u001b[K\n",
            "Receiving objects: 100% (7404/7404), 154.33 MiB | 21.72 MiB/s, done.\n",
            "Resolving deltas: 100% (671/671), done.\n",
            "/content/confusion_detection\n"
          ],
          "name": "stdout"
        }
      ]
    },
    {
      "cell_type": "markdown",
      "metadata": {
        "id": "8Vh1vJwa4qGm",
        "colab_type": "text"
      },
      "source": [
        "## Preprocess"
      ]
    },
    {
      "cell_type": "code",
      "metadata": {
        "id": "OtK_Uvwi3bns",
        "colab_type": "code",
        "colab": {
          "base_uri": "https://localhost:8080/",
          "height": 156
        },
        "outputId": "64e2c185-eebe-49b5-d6a2-e19a776f83a7"
      },
      "source": [
        "from glob import glob\n",
        "from typing import *\n",
        "import json\n",
        "\n",
        "DATA_DIR = \"data/combined_jsons\"\n",
        "dataset_paths = glob(f\"{DATA_DIR}/*\")\n",
        "print(\"dataset_paths is: \", dataset_paths)\n",
        "print(\"dataset_paths count is: \", len(dataset_paths))\n",
        "\n",
        "length_75 = []\n",
        "length_55 = []\n",
        "length_75_count = 0\n",
        "length_55_count = 0\n",
        "length_unknown = []\n",
        "length_unknown_count = 0\n",
        "indeces_to_pop = []\n",
        "# Create single list object from all the JSONs\n",
        "raw_sequences: List[List[List[float]]] = []\n",
        "for path in dataset_paths:\n",
        "  with open(path, \"r\") as f:\n",
        "    sequences = json.loads(f.read())\n",
        "    for seq in sequences:\n",
        "      if len(seq) > 55:\n",
        "        length_75_count += 1\n",
        "        length_75.append([path, seq])\n",
        "      elif len(seq) == 55:\n",
        "        length_55_count += 1\n",
        "        length_55.append([path, seq])\n",
        "      else:\n",
        "        length_unknown_count += 1\n",
        "        length_unknown.append([path, seq])\n",
        "    raw_sequences.append(sequences)\n",
        "\n",
        "# Remove all frames that do not have 55 features (Confusion Score + 54 OpenPose points)\n",
        "for i in range(len(raw_sequences)):\n",
        "  for j in range(len(raw_sequences[i])):\n",
        "    if len(raw_sequences[i][len(raw_sequences[i])-j-1]) != 55:\n",
        "      # print(\"not 55: \", len(raw_sequences[i][len(raw_sequences[i])-j-1]))\n",
        "      indeces_to_pop.append([i, len(raw_sequences[i])-j-1])\n",
        "\n",
        "\n",
        "print(\"Number of indeces to pop: \", len(indeces_to_pop))\n",
        "for (i, j) in sorted(indeces_to_pop, reverse=True):\n",
        "  raw_sequences[i].pop(j)\n",
        "\n",
        "\n",
        "print(\"length_75_count is: \", length_75_count)\n",
        "print(\"length_55_count is: \", length_55_count)\n",
        "print(\"length_unknown_count is: \", length_unknown_count)\n",
        "print(\"length of raw_sequences is: \", len(raw_sequences))\n",
        "\n",
        "# print(\"length_75 is: \", len(length_75))\n",
        "# print(\"length_55 is: \", len(length_55))\n",
        "# print(\"length_unknown is: \", len(length_unknown))\n",
        "\n",
        "# for (path, seq) in length_75:\n",
        "#   print(\"length_75 is: \", path)\n",
        "\n",
        "# for (path, seq) in length_unknown:\n",
        "#   print(\"length_unknown is: \", path)\n",
        "# #   print(\"length is: \", len(seq))\n"
      ],
      "execution_count": null,
      "outputs": [
        {
          "output_type": "stream",
          "text": [
            "dataset_paths is:  ['data/combined_jsons/2019-10-15-14-15-19bag_img_raw_04_combined.json', 'data/combined_jsons/2019-10-16-14-12-40bag_img_raw_01_combined.json', 'data/combined_jsons/2019-10-15-14-22-48bag_img_raw_04_combined.json', 'data/combined_jsons/2019-10-15-14-15-19bag_img_raw_01_combined.json', 'data/combined_jsons/2019-10-24-14-32-29bag_img_raw_01_combined.json', 'data/combined_jsons/2019-10-15-14-12-10bag_img_raw_04_combined.json', 'data/combined_jsons/2019-10-24-15-05-09bag_img_raw_03_combined.json', 'data/combined_jsons/2019-10-10-14-24-28bag_img_raw_04_combined.json', 'data/combined_jsons/2019-10-24-14-25-07bag_img_raw_04_combined.json', 'data/combined_jsons/2019-10-24-15-05-09bag_img_raw_01_combined.json', 'data/combined_jsons/2019-10-24-15-21-13bag_img_raw_03_combined.json', 'data/combined_jsons/2019-11-05-14-14-31bag_img_raw_03_combined.json', 'data/combined_jsons/2019-12-05-14-20-24bag_img_raw_04_combined.json', 'data/combined_jsons/2019-12-05-15-15-46bag_img_raw_01_combined.json', 'data/combined_jsons/2019-10-16-14-10-02bag_img_raw_04_combined.json', 'data/combined_jsons/2019-12-05-15-07-56bag_img_raw_04_combined.json', 'data/combined_jsons/2019-10-24-14-32-29bag_img_raw_04_combined.json', 'data/combined_jsons/2019-11-06-14-09-28bag_img_raw_03_combined.json', 'data/combined_jsons/2019-10-15-14-07-05bag_img_raw_01_combined.json', 'data/combined_jsons/2019-12-05-11-16-12bag_pepper_robot_camera_front_camera_image_raw_combined.json', 'data/combined_jsons/2019-11-05-14-27-15bag_img_raw_02_combined.json', 'data/combined_jsons/2019-10-24-14-10-56bag_img_raw_02_combined.json', 'data/combined_jsons/2019-11-06-15-26-48bag_pepper_robot_camera_front_camera_image_raw_combined.json', 'data/combined_jsons/2019-12-05-11-20-03bag_img_raw_04_combined.json', 'data/combined_jsons/2019-12-10-14-18-19bag_img_raw_03_combined.json', 'data/combined_jsons/2019-11-05-15-17-20bag_pepper_robot_camera_front_camera_image_raw_combined.json', 'data/combined_jsons/2019-10-15-13-06-59bag_img_raw_04_combined.json', 'data/combined_jsons/2019-12-05-15-07-56bag_img_raw_02_combined.json', 'data/combined_jsons/2019-11-05-15-04-58bag_img_raw_02_combined.json', 'data/combined_jsons/2019-12-10-15-15-12bag_pepper_robot_camera_front_camera_image_raw_combined.json', 'data/combined_jsons/2019-11-05-14-27-15bag_img_raw_03_combined.json', 'data/combined_jsons/2019-11-07-13-01-40bag_img_raw_01_combined.json', 'data/combined_jsons/2019-11-07-13-21-16bag_pepper_robot_camera_front_camera_image_raw_combined.json', 'data/combined_jsons/2019-12-05-11-20-03bag_img_raw_03_combined.json', 'data/combined_jsons/2019-10-15-15-21-43bag_img_raw_01_combined.json', 'data/combined_jsons/2019-12-05-14-20-24bag_img_raw_03_combined.json', 'data/combined_jsons/2019-10-15-15-10-22bag_img_raw_03_combined.json', 'data/combined_jsons/2019-10-10-14-24-28bag_pepper_robot_camera_front_camera_image_raw_combined.json', 'data/combined_jsons/2019-11-07-13-18-44bag_pepper_robot_camera_front_camera_image_raw_combined.json', 'data/combined_jsons/2019-10-24-14-06-05bag_img_raw_03_combined.json', 'data/combined_jsons/2019-11-05-15-04-58bag_pepper_robot_camera_front_camera_image_raw_combined.json', 'data/combined_jsons/2019-10-16-14-12-40bag_img_raw_03_combined.json', 'data/combined_jsons/2019-10-15-14-07-05bag_img_raw_04_combined.json', 'data/combined_jsons/2019-10-15-14-07-05bag_img_raw_03_combined.json', 'data/combined_jsons/2019-10-15-13-18-14bag_img_raw_03_combined.json', 'data/combined_jsons/2019-10-15-14-18-18bag_img_raw_04_combined.json', 'data/combined_jsons/2019-11-06-14-09-28bag_img_raw_01_combined.json', 'data/combined_jsons/2019-11-07-13-01-40bag_img_raw_03_combined.json', 'data/combined_jsons/2019-10-24-15-05-09bag_img_raw_02_combined.json', 'data/combined_jsons/2019-10-15-13-18-14bag_img_raw_04_combined.json', 'data/combined_jsons/2019-12-05-15-19-29bag_img_raw_04_combined.json', 'data/combined_jsons/2019-12-05-11-16-12bag_img_raw_01_combined.json', 'data/combined_jsons/2019-10-24-14-06-05bag_img_raw_01_combined.json', 'data/combined_jsons/2019-10-24-14-32-29bag_img_raw_03_combined.json', 'data/combined_jsons/2019-10-15-14-22-48bag_img_raw_03_combined.json', 'data/combined_jsons/2019-10-15-13-18-14bag_pepper_robot_camera_front_camera_image_raw_combined.json', 'data/combined_jsons/2019-11-05-15-25-01bag_img_raw_04_combined.json', 'data/combined_jsons/2019-11-07-13-01-40bag_img_raw_04_combined.json', 'data/combined_jsons/2019-11-05-15-17-20bag_img_raw_02_combined.json', 'data/combined_jsons/2019-11-06-15-26-48bag_img_raw_04_combined.json', 'data/combined_jsons/2019-10-15-14-18-18bag_pepper_robot_camera_front_camera_image_raw_combined.json', 'data/combined_jsons/2019-12-04-14-07-44bag_img_raw_01_combined.json', 'data/combined_jsons/2019-10-24-15-21-13bag_img_raw_01_combined.json', 'data/combined_jsons/2019-10-24-14-25-07bag_img_raw_02_combined.json', 'data/combined_jsons/2019-10-15-13-18-14bag_img_raw_01_combined.json', 'data/combined_jsons/2019-10-10-14-07-25bag_img_raw_01_combined.json', 'data/combined_jsons/2019-11-05-15-04-58bag_img_raw_01_combined.json', 'data/combined_jsons/2019-10-15-14-20-47bag_img_raw_03_combined.json', 'data/combined_jsons/2019-10-15-14-18-18bag_img_raw_01_combined.json', 'data/combined_jsons/2019-10-24-15-12-12bag_img_raw_03_combined.json', 'data/combined_jsons/2019-11-05-14-14-31bag_img_raw_01_combined.json', 'data/combined_jsons/2019-11-05-14-20-13bag_img_raw_03_combined.json', 'data/combined_jsons/2019-12-05-14-24-08bag_img_raw_03_combined.json', 'data/combined_jsons/2019-11-05-14-27-15bag_pepper_robot_camera_front_camera_image_raw_combined.json', 'data/combined_jsons/2019-11-05-14-20-13bag_img_raw_01_combined.json', 'data/combined_jsons/2019-11-05-15-25-01bag_img_raw_03_combined.json', 'data/combined_jsons/2019-12-05-11-16-12bag_img_raw_03_combined.json', 'data/combined_jsons/2019-10-10-14-24-28bag_img_raw_01_combined.json', 'data/combined_jsons/2019-12-10-15-12-01bag_pepper_robot_camera_front_camera_image_raw_combined.json', 'data/combined_jsons/2019-11-05-14-14-31bag_img_raw_04_combined.json', 'data/combined_jsons/2019-10-15-15-27-58bag_img_raw_03_combined.json', 'data/combined_jsons/2019-11-05-14-27-15bag_img_raw_01_combined.json', 'data/combined_jsons/2019-10-24-15-12-12bag_img_raw_01_combined.json', 'data/combined_jsons/2019-10-15-15-10-22bag_img_raw_04_combined.json', 'data/combined_jsons/2019-12-05-15-15-46bag_img_raw_02_combined.json', 'data/combined_jsons/2019-10-24-14-25-07bag_img_raw_01_combined.json', 'data/combined_jsons/2019-12-05-14-24-08bag_img_raw_04_combined.json', 'data/combined_jsons/2019-10-10-14-07-25bag_img_raw_03_combined.json', 'data/combined_jsons/2019-11-05-15-04-58bag_img_raw_03_combined.json', 'data/combined_jsons/2019-12-10-14-18-19bag_img_raw_02_combined.json', 'data/combined_jsons/2019-11-05-15-25-01bag_img_raw_02_combined.json', 'data/combined_jsons/2019-10-16-14-12-40bag_img_raw_04_combined.json', 'data/combined_jsons/2019-11-07-13-21-16bag_img_raw_03_combined.json', 'data/combined_jsons/2019-12-05-15-07-56bag_img_raw_01_combined.json', 'data/combined_jsons/2019-10-24-14-25-07bag_img_raw_03_combined.json', 'data/combined_jsons/2019-10-24-15-21-13bag_img_raw_02_combined.json', 'data/combined_jsons/2019-11-05-15-13-26bag_img_raw_03_combined.json', 'data/combined_jsons/2019-12-05-14-20-24bag_img_raw_01_combined.json', 'data/combined_jsons/2019-10-15-14-18-18bag_img_raw_03_combined.json', 'data/combined_jsons/2019-10-24-14-10-56bag_img_raw_03_combined.json', 'data/combined_jsons/2019-10-15-15-10-22bag_img_raw_01_combined.json', 'data/combined_jsons/2019-10-24-15-15-27bag_img_raw_01_combined.json', 'data/combined_jsons/2019-11-05-15-13-26bag_pepper_robot_camera_front_camera_image_raw_combined.json', 'data/combined_jsons/2019-11-07-13-01-40bag_pepper_robot_camera_front_camera_image_raw_combined.json', 'data/combined_jsons/2019-11-05-14-20-13bag_pepper_robot_camera_front_camera_image_raw_combined.json', 'data/combined_jsons/2019-10-10-14-24-28bag_img_raw_03_combined.json', 'data/combined_jsons/2019-10-24-15-12-12bag_img_raw_02_combined.json', 'data/combined_jsons/2019-12-10-14-20-38bag_pepper_robot_camera_front_camera_image_raw_combined.json', 'data/combined_jsons/2019-10-24-14-06-05bag_img_raw_02_combined.json', 'data/combined_jsons/2019-11-05-15-17-20bag_img_raw_03_combined.json', 'data/combined_jsons/2019-10-15-13-06-59bag_pepper_robot_camera_front_camera_image_raw_combined.json', 'data/combined_jsons/2019-10-15-13-06-59bag_img_raw_01_combined.json', 'data/combined_jsons/2019-12-05-11-20-03bag_pepper_robot_camera_front_camera_image_raw_combined.json', 'data/combined_jsons/2019-11-07-13-21-16bag_img_raw_04_combined.json', 'data/combined_jsons/2019-12-05-11-16-12bag_img_raw_04_combined.json', 'data/combined_jsons/2019-11-06-14-09-28bag_img_raw_04_combined.json', 'data/combined_jsons/2019-11-05-15-13-26bag_img_raw_02_combined.json', 'data/combined_jsons/2019-10-15-14-07-05bag_pepper_robot_camera_front_camera_image_raw_combined.json', 'data/combined_jsons/2019-10-24-14-06-05bag_img_raw_04_combined.json', 'data/combined_jsons/2019-12-05-11-20-03bag_img_raw_02_combined.json', 'data/combined_jsons/2019-10-10-14-07-25bag_pepper_robot_camera_front_camera_image_raw_combined.json', 'data/combined_jsons/2019-12-10-13-10-55bag_img_raw_02_combined.json', 'data/combined_jsons/2019-12-05-15-19-29bag_img_raw_01_combined.json', 'data/combined_jsons/2019-10-15-15-27-58bag_img_raw_01_combined.json', 'data/combined_jsons/2019-11-05-14-20-13bag_img_raw_04_combined.json', 'data/combined_jsons/2019-10-15-14-20-47bag_pepper_robot_camera_front_camera_image_raw_combined.json', 'data/combined_jsons/2019-10-10-14-07-25bag_img_raw_04_combined.json', 'data/combined_jsons/2019-11-05-15-13-26bag_img_raw_01_combined.json', 'data/combined_jsons/2019-10-15-14-20-47bag_img_raw_04_combined.json', 'data/combined_jsons/2019-12-05-11-16-12bag_img_raw_02_combined.json', 'data/combined_jsons/2019-10-15-14-22-48bag_img_raw_01_combined.json', 'data/combined_jsons/2019-12-05-14-20-24bag_img_raw_02_combined.json', 'data/combined_jsons/2019-10-24-14-20-37bag_img_raw_04_combined.json', 'data/combined_jsons/2019-10-24-15-21-13bag_img_raw_04_combined.json', 'data/combined_jsons/2019-10-24-15-15-27bag_img_raw_02_combined.json', 'data/combined_jsons/2019-12-05-15-19-29bag_img_raw_03_combined.json', 'data/combined_jsons/2019-10-15-15-21-43bag_img_raw_03_combined.json', 'data/combined_jsons/2019-12-05-14-08-45bag_img_raw_04_combined.json', 'data/combined_jsons/2019-12-10-15-15-12bag_img_raw_02_combined.json', 'data/combined_jsons/2019-12-10-14-18-19bag_pepper_robot_camera_front_camera_image_raw_combined.json', 'data/combined_jsons/2019-10-24-14-20-37bag_img_raw_02_combined.json', 'data/combined_jsons/2019-10-15-14-15-19bag_img_raw_03_combined.json', 'data/combined_jsons/2019-11-05-15-17-20bag_img_raw_01_combined.json', 'data/combined_jsons/2019-10-15-14-12-10bag_pepper_robot_camera_front_camera_image_raw_combined.json', 'data/combined_jsons/2019-12-05-11-20-03bag_img_raw_01_combined.json', 'data/combined_jsons/2019-10-15-15-27-58bag_img_raw_04_combined.json']\n",
            "dataset_paths count is:  146\n",
            "Number of indeces to pop:  1458\n",
            "length_75_count is:  1391\n",
            "length_55_count is:  42844\n",
            "length_unknown_count is:  67\n",
            "length of raw_sequences is:  146\n"
          ],
          "name": "stdout"
        }
      ]
    },
    {
      "cell_type": "code",
      "metadata": {
        "id": "oMqzM1JeIeAE",
        "colab_type": "code",
        "colab": {
          "base_uri": "https://localhost:8080/",
          "height": 119
        },
        "outputId": "34f33129-dd66-4d72-aadf-e6cd5faaf79c"
      },
      "source": [
        "number_of_zeroes = 0\n",
        "number_of_ones = 0\n",
        "number_of_twos = 0\n",
        "number_of_threes = 0\n",
        "total_count = 0\n",
        "\n",
        "for sequence in raw_sequences:\n",
        "  for frame in sequence:\n",
        "    total_count += 1\n",
        "    if int(frame[0]) == 0:\n",
        "      number_of_zeroes += 1\n",
        "    elif int(frame[0]) == 1:\n",
        "      number_of_ones += 1\n",
        "    elif int(frame[0]) == 2:\n",
        "      number_of_twos += 1\n",
        "    elif int(frame[0]) == 3:\n",
        "      number_of_threes += 1\n",
        "\n",
        "print(f\"0: {number_of_zeroes}\")\n",
        "print(f\"1: {number_of_ones}\")\n",
        "print(f\"2: {number_of_twos}\")\n",
        "print(f\"3: {number_of_threes}\")\n",
        "print(f\"total_count: {total_count}\")\n",
        "print(f\"total_count - number_of_zeroes: {total_count - number_of_zeroes}\")"
      ],
      "execution_count": null,
      "outputs": [
        {
          "output_type": "stream",
          "text": [
            "0: 3955\n",
            "1: 16081\n",
            "2: 11363\n",
            "3: 11445\n",
            "total_count: 42844\n",
            "total_count - number_of_zeroes: 38889\n"
          ],
          "name": "stdout"
        }
      ]
    },
    {
      "cell_type": "markdown",
      "metadata": {
        "id": "KZddK8WY5ILW",
        "colab_type": "text"
      },
      "source": [
        "Get centroid for every frame. If the centroid differs widely between 2 frames, it may indicate that different people were picked up by OpenPose.\n",
        "Centroid code taken from [here](https://stackoverflow.com/questions/23020659/fastest-way-to-calculate-the-centroid-of-a-set-of-coordinate-tuples-in-python-wi).\n",
        "\n",
        "Format of OpenPose output can be found [here](https://github.com/CMU-Perceptual-Computing-Lab/openpose/blob/master/doc/output.md). A frame is represented by `x1,y1,c1,x2,y2,c2,...`\n",
        "\n",
        "If a dropped frame is between 2 valid sequences, consider stitching them back together.\n",
        "* Drop frames which have **no subject** in them. DONE.\n",
        "* Drop frames which have **wrong** subject in them.  DONE.\n",
        "* Give unit variance and zero mean to all points. DONE."
      ]
    },
    {
      "cell_type": "code",
      "metadata": {
        "id": "wWXnNNXN5Jwc",
        "colab_type": "code",
        "colab": {
          "base_uri": "https://localhost:8080/",
          "height": 68
        },
        "outputId": "0d0c5ac6-e7fd-4592-9e66-e018a0db3691"
      },
      "source": [
        "from jupyter_tools.preprocessing import stitch_frames, normalize\n",
        "\n",
        "print(f\"Number of raw sequences:        {len(raw_sequences)}\")\n",
        "parsed_sequences = stitch_frames(raw_sequences, min_dist=50, min_sequence_len=40, max_dropped_frames=4)\n",
        "print(f\"Number of stitched sequences:   {len(parsed_sequences)}\")\n",
        "normalized_sequences = normalize(parsed_sequences)\n",
        "print(f\"Number of normalized sequences: {len(normalized_sequences)}\")\n",
        "\n",
        "# CAUTION: further code should ONLY refer to \"preprocessed_sequences\".\n",
        "# This prevent breakages if code changes.\n",
        "preprocessed_sequences = normalized_sequences"
      ],
      "execution_count": null,
      "outputs": [
        {
          "output_type": "stream",
          "text": [
            "Number of raw sequences:        146\n",
            "Number of stitched sequences:   201\n",
            "Number of normalized sequences: 201\n"
          ],
          "name": "stdout"
        }
      ]
    },
    {
      "cell_type": "code",
      "metadata": {
        "id": "DR7M-ecXVJBL",
        "colab_type": "code",
        "colab": {
          "base_uri": "https://localhost:8080/",
          "height": 119
        },
        "outputId": "7e696d84-f8a5-4f43-ae64-f580602d04a1"
      },
      "source": [
        "# Get some info on preprocessed_sequences\n",
        "number_of_zeroes = 0\n",
        "number_of_ones = 0\n",
        "number_of_twos = 0\n",
        "number_of_threes = 0\n",
        "total_count = 0\n",
        "\n",
        "for sequence in preprocessed_sequences:\n",
        "  for frame in sequence:\n",
        "    total_count += 1\n",
        "    if int(frame[0]) == 0:\n",
        "      number_of_zeroes += 1\n",
        "    elif int(frame[0]) == 1:\n",
        "      number_of_ones += 1\n",
        "    elif int(frame[0]) == 2:\n",
        "      number_of_twos += 1\n",
        "    elif int(frame[0]) == 3:\n",
        "      number_of_threes += 1\n",
        "\n",
        "print(f\"0: {number_of_zeroes}\")\n",
        "print(f\"1: {number_of_ones}\")\n",
        "print(f\"2: {number_of_twos}\")\n",
        "print(f\"3: {number_of_threes}\")\n",
        "print(f\"total_count: {total_count}\")\n",
        "print(f\"total_count - 0's: {total_count - number_of_zeroes}\")"
      ],
      "execution_count": null,
      "outputs": [
        {
          "output_type": "stream",
          "text": [
            "0: 0\n",
            "1: 9461\n",
            "2: 6817\n",
            "3: 8135\n",
            "total_count: 24413\n",
            "total_count - 0's: 24413\n"
          ],
          "name": "stdout"
        }
      ]
    },
    {
      "cell_type": "code",
      "metadata": {
        "id": "1wmDGR_wneek",
        "colab_type": "code",
        "colab": {
          "base_uri": "https://localhost:8080/",
          "height": 297
        },
        "outputId": "ac0c0087-f848-4d93-af32-0e1b74198981"
      },
      "source": [
        "import pandas as pd\n",
        "\n",
        "# Get some stats about the length of the processed sequences\n",
        "sequences_len = []\n",
        "for sequence in preprocessed_sequences:\n",
        "  sequences_len.append(len(sequence))\n",
        "\n",
        "a = pd.DataFrame(sequences_len)\n",
        "a.describe()"
      ],
      "execution_count": null,
      "outputs": [
        {
          "output_type": "execute_result",
          "data": {
            "text/html": [
              "<div>\n",
              "<style scoped>\n",
              "    .dataframe tbody tr th:only-of-type {\n",
              "        vertical-align: middle;\n",
              "    }\n",
              "\n",
              "    .dataframe tbody tr th {\n",
              "        vertical-align: top;\n",
              "    }\n",
              "\n",
              "    .dataframe thead th {\n",
              "        text-align: right;\n",
              "    }\n",
              "</style>\n",
              "<table border=\"1\" class=\"dataframe\">\n",
              "  <thead>\n",
              "    <tr style=\"text-align: right;\">\n",
              "      <th></th>\n",
              "      <th>0</th>\n",
              "    </tr>\n",
              "  </thead>\n",
              "  <tbody>\n",
              "    <tr>\n",
              "      <th>count</th>\n",
              "      <td>201.000000</td>\n",
              "    </tr>\n",
              "    <tr>\n",
              "      <th>mean</th>\n",
              "      <td>121.457711</td>\n",
              "    </tr>\n",
              "    <tr>\n",
              "      <th>std</th>\n",
              "      <td>102.400388</td>\n",
              "    </tr>\n",
              "    <tr>\n",
              "      <th>min</th>\n",
              "      <td>40.000000</td>\n",
              "    </tr>\n",
              "    <tr>\n",
              "      <th>25%</th>\n",
              "      <td>54.000000</td>\n",
              "    </tr>\n",
              "    <tr>\n",
              "      <th>50%</th>\n",
              "      <td>84.000000</td>\n",
              "    </tr>\n",
              "    <tr>\n",
              "      <th>75%</th>\n",
              "      <td>143.000000</td>\n",
              "    </tr>\n",
              "    <tr>\n",
              "      <th>max</th>\n",
              "      <td>683.000000</td>\n",
              "    </tr>\n",
              "  </tbody>\n",
              "</table>\n",
              "</div>"
            ],
            "text/plain": [
              "                0\n",
              "count  201.000000\n",
              "mean   121.457711\n",
              "std    102.400388\n",
              "min     40.000000\n",
              "25%     54.000000\n",
              "50%     84.000000\n",
              "75%    143.000000\n",
              "max    683.000000"
            ]
          },
          "metadata": {
            "tags": []
          },
          "execution_count": 9
        }
      ]
    },
    {
      "cell_type": "markdown",
      "metadata": {
        "id": "0i-Na7WHGGVo",
        "colab_type": "text"
      },
      "source": [
        "## Model\n",
        "Create 3 models\n",
        "* Simple RNN\n",
        "* LSTM/GRU RNN\n",
        "\n",
        "For testing, it would be beneficial to write a function (in `jupyter_tools`) to display the frames as a video with a label indicating the prediction from the model.\n",
        "\n",
        "First, we need to extract the X and Y values from our dataset in order to use them on the model.\n",
        "Our Y will be our confusion annotations, and our X will be all the openPose coordinates."
      ]
    },
    {
      "cell_type": "code",
      "metadata": {
        "id": "6qODnLNRdmsR",
        "colab_type": "code",
        "colab": {
          "base_uri": "https://localhost:8080/",
          "height": 34
        },
        "outputId": "d6167e41-2b61-4f32-d6fd-d79cd66faed0"
      },
      "source": [
        "from sklearn.model_selection import train_test_split\n",
        "import numpy as np\n",
        "import pandas as pd\n",
        "\n",
        "nn_input_data = np.asarray(preprocessed_sequences)\n",
        "\n",
        "nn_data = []\n",
        "nn_target = []\n",
        "# Split the data into data and target arrays\n",
        "for row in range(len(nn_input_data)):\n",
        "    for frame in range(len(nn_input_data[row])):\n",
        "        target = nn_input_data[row][frame][0]\n",
        "        data = []\n",
        "        for datum in nn_input_data[row][frame][1:]:\n",
        "          data.append(datum)\n",
        "        # data = nn_input_data[row][frame][1:]\n",
        "        nn_data.append(data)\n",
        "        nn_target.append(target)\n",
        "print(\"done\")"
      ],
      "execution_count": null,
      "outputs": [
        {
          "output_type": "stream",
          "text": [
            "done\n"
          ],
          "name": "stdout"
        }
      ]
    },
    {
      "cell_type": "code",
      "metadata": {
        "id": "bamWXoBa3uff",
        "colab_type": "code",
        "colab": {
          "base_uri": "https://localhost:8080/",
          "height": 68
        },
        "outputId": "f93b8b01-69a4-485f-a1bf-7714e0685b20"
      },
      "source": [
        "## Because we have stripped away all 0s from the Confusion Score,\n",
        "## The target set must now be reduced from 1-3 to 0-2, to play nicely with the models\n",
        "nn_target_reduced = []\n",
        "target_counts = [0,0,0]\n",
        "print(\"Previous Values: \", nn_target[0:10])\n",
        "for i in range(len(nn_target)):\n",
        "  if nn_target[i] == 3:\n",
        "    nn_target_reduced.append(2)\n",
        "    target_counts[2] += 1\n",
        "  elif nn_target[i] == 2:\n",
        "    nn_target_reduced.append(1)\n",
        "    target_counts[1] += 1\n",
        "  elif nn_target[i] == 1:\n",
        "    nn_target_reduced.append(0)\n",
        "    target_counts[0] += 1\n",
        "  else:\n",
        "    print(\"found invalid value: \", nn_target[i])\n",
        "\n",
        "print(\" Current Values: \", nn_target_reduced[0:10])\n",
        "\n",
        "print(\"Target Counts for the three possible scores: \", target_counts)"
      ],
      "execution_count": null,
      "outputs": [
        {
          "output_type": "stream",
          "text": [
            "Previous Values:  [3, 2, 3, 2, 3, 2, 3, 2, 3, 2]\n",
            " Current Values:  [2, 1, 2, 1, 2, 1, 2, 1, 2, 1]\n",
            "Target Counts for the three possible scores:  [9461, 6817, 8135]\n"
          ],
          "name": "stdout"
        }
      ]
    },
    {
      "cell_type": "code",
      "metadata": {
        "id": "nM1K2q4F4THF",
        "colab_type": "code",
        "colab": {
          "base_uri": "https://localhost:8080/",
          "height": 51
        },
        "outputId": "10cf6bad-3b6a-48c4-c303-d70282f7283f"
      },
      "source": [
        "nn_data_np = np.asarray(nn_data)\n",
        "nn_target_np = np.asarray(nn_target_reduced)\n",
        "nn_data_pd = pd.DataFrame(nn_data)\n",
        "nn_target_pd = pd.DataFrame(nn_target_reduced)\n",
        "\n",
        "print(\"nn_data_pd shape is: \", nn_data_pd.shape)\n",
        "print(\"nn_data_pd type is: \",nn_data_np.dtype)\n",
        "\n",
        "# print(nn_data_np[0])"
      ],
      "execution_count": null,
      "outputs": [
        {
          "output_type": "stream",
          "text": [
            "nn_data_pd shape is:  (24413, 54)\n",
            "nn_data_pd type is:  float64\n"
          ],
          "name": "stdout"
        }
      ]
    },
    {
      "cell_type": "markdown",
      "metadata": {
        "id": "4kIbBj17kxWo",
        "colab_type": "text"
      },
      "source": [
        "### Statistics for the data\n",
        "There are currently 54 features"
      ]
    },
    {
      "cell_type": "code",
      "metadata": {
        "id": "Rvs-vdQzksDz",
        "colab_type": "code",
        "colab": {
          "base_uri": "https://localhost:8080/",
          "height": 317
        },
        "outputId": "e395e0e9-a5d7-43d3-8f23-bd26cd78929b"
      },
      "source": [
        "nn_data_pd.describe()"
      ],
      "execution_count": null,
      "outputs": [
        {
          "output_type": "execute_result",
          "data": {
            "text/html": [
              "<div>\n",
              "<style scoped>\n",
              "    .dataframe tbody tr th:only-of-type {\n",
              "        vertical-align: middle;\n",
              "    }\n",
              "\n",
              "    .dataframe tbody tr th {\n",
              "        vertical-align: top;\n",
              "    }\n",
              "\n",
              "    .dataframe thead th {\n",
              "        text-align: right;\n",
              "    }\n",
              "</style>\n",
              "<table border=\"1\" class=\"dataframe\">\n",
              "  <thead>\n",
              "    <tr style=\"text-align: right;\">\n",
              "      <th></th>\n",
              "      <th>0</th>\n",
              "      <th>1</th>\n",
              "      <th>2</th>\n",
              "      <th>3</th>\n",
              "      <th>4</th>\n",
              "      <th>5</th>\n",
              "      <th>6</th>\n",
              "      <th>7</th>\n",
              "      <th>8</th>\n",
              "      <th>9</th>\n",
              "      <th>10</th>\n",
              "      <th>11</th>\n",
              "      <th>12</th>\n",
              "      <th>13</th>\n",
              "      <th>14</th>\n",
              "      <th>15</th>\n",
              "      <th>16</th>\n",
              "      <th>17</th>\n",
              "      <th>18</th>\n",
              "      <th>19</th>\n",
              "      <th>20</th>\n",
              "      <th>21</th>\n",
              "      <th>22</th>\n",
              "      <th>23</th>\n",
              "      <th>24</th>\n",
              "      <th>25</th>\n",
              "      <th>26</th>\n",
              "      <th>27</th>\n",
              "      <th>28</th>\n",
              "      <th>29</th>\n",
              "      <th>30</th>\n",
              "      <th>31</th>\n",
              "      <th>32</th>\n",
              "      <th>33</th>\n",
              "      <th>34</th>\n",
              "      <th>35</th>\n",
              "      <th>36</th>\n",
              "      <th>37</th>\n",
              "      <th>38</th>\n",
              "      <th>39</th>\n",
              "      <th>40</th>\n",
              "      <th>41</th>\n",
              "      <th>42</th>\n",
              "      <th>43</th>\n",
              "      <th>44</th>\n",
              "      <th>45</th>\n",
              "      <th>46</th>\n",
              "      <th>47</th>\n",
              "      <th>48</th>\n",
              "      <th>49</th>\n",
              "      <th>50</th>\n",
              "      <th>51</th>\n",
              "      <th>52</th>\n",
              "      <th>53</th>\n",
              "    </tr>\n",
              "  </thead>\n",
              "  <tbody>\n",
              "    <tr>\n",
              "      <th>count</th>\n",
              "      <td>24415.000000</td>\n",
              "      <td>24415.000000</td>\n",
              "      <td>24415.000000</td>\n",
              "      <td>24415.000000</td>\n",
              "      <td>24415.000000</td>\n",
              "      <td>24415.000000</td>\n",
              "      <td>24415.000000</td>\n",
              "      <td>24415.000000</td>\n",
              "      <td>24415.000000</td>\n",
              "      <td>24415.000000</td>\n",
              "      <td>24415.000000</td>\n",
              "      <td>24415.000000</td>\n",
              "      <td>24415.000000</td>\n",
              "      <td>24415.000000</td>\n",
              "      <td>24415.000000</td>\n",
              "      <td>24415.000000</td>\n",
              "      <td>24415.000000</td>\n",
              "      <td>24415.000000</td>\n",
              "      <td>24415.000000</td>\n",
              "      <td>24415.000000</td>\n",
              "      <td>24415.000000</td>\n",
              "      <td>24415.000000</td>\n",
              "      <td>24415.000000</td>\n",
              "      <td>24415.000000</td>\n",
              "      <td>24415.000000</td>\n",
              "      <td>24415.000000</td>\n",
              "      <td>24415.000000</td>\n",
              "      <td>24415.000000</td>\n",
              "      <td>24415.000000</td>\n",
              "      <td>24415.000000</td>\n",
              "      <td>24415.000000</td>\n",
              "      <td>24415.000000</td>\n",
              "      <td>24415.000000</td>\n",
              "      <td>24415.000000</td>\n",
              "      <td>24415.000000</td>\n",
              "      <td>24415.000000</td>\n",
              "      <td>24415.000000</td>\n",
              "      <td>24415.000000</td>\n",
              "      <td>24415.000000</td>\n",
              "      <td>24415.000000</td>\n",
              "      <td>24415.000000</td>\n",
              "      <td>24415.000000</td>\n",
              "      <td>24415.000000</td>\n",
              "      <td>24415.000000</td>\n",
              "      <td>24415.000000</td>\n",
              "      <td>24415.000000</td>\n",
              "      <td>24415.000000</td>\n",
              "      <td>24415.000000</td>\n",
              "      <td>24415.000000</td>\n",
              "      <td>24415.000000</td>\n",
              "      <td>24415.000000</td>\n",
              "      <td>24415.000000</td>\n",
              "      <td>24415.000000</td>\n",
              "      <td>24415.000000</td>\n",
              "    </tr>\n",
              "    <tr>\n",
              "      <th>mean</th>\n",
              "      <td>0.417810</td>\n",
              "      <td>-0.297098</td>\n",
              "      <td>-1.053882</td>\n",
              "      <td>1.083312</td>\n",
              "      <td>0.035305</td>\n",
              "      <td>-1.052645</td>\n",
              "      <td>1.072547</td>\n",
              "      <td>0.034789</td>\n",
              "      <td>-1.052828</td>\n",
              "      <td>1.051108</td>\n",
              "      <td>0.235926</td>\n",
              "      <td>-1.053529</td>\n",
              "      <td>0.908754</td>\n",
              "      <td>0.183512</td>\n",
              "      <td>-1.054031</td>\n",
              "      <td>1.095088</td>\n",
              "      <td>0.033173</td>\n",
              "      <td>-1.052785</td>\n",
              "      <td>1.083471</td>\n",
              "      <td>0.239643</td>\n",
              "      <td>-1.053319</td>\n",
              "      <td>0.873902</td>\n",
              "      <td>0.175468</td>\n",
              "      <td>-1.053911</td>\n",
              "      <td>1.079888</td>\n",
              "      <td>0.477722</td>\n",
              "      <td>-1.053247</td>\n",
              "      <td>1.074900</td>\n",
              "      <td>0.783282</td>\n",
              "      <td>-1.053099</td>\n",
              "      <td>1.021501</td>\n",
              "      <td>0.990719</td>\n",
              "      <td>-1.053463</td>\n",
              "      <td>1.094537</td>\n",
              "      <td>0.478410</td>\n",
              "      <td>-1.053206</td>\n",
              "      <td>1.083262</td>\n",
              "      <td>0.784136</td>\n",
              "      <td>-1.053053</td>\n",
              "      <td>1.027558</td>\n",
              "      <td>0.996417</td>\n",
              "      <td>-1.053459</td>\n",
              "      <td>0.333872</td>\n",
              "      <td>-0.486292</td>\n",
              "      <td>-1.054749</td>\n",
              "      <td>0.245441</td>\n",
              "      <td>-0.456380</td>\n",
              "      <td>-1.054475</td>\n",
              "      <td>0.534926</td>\n",
              "      <td>-0.408728</td>\n",
              "      <td>-1.054447</td>\n",
              "      <td>0.415466</td>\n",
              "      <td>-0.333225</td>\n",
              "      <td>-1.053996</td>\n",
              "    </tr>\n",
              "    <tr>\n",
              "      <th>std</th>\n",
              "      <td>1.021174</td>\n",
              "      <td>0.445004</td>\n",
              "      <td>0.129771</td>\n",
              "      <td>0.428691</td>\n",
              "      <td>0.346673</td>\n",
              "      <td>0.130260</td>\n",
              "      <td>0.452470</td>\n",
              "      <td>0.344325</td>\n",
              "      <td>0.130154</td>\n",
              "      <td>0.497969</td>\n",
              "      <td>0.429568</td>\n",
              "      <td>0.130185</td>\n",
              "      <td>0.738630</td>\n",
              "      <td>0.550247</td>\n",
              "      <td>0.130031</td>\n",
              "      <td>0.433550</td>\n",
              "      <td>0.348575</td>\n",
              "      <td>0.130217</td>\n",
              "      <td>0.482848</td>\n",
              "      <td>0.444054</td>\n",
              "      <td>0.130197</td>\n",
              "      <td>0.743741</td>\n",
              "      <td>0.565757</td>\n",
              "      <td>0.129958</td>\n",
              "      <td>0.423083</td>\n",
              "      <td>0.508625</td>\n",
              "      <td>0.130114</td>\n",
              "      <td>0.432389</td>\n",
              "      <td>0.631942</td>\n",
              "      <td>0.130212</td>\n",
              "      <td>0.542029</td>\n",
              "      <td>0.811536</td>\n",
              "      <td>0.130344</td>\n",
              "      <td>0.405264</td>\n",
              "      <td>0.512299</td>\n",
              "      <td>0.130103</td>\n",
              "      <td>0.415071</td>\n",
              "      <td>0.638302</td>\n",
              "      <td>0.130198</td>\n",
              "      <td>0.529487</td>\n",
              "      <td>0.827409</td>\n",
              "      <td>0.130316</td>\n",
              "      <td>1.090319</td>\n",
              "      <td>0.462402</td>\n",
              "      <td>0.129812</td>\n",
              "      <td>1.042618</td>\n",
              "      <td>0.486433</td>\n",
              "      <td>0.129744</td>\n",
              "      <td>1.062941</td>\n",
              "      <td>0.491395</td>\n",
              "      <td>0.130387</td>\n",
              "      <td>1.000083</td>\n",
              "      <td>0.517195</td>\n",
              "      <td>0.130296</td>\n",
              "    </tr>\n",
              "    <tr>\n",
              "      <th>min</th>\n",
              "      <td>-1.257885</td>\n",
              "      <td>-1.109977</td>\n",
              "      <td>-1.398062</td>\n",
              "      <td>-0.573959</td>\n",
              "      <td>-0.610912</td>\n",
              "      <td>-1.395453</td>\n",
              "      <td>-0.803860</td>\n",
              "      <td>-0.712949</td>\n",
              "      <td>-1.395578</td>\n",
              "      <td>-1.113973</td>\n",
              "      <td>-1.113973</td>\n",
              "      <td>-1.396565</td>\n",
              "      <td>-1.269707</td>\n",
              "      <td>-1.269707</td>\n",
              "      <td>-1.396903</td>\n",
              "      <td>-0.916112</td>\n",
              "      <td>-0.916112</td>\n",
              "      <td>-1.395838</td>\n",
              "      <td>-1.193997</td>\n",
              "      <td>-1.193997</td>\n",
              "      <td>-1.397485</td>\n",
              "      <td>-1.290381</td>\n",
              "      <td>-1.290381</td>\n",
              "      <td>-1.398563</td>\n",
              "      <td>-0.689930</td>\n",
              "      <td>-0.654779</td>\n",
              "      <td>-1.395489</td>\n",
              "      <td>-1.198909</td>\n",
              "      <td>-1.198909</td>\n",
              "      <td>-1.396956</td>\n",
              "      <td>-1.258818</td>\n",
              "      <td>-1.258818</td>\n",
              "      <td>-1.397627</td>\n",
              "      <td>-0.903579</td>\n",
              "      <td>-0.903579</td>\n",
              "      <td>-1.395237</td>\n",
              "      <td>-1.147322</td>\n",
              "      <td>-1.147322</td>\n",
              "      <td>-1.396947</td>\n",
              "      <td>-1.273625</td>\n",
              "      <td>-1.273625</td>\n",
              "      <td>-1.397610</td>\n",
              "      <td>-1.291374</td>\n",
              "      <td>-1.291374</td>\n",
              "      <td>-1.398303</td>\n",
              "      <td>-1.274216</td>\n",
              "      <td>-1.274216</td>\n",
              "      <td>-1.398172</td>\n",
              "      <td>-1.291909</td>\n",
              "      <td>-1.291909</td>\n",
              "      <td>-1.398606</td>\n",
              "      <td>-1.292659</td>\n",
              "      <td>-1.292659</td>\n",
              "      <td>-1.397956</td>\n",
              "    </tr>\n",
              "    <tr>\n",
              "      <th>25%</th>\n",
              "      <td>-0.823394</td>\n",
              "      <td>-0.470595</td>\n",
              "      <td>-1.139926</td>\n",
              "      <td>0.981057</td>\n",
              "      <td>-0.236069</td>\n",
              "      <td>-1.139515</td>\n",
              "      <td>0.959280</td>\n",
              "      <td>-0.232284</td>\n",
              "      <td>-1.139623</td>\n",
              "      <td>0.932784</td>\n",
              "      <td>-0.071616</td>\n",
              "      <td>-1.140495</td>\n",
              "      <td>0.783952</td>\n",
              "      <td>-0.092853</td>\n",
              "      <td>-1.140497</td>\n",
              "      <td>0.986516</td>\n",
              "      <td>-0.240926</td>\n",
              "      <td>-1.139572</td>\n",
              "      <td>0.959423</td>\n",
              "      <td>-0.084523</td>\n",
              "      <td>-1.140150</td>\n",
              "      <td>0.697222</td>\n",
              "      <td>-0.116303</td>\n",
              "      <td>-1.140109</td>\n",
              "      <td>0.987287</td>\n",
              "      <td>0.091270</td>\n",
              "      <td>-1.140030</td>\n",
              "      <td>0.987633</td>\n",
              "      <td>0.304303</td>\n",
              "      <td>-1.139786</td>\n",
              "      <td>0.959018</td>\n",
              "      <td>0.472089</td>\n",
              "      <td>-1.140283</td>\n",
              "      <td>0.991471</td>\n",
              "      <td>0.088502</td>\n",
              "      <td>-1.140007</td>\n",
              "      <td>0.984298</td>\n",
              "      <td>0.300710</td>\n",
              "      <td>-1.139772</td>\n",
              "      <td>0.938203</td>\n",
              "      <td>0.465397</td>\n",
              "      <td>-1.139955</td>\n",
              "      <td>-0.961050</td>\n",
              "      <td>-0.961050</td>\n",
              "      <td>-1.140914</td>\n",
              "      <td>-0.956062</td>\n",
              "      <td>-0.956062</td>\n",
              "      <td>-1.140621</td>\n",
              "      <td>-0.923934</td>\n",
              "      <td>-0.923934</td>\n",
              "      <td>-1.140995</td>\n",
              "      <td>-0.932659</td>\n",
              "      <td>-0.932659</td>\n",
              "      <td>-1.141003</td>\n",
              "    </tr>\n",
              "    <tr>\n",
              "      <th>50%</th>\n",
              "      <td>1.017845</td>\n",
              "      <td>-0.283905</td>\n",
              "      <td>-1.057961</td>\n",
              "      <td>1.230296</td>\n",
              "      <td>-0.058506</td>\n",
              "      <td>-1.056321</td>\n",
              "      <td>1.205736</td>\n",
              "      <td>-0.054772</td>\n",
              "      <td>-1.056476</td>\n",
              "      <td>1.186073</td>\n",
              "      <td>0.142024</td>\n",
              "      <td>-1.057093</td>\n",
              "      <td>1.164838</td>\n",
              "      <td>0.139140</td>\n",
              "      <td>-1.057916</td>\n",
              "      <td>1.243821</td>\n",
              "      <td>-0.060233</td>\n",
              "      <td>-1.056465</td>\n",
              "      <td>1.248858</td>\n",
              "      <td>0.135950</td>\n",
              "      <td>-1.056854</td>\n",
              "      <td>1.175432</td>\n",
              "      <td>0.113391</td>\n",
              "      <td>-1.057351</td>\n",
              "      <td>1.211958</td>\n",
              "      <td>0.360119</td>\n",
              "      <td>-1.056882</td>\n",
              "      <td>1.213197</td>\n",
              "      <td>0.656029</td>\n",
              "      <td>-1.056695</td>\n",
              "      <td>1.204361</td>\n",
              "      <td>0.885500</td>\n",
              "      <td>-1.057075</td>\n",
              "      <td>1.238212</td>\n",
              "      <td>0.358716</td>\n",
              "      <td>-1.056880</td>\n",
              "      <td>1.234496</td>\n",
              "      <td>0.653521</td>\n",
              "      <td>-1.056718</td>\n",
              "      <td>1.221080</td>\n",
              "      <td>0.889094</td>\n",
              "      <td>-1.057153</td>\n",
              "      <td>0.977459</td>\n",
              "      <td>-0.414595</td>\n",
              "      <td>-1.059086</td>\n",
              "      <td>0.717577</td>\n",
              "      <td>-0.412839</td>\n",
              "      <td>-1.058562</td>\n",
              "      <td>1.123505</td>\n",
              "      <td>-0.348323</td>\n",
              "      <td>-1.058165</td>\n",
              "      <td>0.931171</td>\n",
              "      <td>-0.271800</td>\n",
              "      <td>-1.057723</td>\n",
              "    </tr>\n",
              "    <tr>\n",
              "      <th>75%</th>\n",
              "      <td>1.281367</td>\n",
              "      <td>-0.029571</td>\n",
              "      <td>-0.981386</td>\n",
              "      <td>1.352867</td>\n",
              "      <td>0.261504</td>\n",
              "      <td>-0.980178</td>\n",
              "      <td>1.352563</td>\n",
              "      <td>0.257137</td>\n",
              "      <td>-0.980291</td>\n",
              "      <td>1.356209</td>\n",
              "      <td>0.468289</td>\n",
              "      <td>-0.980993</td>\n",
              "      <td>1.384922</td>\n",
              "      <td>0.480519</td>\n",
              "      <td>-0.981323</td>\n",
              "      <td>1.377656</td>\n",
              "      <td>0.262628</td>\n",
              "      <td>-0.980311</td>\n",
              "      <td>1.392996</td>\n",
              "      <td>0.509522</td>\n",
              "      <td>-0.981145</td>\n",
              "      <td>1.369843</td>\n",
              "      <td>0.492563</td>\n",
              "      <td>-0.981824</td>\n",
              "      <td>1.341273</td>\n",
              "      <td>0.747408</td>\n",
              "      <td>-0.980769</td>\n",
              "      <td>1.339154</td>\n",
              "      <td>1.067593</td>\n",
              "      <td>-0.980349</td>\n",
              "      <td>1.332689</td>\n",
              "      <td>1.346050</td>\n",
              "      <td>-0.980762</td>\n",
              "      <td>1.356763</td>\n",
              "      <td>0.749818</td>\n",
              "      <td>-0.980705</td>\n",
              "      <td>1.351180</td>\n",
              "      <td>1.073512</td>\n",
              "      <td>-0.980315</td>\n",
              "      <td>1.339497</td>\n",
              "      <td>1.348318</td>\n",
              "      <td>-0.980687</td>\n",
              "      <td>1.306751</td>\n",
              "      <td>-0.200158</td>\n",
              "      <td>-0.981998</td>\n",
              "      <td>1.232730</td>\n",
              "      <td>-0.139635</td>\n",
              "      <td>-0.982257</td>\n",
              "      <td>1.354893</td>\n",
              "      <td>-0.109661</td>\n",
              "      <td>-0.981440</td>\n",
              "      <td>1.261194</td>\n",
              "      <td>0.032479</td>\n",
              "      <td>-0.981911</td>\n",
              "    </tr>\n",
              "    <tr>\n",
              "      <th>max</th>\n",
              "      <td>1.838729</td>\n",
              "      <td>1.070167</td>\n",
              "      <td>-0.243291</td>\n",
              "      <td>2.962752</td>\n",
              "      <td>2.926365</td>\n",
              "      <td>-0.243291</td>\n",
              "      <td>3.663435</td>\n",
              "      <td>1.503020</td>\n",
              "      <td>-0.243291</td>\n",
              "      <td>2.189843</td>\n",
              "      <td>2.714389</td>\n",
              "      <td>-0.243291</td>\n",
              "      <td>2.346742</td>\n",
              "      <td>2.832275</td>\n",
              "      <td>-0.243291</td>\n",
              "      <td>3.283816</td>\n",
              "      <td>3.016842</td>\n",
              "      <td>-0.243291</td>\n",
              "      <td>3.681483</td>\n",
              "      <td>5.049103</td>\n",
              "      <td>-0.243291</td>\n",
              "      <td>3.903498</td>\n",
              "      <td>3.403565</td>\n",
              "      <td>-0.243291</td>\n",
              "      <td>2.153650</td>\n",
              "      <td>3.434853</td>\n",
              "      <td>-0.243291</td>\n",
              "      <td>2.159538</td>\n",
              "      <td>4.363011</td>\n",
              "      <td>-0.243291</td>\n",
              "      <td>1.953631</td>\n",
              "      <td>3.818105</td>\n",
              "      <td>-0.243291</td>\n",
              "      <td>2.846412</td>\n",
              "      <td>3.681582</td>\n",
              "      <td>-0.235367</td>\n",
              "      <td>2.853393</td>\n",
              "      <td>4.835949</td>\n",
              "      <td>-0.236828</td>\n",
              "      <td>1.706773</td>\n",
              "      <td>5.027686</td>\n",
              "      <td>-0.239192</td>\n",
              "      <td>2.047031</td>\n",
              "      <td>1.016267</td>\n",
              "      <td>-0.243291</td>\n",
              "      <td>2.053285</td>\n",
              "      <td>1.019307</td>\n",
              "      <td>-0.243291</td>\n",
              "      <td>3.009484</td>\n",
              "      <td>1.081746</td>\n",
              "      <td>-0.243291</td>\n",
              "      <td>2.962752</td>\n",
              "      <td>1.684497</td>\n",
              "      <td>-0.243291</td>\n",
              "    </tr>\n",
              "  </tbody>\n",
              "</table>\n",
              "</div>"
            ],
            "text/plain": [
              "                 0             1   ...            52            53\n",
              "count  24415.000000  24415.000000  ...  24415.000000  24415.000000\n",
              "mean       0.417810     -0.297098  ...     -0.333225     -1.053996\n",
              "std        1.021174      0.445004  ...      0.517195      0.130296\n",
              "min       -1.257885     -1.109977  ...     -1.292659     -1.397956\n",
              "25%       -0.823394     -0.470595  ...     -0.932659     -1.141003\n",
              "50%        1.017845     -0.283905  ...     -0.271800     -1.057723\n",
              "75%        1.281367     -0.029571  ...      0.032479     -0.981911\n",
              "max        1.838729      1.070167  ...      1.684497     -0.243291\n",
              "\n",
              "[8 rows x 54 columns]"
            ]
          },
          "metadata": {
            "tags": []
          },
          "execution_count": 12
        }
      ]
    },
    {
      "cell_type": "code",
      "metadata": {
        "id": "39HDZedJkutm",
        "colab_type": "code",
        "colab": {
          "base_uri": "https://localhost:8080/",
          "height": 297
        },
        "outputId": "33174154-e560-48f1-d031-7289ac2a810b"
      },
      "source": [
        "nn_target_pd.describe()"
      ],
      "execution_count": null,
      "outputs": [
        {
          "output_type": "execute_result",
          "data": {
            "text/html": [
              "<div>\n",
              "<style scoped>\n",
              "    .dataframe tbody tr th:only-of-type {\n",
              "        vertical-align: middle;\n",
              "    }\n",
              "\n",
              "    .dataframe tbody tr th {\n",
              "        vertical-align: top;\n",
              "    }\n",
              "\n",
              "    .dataframe thead th {\n",
              "        text-align: right;\n",
              "    }\n",
              "</style>\n",
              "<table border=\"1\" class=\"dataframe\">\n",
              "  <thead>\n",
              "    <tr style=\"text-align: right;\">\n",
              "      <th></th>\n",
              "      <th>0</th>\n",
              "    </tr>\n",
              "  </thead>\n",
              "  <tbody>\n",
              "    <tr>\n",
              "      <th>count</th>\n",
              "      <td>24415.000000</td>\n",
              "    </tr>\n",
              "    <tr>\n",
              "      <th>mean</th>\n",
              "      <td>0.945607</td>\n",
              "    </tr>\n",
              "    <tr>\n",
              "      <th>std</th>\n",
              "      <td>0.847265</td>\n",
              "    </tr>\n",
              "    <tr>\n",
              "      <th>min</th>\n",
              "      <td>0.000000</td>\n",
              "    </tr>\n",
              "    <tr>\n",
              "      <th>25%</th>\n",
              "      <td>0.000000</td>\n",
              "    </tr>\n",
              "    <tr>\n",
              "      <th>50%</th>\n",
              "      <td>1.000000</td>\n",
              "    </tr>\n",
              "    <tr>\n",
              "      <th>75%</th>\n",
              "      <td>2.000000</td>\n",
              "    </tr>\n",
              "    <tr>\n",
              "      <th>max</th>\n",
              "      <td>2.000000</td>\n",
              "    </tr>\n",
              "  </tbody>\n",
              "</table>\n",
              "</div>"
            ],
            "text/plain": [
              "                  0\n",
              "count  24415.000000\n",
              "mean       0.945607\n",
              "std        0.847265\n",
              "min        0.000000\n",
              "25%        0.000000\n",
              "50%        1.000000\n",
              "75%        2.000000\n",
              "max        2.000000"
            ]
          },
          "metadata": {
            "tags": []
          },
          "execution_count": 13
        }
      ]
    },
    {
      "cell_type": "markdown",
      "metadata": {
        "id": "HL5vrGUcdu7p",
        "colab_type": "text"
      },
      "source": [
        "Next, apply the data to the Models\n",
        "\n",
        "1.   Simple Sequential NN\n",
        "2.   LSTM\n",
        "\n"
      ]
    },
    {
      "cell_type": "code",
      "metadata": {
        "id": "-BwcrjJyxMOT",
        "colab_type": "code",
        "colab": {
          "base_uri": "https://localhost:8080/",
          "height": 68
        },
        "outputId": "b2ad563b-c884-426e-b205-ea794d5a361f"
      },
      "source": [
        "# Split the data into training and test sets\n",
        "twenty_percent_split = int(np.floor(len(nn_data_np) * 0.8))\n",
        "x_train_split = nn_data_np[0:twenty_percent_split]\n",
        "x_test_split = nn_data_np[twenty_percent_split:]\n",
        "y_train_split = nn_target_np[0:twenty_percent_split]\n",
        "y_test_split = nn_target_np[twenty_percent_split:]\n",
        "\n",
        "# Split the training set into train & validation\n",
        "twenty_percent_validate_split = int(np.floor(len(x_train_split) * 0.8))\n",
        "x_train = x_train_split[0:twenty_percent_validate_split]\n",
        "x_validate = x_train_split[twenty_percent_validate_split:]\n",
        "y_train = y_train_split[0:twenty_percent_validate_split]\n",
        "y_validate =  y_train_split[twenty_percent_validate_split:]\n",
        "\n",
        "print(\"x_train length is: \", len(x_train))\n",
        "print(\"x_validate length is: \", len(x_validate))\n",
        "print(\"x_test_split length is: \", len(x_test_split))"
      ],
      "execution_count": null,
      "outputs": [
        {
          "output_type": "stream",
          "text": [
            "x_train length is:  15624\n",
            "x_validate length is:  3906\n",
            "x_test_split length is:  4883\n"
          ],
          "name": "stdout"
        }
      ]
    },
    {
      "cell_type": "code",
      "metadata": {
        "id": "xs6tH_CEdzhH",
        "colab_type": "code",
        "colab": {
          "base_uri": "https://localhost:8080/",
          "height": 357
        },
        "outputId": "e4c34330-3f6e-4413-b0c0-004942c4418a"
      },
      "source": [
        "import tensorflow as tf\n",
        "from keras.models import Sequential\n",
        "from keras.layers import Dense, LSTM\n",
        "import tensorflow as tf\n",
        "from keras import backend as K\n",
        "import numpy as np\n",
        "import matplotlib.pyplot as plt\n",
        "\n",
        "# Build the model, compile it, and run the training\n",
        "snn_model = tf.keras.Sequential([\n",
        "    tf.keras.layers.Dense(50, activation='relu'),\n",
        "    tf.keras.layers.Dense(10, activation='relu'),\n",
        "    tf.keras.layers.Dense(3, activation='softmax')\n",
        "  ])\n",
        "\n",
        "snn_model.compile(optimizer='adam',\n",
        "              loss=\"sparse_categorical_crossentropy\",\n",
        "              metrics=['accuracy'])\n",
        "\n",
        "snn_history = snn_model.fit(x_train, y_train, epochs=10, batch_size=1, verbose=2, validation_data=(x_validate, y_validate))"
      ],
      "execution_count": null,
      "outputs": [
        {
          "output_type": "stream",
          "text": [
            "Epoch 1/10\n",
            "15624/15624 - 15s - loss: 1.0893 - accuracy: 0.3698 - val_loss: 1.0735 - val_accuracy: 0.4337\n",
            "Epoch 2/10\n",
            "15624/15624 - 15s - loss: 1.0834 - accuracy: 0.3721 - val_loss: 1.1047 - val_accuracy: 0.3241\n",
            "Epoch 3/10\n",
            "15624/15624 - 15s - loss: 1.0782 - accuracy: 0.3916 - val_loss: 1.1215 - val_accuracy: 0.3277\n",
            "Epoch 4/10\n",
            "15624/15624 - 15s - loss: 1.0747 - accuracy: 0.3999 - val_loss: 1.0985 - val_accuracy: 0.4283\n",
            "Epoch 5/10\n",
            "15624/15624 - 15s - loss: 1.0681 - accuracy: 0.4105 - val_loss: 1.1103 - val_accuracy: 0.3065\n",
            "Epoch 6/10\n",
            "15624/15624 - 15s - loss: 1.0660 - accuracy: 0.4126 - val_loss: 1.1083 - val_accuracy: 0.3733\n",
            "Epoch 7/10\n",
            "15624/15624 - 15s - loss: 1.0620 - accuracy: 0.4148 - val_loss: 1.1120 - val_accuracy: 0.4186\n",
            "Epoch 8/10\n",
            "15624/15624 - 15s - loss: 1.0596 - accuracy: 0.4215 - val_loss: 1.1072 - val_accuracy: 0.4283\n",
            "Epoch 9/10\n",
            "15624/15624 - 15s - loss: 1.0563 - accuracy: 0.4259 - val_loss: 1.1346 - val_accuracy: 0.3948\n",
            "Epoch 10/10\n",
            "15624/15624 - 15s - loss: 1.0549 - accuracy: 0.4268 - val_loss: 1.1580 - val_accuracy: 0.3515\n"
          ],
          "name": "stdout"
        }
      ]
    },
    {
      "cell_type": "code",
      "metadata": {
        "id": "64oAm1dF2sa-",
        "colab_type": "code",
        "colab": {}
      },
      "source": [
        "# Get the target predictions for the test set on the trained model\n",
        "predict_snn = snn_model.predict(x_test_split)"
      ],
      "execution_count": null,
      "outputs": []
    },
    {
      "cell_type": "code",
      "metadata": {
        "id": "gdzfXm332FLq",
        "colab_type": "code",
        "colab": {
          "base_uri": "https://localhost:8080/",
          "height": 88
        },
        "outputId": "972e4d4f-986f-4208-a164-b34235d2bbbe"
      },
      "source": [
        "# Round and print prediction array to see the results of our model's prediction ability\n",
        "rounded_predict = []\n",
        "correctness = [[0, 0], [0, 0, 0]]\n",
        "target_correctness = [[0, 0, 0], [0, 0, 0], [0, 0, 0]]\n",
        "for i in range(len(predict_snn)):\n",
        "  rounded = []\n",
        "  for j in range(len(predict_snn[i])):\n",
        "    rounded.append(round(predict_snn[i][j], 3))\n",
        "  \n",
        "  # check if the prediction was correct or not\n",
        "  if predict_snn[i][y_test_split[i]] == max(predict_snn[i]):\n",
        "    correctness[0][0] += 1\n",
        "    correctness[0][1] += predict_snn[i][y_test_split[i]]\n",
        "    target_correctness[y_test_split[i]][0] += 1\n",
        "  else:\n",
        "    correctness[1][0] += 1\n",
        "    correctness[1][1] += predict_snn[i][y_test_split[i]]\n",
        "    correctness[1][2] += max(predict_snn[i])\n",
        "    target_correctness[y_test_split[i]][1] += 1\n",
        "  rounded_predict.append(rounded)\n",
        "\n",
        "# compare actual score vs prediction for a subset of the array\n",
        "# for i in range(1,80):\n",
        "#   print(y_test_split[i], rounded_predict[i][y_test_split[i]])\n",
        "\n",
        "# Calculate the means for the predictions of correct and incorrect predictions\n",
        "correctness[0][1] = correctness[0][1] / correctness[0][0]\n",
        "correctness[1][1] = correctness[1][1] / correctness[1][0]\n",
        "correctness[1][2] = correctness[1][2] / correctness[1][0]\n",
        "percent_correct = correctness[0][0] / (correctness[0][0]+correctness[1][0])\n",
        "target_correctness[0][2] = target_correctness[0][0] / (target_correctness[0][0]+target_correctness[0][1])\n",
        "target_correctness[1][2] = target_correctness[1][0] / (target_correctness[1][0]+target_correctness[1][1])\n",
        "target_correctness[2][2] = target_correctness[2][0] / (target_correctness[2][0]+target_correctness[2][1])\n",
        "\n",
        "print(\"Results: \", correctness)\n",
        "print(\"Percentage Correct: \", percent_correct*100)\n",
        "print(\"Predictions per target value: \", target_correctness)\n",
        "# print((correctness[0][0]+correctness[1][0]), len(predict_snn))"
      ],
      "execution_count": null,
      "outputs": [
        {
          "output_type": "stream",
          "text": [
            "Results:  [[1644, 0.4578300443661474], [3239, 0.2764314154017414, 0.4553114518537018]]\n",
            "Percentage Correct:  0.3366782715543723\n",
            "Predictions per target value:  [[674, 1337, 0.3351566384883143], [80, 1366, 0.05532503457814661], [890, 536, 0.6241234221598878]]\n"
          ],
          "name": "stdout"
        }
      ]
    },
    {
      "cell_type": "code",
      "metadata": {
        "id": "KNWfXaG66PLt",
        "colab_type": "code",
        "colab": {
          "base_uri": "https://localhost:8080/",
          "height": 51
        },
        "outputId": "724308f6-6c3b-4a44-dcc4-fcc2dfdd40c7"
      },
      "source": [
        "# Print the max & min values for prediction of each confusion score\n",
        "prediction_max = [0,0,0]\n",
        "prediction_min = [1,1,1]\n",
        "for i in range(len(rounded_predict)):\n",
        "  for k in range(len(rounded_predict[i])):\n",
        "    if predict_snn[i][k] > prediction_max[k]:\n",
        "      prediction_max[k] = predict_snn[i][k]\n",
        "    if predict_snn[i][k] < prediction_min[k]:\n",
        "      prediction_min[k] = predict_snn[i][k]\n",
        "\n",
        "print(\"max probability predictions: \", prediction_max)\n",
        "print(\"min probability predictions: \", prediction_min)"
      ],
      "execution_count": null,
      "outputs": [
        {
          "output_type": "stream",
          "text": [
            "max probability predictions:  [0.9783473, 0.9998167, 0.45189232]\n",
            "min probability predictions:  [0.00018330505, 0.012382622, 4.1122195e-08]\n"
          ],
          "name": "stdout"
        }
      ]
    },
    {
      "cell_type": "code",
      "metadata": {
        "id": "nSw30-5-gPDK",
        "colab_type": "code",
        "colab": {
          "base_uri": "https://localhost:8080/",
          "height": 760
        },
        "outputId": "a77ab193-2f6e-4830-a6cf-342a08167e1c"
      },
      "source": [
        "## Visualize Results      source: https://machinelearningmastery.com/display-deep-learning-model-training-history-in-keras/\n",
        "\n",
        "# summarize snn_history for accuracy\n",
        "plt.plot(snn_history.history['accuracy'])\n",
        "plt.plot(snn_history.history['val_accuracy'])\n",
        "plt.title('snn_history Accuracy')\n",
        "plt.ylabel('accuracy')\n",
        "plt.xlabel('epoch')\n",
        "plt.legend(['train', 'test'], loc='upper left')\n",
        "plt.show()\n",
        "# summarize snn_history for loss\n",
        "plt.plot(snn_history.history['loss'])\n",
        "plt.plot(snn_history.history['val_loss'])\n",
        "plt.title('snn_history Loss')\n",
        "plt.ylabel('loss')\n",
        "plt.xlabel('epoch')\n",
        "plt.legend(['train', 'test'], loc='upper left')\n",
        "plt.show()\n",
        "\n",
        "history_pd = pd.DataFrame(snn_history.history)\n",
        "print(history_pd)"
      ],
      "execution_count": null,
      "outputs": [
        {
          "output_type": "display_data",
          "data": {
            "image/png": "[encoded data removed]",
            "text/plain": [
              "<Figure size 432x288 with 1 Axes>"
            ]
          },
          "metadata": {
            "tags": [],
            "needs_background": "light"
          }
        },
        {
          "output_type": "display_data",
          "data": {
            "image/png": "[encoded data removed]",
            "text/plain": [
              "<Figure size 432x288 with 1 Axes>"
            ]
          },
          "metadata": {
            "tags": [],
            "needs_background": "light"
          }
        },
        {
          "output_type": "stream",
          "text": [
            "       loss  accuracy  val_loss  val_accuracy\n",
            "0  1.088962  0.368664  1.093412      0.338710\n",
            "1  1.080204  0.392985  1.101664      0.307988\n",
            "2  1.076896  0.398810  1.098470      0.357655\n",
            "3  1.073148  0.407258  1.109270      0.381208\n",
            "4  1.072033  0.410522  1.097355      0.405786\n",
            "5  1.069111  0.413722  1.133505      0.308244\n",
            "6  1.067100  0.423195  1.103256      0.385049\n",
            "7  1.063622  0.427931  1.122090      0.399130\n",
            "8  1.062881  0.426843  1.145864      0.315668\n",
            "9  1.061724  0.425435  1.132510      0.396569\n"
          ],
          "name": "stdout"
        }
      ]
    },
    {
      "cell_type": "markdown",
      "metadata": {
        "id": "8OkaDbzojXyL",
        "colab_type": "text"
      },
      "source": [
        "**Create a 3D array with a constant step-size for the LSTM**"
      ]
    },
    {
      "cell_type": "code",
      "metadata": {
        "id": "_y-iAxaQjVKN",
        "colab_type": "code",
        "colab": {
          "base_uri": "https://localhost:8080/",
          "height": 34
        },
        "outputId": "90caa709-9c4b-4553-f637-e55ba2abcca2"
      },
      "source": [
        "import numpy as np\n",
        "\n",
        "number_of_features = 54\n",
        "window_size = 10\n",
        "window_size_array_x = []\n",
        "window_size_array_y = []\n",
        "index = 0\n",
        "while index <= len(nn_data):\n",
        "  if index+window_size > len(nn_data):\n",
        "    break\n",
        "  data_x = []\n",
        "  data_y = []\n",
        "  for i in range(index, index+window_size, 1):\n",
        "    data_x.append(tf.convert_to_tensor(nn_data[i][:number_of_features]))\n",
        "    data_y.append(tf.convert_to_tensor(nn_target_reduced[i]))\n",
        "  window_size_array_x.append(data_x)\n",
        "  window_size_array_y.append(data_y)\n",
        "  index += window_size\n",
        "\n",
        "print(\"done\")"
      ],
      "execution_count": null,
      "outputs": [
        {
          "output_type": "stream",
          "text": [
            "done\n"
          ],
          "name": "stdout"
        }
      ]
    },
    {
      "cell_type": "markdown",
      "metadata": {
        "id": "yjg_Klok4z4q",
        "colab_type": "text"
      },
      "source": [
        "### Train Model"
      ]
    },
    {
      "cell_type": "code",
      "metadata": {
        "id": "7lsiXSv341Iz",
        "colab_type": "code",
        "colab": {
          "base_uri": "https://localhost:8080/",
          "height": 170
        },
        "outputId": "16be5417-214a-4456-95c2-4643b88f94f5"
      },
      "source": [
        "## THIS CELL TAKES QUITE A WHILE TO PROCESS (just a heads up)\n",
        "\n",
        "# Split the data into training and test sets\n",
        "twenty_percent_split = int(np.floor(len(window_size_array_x) * 0.8))\n",
        "x_train_split = window_size_array_x[0:twenty_percent_split]\n",
        "x_test_split = window_size_array_x[twenty_percent_split:]\n",
        "y_train_split = window_size_array_y[0:twenty_percent_split]\n",
        "y_test_split = window_size_array_y[twenty_percent_split:]\n",
        "\n",
        "# Split Train set into train & validation\n",
        "twenty_percent_validate_split = int(np.floor(len(x_train_split) * 0.8))\n",
        "x_train_temp = x_train_split[0:twenty_percent_validate_split]\n",
        "x_validate = x_train_split[twenty_percent_validate_split:]\n",
        "y_train_temp = y_train_split[0:twenty_percent_validate_split]\n",
        "y_validate =  y_train_split[twenty_percent_validate_split:]\n",
        "print(\"arrays have been split\")\n",
        "\n",
        "# Convert the arrays into npArrays\n",
        "x_train_lstm = np.asarray(x_train_temp)\n",
        "print(\"x_train_temp has been converted to np\")\n",
        "x_validate_lstm = np.asarray(x_validate)\n",
        "print(\"x_validate has been converted to np\")\n",
        "x_test_lstm = np.asarray(x_test_split)\n",
        "print(\"x_test1 has been converted to np\")\n",
        "y_train_lstm = np.asarray(y_train_temp)\n",
        "print(\"y_train_temp has been converted to np\")\n",
        "y_validate_lstm = np.asarray(y_validate)\n",
        "print(\"y_validate has been converted to np\")\n",
        "y_test_lstm = np.asarray(y_test_split)\n",
        "print(\"y_test1 has been converted to np\")\n",
        "\n",
        "print(\"x_train_lstm shape is: \", x_train_lstm.shape)\n",
        "print(\"x_validate_lstm shape is: \", x_validate_lstm.shape)"
      ],
      "execution_count": null,
      "outputs": [
        {
          "output_type": "stream",
          "text": [
            "arrays have been split\n",
            "x_train_temp has been converted to np\n",
            "x_validate has been converted to np\n",
            "x_test1 has been converted to np\n",
            "y_train_temp has been converted to np\n",
            "y_validate has been converted to np\n",
            "y_test1 has been converted to np\n",
            "x_train_lstm shape is:  (1561, 10, 54)\n",
            "x_validate_lstm shape is:  (391, 10, 54)\n"
          ],
          "name": "stdout"
        }
      ]
    },
    {
      "cell_type": "code",
      "metadata": {
        "id": "dM3za1ER24Ku",
        "colab_type": "code",
        "colab": {
          "base_uri": "https://localhost:8080/",
          "height": 391
        },
        "outputId": "b4275033-68ca-4643-e30e-b1000399a514"
      },
      "source": [
        "import tensorflow as tf\n",
        "from keras.models import Sequential\n",
        "from keras.layers import Dense, LSTM\n",
        "import tensorflow as tf\n",
        "from keras import backend as K\n",
        "import numpy as np\n",
        "import matplotlib.pyplot as plt\n",
        "\n",
        "# We could potentially use EarlyStopping to limit required amount of epochs with: ,callbacks = [early_stopping]\n",
        "from keras.callbacks import EarlyStopping\n",
        "early_stopping = EarlyStopping(monitor='val_loss', patience=4, mode='auto')\n",
        "\n",
        "# As a general rule-of-thumb, the number of hidden layers should roughly equal Ns / (alpha*(Ni+No))\n",
        "hidden_nodes = int(len(x_train_lstm) / (6 * (54+3)))\n",
        "print(\"number of hidden nodes: \", hidden_nodes)\n",
        "\n",
        "simple_lstm_model = tf.keras.models.Sequential([\n",
        "    # Shape [batch, time, features] => [batch, time, lstm_units]\n",
        "    tf.keras.layers.LSTM(hidden_nodes, return_sequences=True),\n",
        "    tf.keras.layers.Dense(3, activation='softmax')\n",
        "])\n",
        "\n",
        "simple_lstm_model.compile(optimizer='adam',\n",
        "              loss=\"sparse_categorical_crossentropy\",\n",
        "              metrics=['accuracy'])\n",
        "\n",
        "simple_lstm_history = simple_lstm_model.fit(x_train_lstm, y_train_lstm, \n",
        "               batch_size=window_size, epochs=10, verbose=2,\n",
        "               callbacks=[early_stopping],\n",
        "               validation_data=(x_validate_lstm, y_validate_lstm))\n",
        "\n",
        "print(\"done\")"
      ],
      "execution_count": null,
      "outputs": [
        {
          "output_type": "stream",
          "text": [
            "number of hidden nodes:  4\n",
            "Epoch 1/10\n",
            "157/157 - 1s - loss: 1.1026 - accuracy: 0.3494 - val_loss: 1.0861 - val_accuracy: 0.3693\n",
            "Epoch 2/10\n",
            "157/157 - 1s - loss: 1.0876 - accuracy: 0.3883 - val_loss: 1.0862 - val_accuracy: 0.4023\n",
            "Epoch 3/10\n",
            "157/157 - 1s - loss: 1.0846 - accuracy: 0.3950 - val_loss: 1.0829 - val_accuracy: 0.4171\n",
            "Epoch 4/10\n",
            "157/157 - 1s - loss: 1.0821 - accuracy: 0.4031 - val_loss: 1.0867 - val_accuracy: 0.3770\n",
            "Epoch 5/10\n",
            "157/157 - 1s - loss: 1.0810 - accuracy: 0.4059 - val_loss: 1.0888 - val_accuracy: 0.3749\n",
            "Epoch 6/10\n",
            "157/157 - 1s - loss: 1.0796 - accuracy: 0.3995 - val_loss: 1.0811 - val_accuracy: 0.4315\n",
            "Epoch 7/10\n",
            "157/157 - 1s - loss: 1.0775 - accuracy: 0.4060 - val_loss: 1.0811 - val_accuracy: 0.4161\n",
            "Epoch 8/10\n",
            "157/157 - 1s - loss: 1.0763 - accuracy: 0.4099 - val_loss: 1.0892 - val_accuracy: 0.3696\n",
            "Epoch 9/10\n",
            "157/157 - 1s - loss: 1.0744 - accuracy: 0.4076 - val_loss: 1.0849 - val_accuracy: 0.3977\n",
            "Epoch 10/10\n",
            "157/157 - 1s - loss: 1.0741 - accuracy: 0.4106 - val_loss: 1.0858 - val_accuracy: 0.3867\n",
            "done\n"
          ],
          "name": "stdout"
        }
      ]
    },
    {
      "cell_type": "code",
      "metadata": {
        "id": "ZvKKlLDHUyFa",
        "colab_type": "code",
        "colab": {
          "base_uri": "https://localhost:8080/",
          "height": 374
        },
        "outputId": "fe71b73c-4be5-439c-a054-7d98ccb779e8"
      },
      "source": [
        "complex_lstm_model = tf.keras.models.Sequential([\n",
        "    # Shape [batch, time, features] => [batch, time, lstm_units]\n",
        "    tf.keras.layers.LSTM(hidden_nodes, return_sequences=True),\n",
        "    tf.keras.layers.Dropout(0.2),\n",
        "    tf.keras.layers.LSTM(hidden_nodes, return_sequences=True),\n",
        "    tf.keras.layers.Dropout(0.2),\n",
        "    tf.keras.layers.LSTM(hidden_nodes, return_sequences=True),\n",
        "    tf.keras.layers.Dropout(0.2),\n",
        "    tf.keras.layers.Dense(3, activation='softmax')\n",
        "])\n",
        "\n",
        "complex_lstm_model.compile(optimizer='adam',\n",
        "              loss=\"sparse_categorical_crossentropy\",\n",
        "              metrics=['accuracy'])\n",
        "\n",
        "complex_lstm_history = complex_lstm_model.fit(x_train_lstm, y_train_lstm, \n",
        "               batch_size=window_size, epochs=10, verbose=2,\n",
        "               callbacks=[early_stopping],\n",
        "               validation_data=(x_validate_lstm, y_validate_lstm))\n",
        "\n",
        "print(\"done\")"
      ],
      "execution_count": null,
      "outputs": [
        {
          "output_type": "stream",
          "text": [
            "Epoch 1/10\n",
            "157/157 - 3s - loss: 1.0950 - accuracy: 0.3619 - val_loss: 1.0856 - val_accuracy: 0.4054\n",
            "Epoch 2/10\n",
            "157/157 - 1s - loss: 1.0906 - accuracy: 0.3690 - val_loss: 1.0867 - val_accuracy: 0.4102\n",
            "Epoch 3/10\n",
            "157/157 - 1s - loss: 1.0888 - accuracy: 0.3801 - val_loss: 1.0828 - val_accuracy: 0.3936\n",
            "Epoch 4/10\n",
            "157/157 - 1s - loss: 1.0885 - accuracy: 0.3851 - val_loss: 1.0840 - val_accuracy: 0.3949\n",
            "Epoch 5/10\n",
            "157/157 - 1s - loss: 1.0851 - accuracy: 0.3956 - val_loss: 1.0791 - val_accuracy: 0.4217\n",
            "Epoch 6/10\n",
            "157/157 - 2s - loss: 1.0867 - accuracy: 0.3931 - val_loss: 1.0872 - val_accuracy: 0.3675\n",
            "Epoch 7/10\n",
            "157/157 - 2s - loss: 1.0836 - accuracy: 0.3994 - val_loss: 1.0778 - val_accuracy: 0.4286\n",
            "Epoch 8/10\n",
            "157/157 - 1s - loss: 1.0827 - accuracy: 0.4003 - val_loss: 1.0813 - val_accuracy: 0.4292\n",
            "Epoch 9/10\n",
            "157/157 - 2s - loss: 1.0826 - accuracy: 0.3979 - val_loss: 1.0792 - val_accuracy: 0.4251\n",
            "Epoch 10/10\n",
            "157/157 - 2s - loss: 1.0826 - accuracy: 0.4009 - val_loss: 1.0814 - val_accuracy: 0.4176\n",
            "done\n"
          ],
          "name": "stdout"
        }
      ]
    },
    {
      "cell_type": "code",
      "metadata": {
        "id": "XHUF125l_IZp",
        "colab_type": "code",
        "colab": {}
      },
      "source": [
        "# Get the target predictions for the test set on the trained model\n",
        "predict_simple_lstm = simple_lstm_model.predict(x_test_lstm)\n",
        "predict_complex_lstm = complex_lstm_model.predict(x_test_lstm)"
      ],
      "execution_count": null,
      "outputs": []
    },
    {
      "cell_type": "code",
      "metadata": {
        "id": "GrFp8qeY_Jrm",
        "colab_type": "code",
        "colab": {
          "base_uri": "https://localhost:8080/",
          "height": 88
        },
        "outputId": "7869310b-6b49-47b5-8d86-218e5bc33943"
      },
      "source": [
        "# Round and print prediction array to see the results of our model's prediction ability\n",
        "rounded_predict = []\n",
        "correctness = [[0, 0], [0, 0, 0]]\n",
        "target_correctness = [[0, 0, 0], [0, 0, 0], [0, 0, 0]]\n",
        "for i in range(len(predict_simple_lstm)):\n",
        "  rounded = []\n",
        "  for j in range(len(predict_simple_lstm[i])):\n",
        "    rounded_array = []\n",
        "    for k in range(len(predict_simple_lstm[i][j])):\n",
        "      rounded_array.append(round(predict_simple_lstm[i][j][k], 3))\n",
        "    \n",
        "    # check if the prediction was correct or not\n",
        "    if predict_simple_lstm[i][j][y_test_lstm[i][j]] == max(predict_simple_lstm[i][j]):\n",
        "      correctness[0][0] += 1\n",
        "      correctness[0][1] += predict_simple_lstm[i][j][y_test_lstm[i][j]]\n",
        "      target_correctness[y_test_lstm[i][j]][0] += 1\n",
        "    else:\n",
        "      correctness[1][0] += 1\n",
        "      correctness[1][1] += predict_simple_lstm[i][j][y_test_lstm[i][j]]\n",
        "      correctness[1][2] += max(predict_simple_lstm[i][j])\n",
        "      target_correctness[y_test_lstm[i][j]][1] += 1\n",
        "    rounded.append(rounded_array)\n",
        "  rounded_predict.append(rounded)\n",
        "\n",
        "# Compare actual score vs prediction for a subset of the array\n",
        "# for j in range(1,20):\n",
        "#   for i in range(window_size):\n",
        "#     print(y_test_lstm[j][i], rounded_predict[j][i][y_test_lstm[j][i]])\n",
        "\n",
        "# Calculate the means for the predictions of correct and incorrect predictions\n",
        "correctness[0][1] = correctness[0][1] / correctness[0][0]\n",
        "correctness[1][1] = correctness[1][1] / correctness[1][0]\n",
        "correctness[1][2] = correctness[1][2] / correctness[1][0]\n",
        "percent_correct = correctness[0][0] / (correctness[0][0]+correctness[1][0])\n",
        "target_correctness[0][2] = target_correctness[0][0] / (target_correctness[0][0]+target_correctness[0][1])\n",
        "target_correctness[1][2] = target_correctness[1][0] / (target_correctness[1][0]+target_correctness[1][1])\n",
        "target_correctness[2][2] = target_correctness[2][0] / (target_correctness[2][0]+target_correctness[2][1])\n",
        "\n",
        "print(\"sLSTM Results: \", correctness)\n",
        "print(\"Percentage Correct: \", percent_correct*100)\n",
        "print(\"Predictions per target value: \", target_correctness)\n",
        "# print((correctness[0][0]+correctness[1][0]), len(predict_simple_lstm)*window_size)"
      ],
      "execution_count": null,
      "outputs": [
        {
          "output_type": "stream",
          "text": [
            "sLSTM Results:  [[1721, 0.4064293418389154], [3169, 0.2991232518829657, 0.4004506073414847]]\n",
            "Percentage Correct:  35.194274028629856\n",
            "Predictions per target value:  [[1106, 911, 0.5483391175012394], [120, 1327, 0.082930200414651], [495, 931, 0.34712482468443195]]\n"
          ],
          "name": "stdout"
        }
      ]
    },
    {
      "cell_type": "code",
      "metadata": {
        "id": "x0kpYmtCqNLu",
        "colab_type": "code",
        "colab": {
          "base_uri": "https://localhost:8080/",
          "height": 88
        },
        "outputId": "a8d6928a-d79e-4467-fe77-1d4da32c536c"
      },
      "source": [
        "# Round and print prediction array to see the results of our model's prediction ability\n",
        "rounded_predict = []\n",
        "correctness = [[0, 0], [0, 0, 0]]\n",
        "target_correctness = [[0, 0, 0], [0, 0, 0], [0, 0, 0]]\n",
        "for i in range(len(predict_complex_lstm)):\n",
        "  rounded = []\n",
        "  for j in range(len(predict_complex_lstm[i])):\n",
        "    rounded_array = []\n",
        "    for k in range(len(predict_complex_lstm[i][j])):\n",
        "      rounded_array.append(round(predict_complex_lstm[i][j][k], 3))\n",
        "      # check if the prediction was correct or not\n",
        "    if predict_complex_lstm[i][j][y_test_lstm[i][j]] == max(predict_complex_lstm[i][j]):\n",
        "      correctness[0][0] += 1\n",
        "      correctness[0][1] += predict_complex_lstm[i][j][y_test_lstm[i][j]]\n",
        "      target_correctness[y_test_lstm[i][j]][0] += 1\n",
        "    else:\n",
        "      correctness[1][0] += 1\n",
        "      correctness[1][1] += predict_complex_lstm[i][j][y_test_lstm[i][j]]\n",
        "      correctness[1][2] += max(predict_complex_lstm[i][j])\n",
        "      target_correctness[y_test_lstm[i][j]][1] += 1\n",
        "    rounded.append(rounded_array)\n",
        "  rounded_predict.append(rounded)\n",
        "\n",
        "# Compare actual score vs prediction for a subset of the array\n",
        "# for j in range(1,20):\n",
        "#   for i in range(window_size):\n",
        "#     print(y_test_lstm[j][i], rounded_predict[j][i][y_test_lstm[j][i]])\n",
        "\n",
        "# Calculate the means for the predictions of correct and incorrect predictions\n",
        "correctness[0][1] = correctness[0][1] / correctness[0][0]\n",
        "correctness[1][1] = correctness[1][1] / correctness[1][0]\n",
        "correctness[1][2] = correctness[1][2] / correctness[1][0]\n",
        "percent_correct = correctness[0][0] / (correctness[0][0]+correctness[1][0])\n",
        "target_correctness[0][2] = target_correctness[0][0] / (target_correctness[0][0]+target_correctness[0][1])\n",
        "target_correctness[1][2] = target_correctness[1][0] / (target_correctness[1][0]+target_correctness[1][1])\n",
        "target_correctness[2][2] = target_correctness[2][0] / (target_correctness[2][0]+target_correctness[2][1])\n",
        "\n",
        "print(\"cLSTM Results: \", correctness)\n",
        "print(\"Percentage Correct: \", percent_correct*100)\n",
        "print(\"Predictions per target value: \", target_correctness)\n",
        "# print((correctness[0][0]+correctness[1][0]), len(predict_simple_lstm)*window_size)"
      ],
      "execution_count": null,
      "outputs": [
        {
          "output_type": "stream",
          "text": [
            "cLSTM Results:  [[1813, 0.3980958371516163], [3077, 0.3027777926300809, 0.39348591627298257]]\n",
            "Percentage Correct:  37.07566462167689\n",
            "Predictions per target value:  [[1531, 486, 0.7590480912245909], [13, 1434, 0.008984105044920525], [269, 1157, 0.18863955119214587]]\n"
          ],
          "name": "stdout"
        }
      ]
    },
    {
      "cell_type": "code",
      "metadata": {
        "id": "uuHUfRMhBUIt",
        "colab_type": "code",
        "colab": {
          "base_uri": "https://localhost:8080/",
          "height": 51
        },
        "outputId": "447ac7b7-e7ee-43c2-e61a-c93b90bad998"
      },
      "source": [
        "# Print the max & min values for prediction of each confusion score\n",
        "prediction_max = [0,0,0]\n",
        "prediction_min = [1,1,1]\n",
        "for i in range(len(rounded_predict)):\n",
        "  for j in range(len(rounded_predict[i])):\n",
        "    for k in range(len(rounded_predict[i][j])):\n",
        "      if predict_simple_lstm[i][j][k] > prediction_max[k]:\n",
        "        prediction_max[k] = predict_simple_lstm[i][j][k]\n",
        "      if predict_simple_lstm[i][j][k] < prediction_min[k]:\n",
        "        prediction_min[k] = predict_simple_lstm[i][j][k]\n",
        "\n",
        "print(\"max probability predictions: \", prediction_max)\n",
        "print(\"min probability predictions: \", prediction_min)"
      ],
      "execution_count": null,
      "outputs": [
        {
          "output_type": "stream",
          "text": [
            "max probability predictions:  [0.61199534, 0.4020795, 0.35933423]\n",
            "min probability predictions:  [0.25672084, 0.10662991, 0.28133103]\n"
          ],
          "name": "stdout"
        }
      ]
    },
    {
      "cell_type": "code",
      "metadata": {
        "id": "iSiKH-DPqpCh",
        "colab_type": "code",
        "colab": {
          "base_uri": "https://localhost:8080/",
          "height": 51
        },
        "outputId": "3c48ffe6-ee45-4160-c5d2-7ad9bdc26f16"
      },
      "source": [
        "# Print the max & min values for prediction of each confusion score\n",
        "prediction_max = [0,0,0]\n",
        "prediction_min = [1,1,1]\n",
        "for i in range(len(rounded_predict)):\n",
        "  for j in range(len(rounded_predict[i])):\n",
        "    for k in range(len(rounded_predict[i][j])):\n",
        "      if predict_complex_lstm[i][j][k] > prediction_max[k]:\n",
        "        prediction_max[k] = predict_complex_lstm[i][j][k]\n",
        "      if predict_complex_lstm[i][j][k] < prediction_min[k]:\n",
        "        prediction_min[k] = predict_complex_lstm[i][j][k]\n",
        "\n",
        "print(\"max probability predictions: \", prediction_max)\n",
        "print(\"min probability predictions: \", prediction_min)"
      ],
      "execution_count": null,
      "outputs": [
        {
          "output_type": "stream",
          "text": [
            "max probability predictions:  [0.5317115, 0.35338846, 0.35167396]\n",
            "min probability predictions:  [0.3007093, 0.14419152, 0.324097]\n"
          ],
          "name": "stdout"
        }
      ]
    },
    {
      "cell_type": "code",
      "metadata": {
        "id": "ymVltw92YwXo",
        "colab_type": "code",
        "colab": {
          "base_uri": "https://localhost:8080/",
          "height": 692
        },
        "outputId": "1a651cce-2f94-43c0-bc03-dfb03bc6e22c"
      },
      "source": [
        "## Visualize Results      source: https://machinelearningmastery.com/display-deep-learning-model-training-history-in-keras/\n",
        "\n",
        "# summarize lstm_history for accuracy\n",
        "plt.plot(simple_lstm_history.history['accuracy'])\n",
        "plt.plot(simple_lstm_history.history['val_accuracy'])\n",
        "plt.title('lstm_history Accuracy')\n",
        "plt.ylabel('accuracy')\n",
        "plt.xlabel('epoch')\n",
        "plt.legend(['train', 'test'], loc='upper left')\n",
        "plt.show()\n",
        "# summarize lstm_history for loss\n",
        "plt.plot(simple_lstm_history.history['loss'])\n",
        "plt.plot(simple_lstm_history.history['val_loss'])\n",
        "plt.title('lstm_history Loss')\n",
        "plt.ylabel('loss')\n",
        "plt.xlabel('epoch')\n",
        "plt.legend(['train', 'test'], loc='upper left')\n",
        "plt.show()\n",
        "\n",
        "history_pd = pd.DataFrame(simple_lstm_history.history)\n",
        "print(history_pd)\n"
      ],
      "execution_count": null,
      "outputs": [
        {
          "output_type": "display_data",
          "data": {
            "image/png": "[encoded data removed]",
            "text/plain": [
              "<Figure size 432x288 with 1 Axes>"
            ]
          },
          "metadata": {
            "tags": [],
            "needs_background": "light"
          }
        },
        {
          "output_type": "display_data",
          "data": {
            "image/png": "[encoded data removed]",
            "text/plain": [
              "<Figure size 432x288 with 1 Axes>"
            ]
          },
          "metadata": {
            "tags": [],
            "needs_background": "light"
          }
        },
        {
          "output_type": "stream",
          "text": [
            "       loss  accuracy  val_loss  val_accuracy\n",
            "0  1.093310  0.366795  1.084253      0.408929\n",
            "1  1.089255  0.370320  1.081921      0.429847\n",
            "2  1.087913  0.378269  1.081932      0.422704\n",
            "3  1.086447  0.384551  1.083046      0.413010\n",
            "4  1.085858  0.379038  1.083419      0.403061\n",
            "5  1.084620  0.379295  1.085297      0.381633\n"
          ],
          "name": "stdout"
        }
      ]
    },
    {
      "cell_type": "code",
      "metadata": {
        "id": "bfrdELOOrdOB",
        "colab_type": "code",
        "colab": {
          "base_uri": "https://localhost:8080/",
          "height": 760
        },
        "outputId": "7d8f6105-65a3-4c66-9074-ca704c5e04a6"
      },
      "source": [
        "## Visualize Results      source: https://machinelearningmastery.com/display-deep-learning-model-training-history-in-keras/\n",
        "\n",
        "# summarize lstm_history for accuracy\n",
        "plt.plot(complex_lstm_history.history['accuracy'])\n",
        "plt.plot(complex_lstm_history.history['val_accuracy'])\n",
        "plt.title('lstm_history Accuracy')\n",
        "plt.ylabel('accuracy')\n",
        "plt.xlabel('epoch')\n",
        "plt.legend(['train', 'test'], loc='upper left')\n",
        "plt.show()\n",
        "# summarize lstm_history for loss\n",
        "plt.plot(complex_lstm_history.history['loss'])\n",
        "plt.plot(complex_lstm_history.history['val_loss'])\n",
        "plt.title('lstm_history Loss')\n",
        "plt.ylabel('loss')\n",
        "plt.xlabel('epoch')\n",
        "plt.legend(['train', 'test'], loc='upper left')\n",
        "plt.show()\n",
        "\n",
        "history_pd = pd.DataFrame(complex_lstm_history.history)\n",
        "print(history_pd)\n"
      ],
      "execution_count": null,
      "outputs": [
        {
          "output_type": "display_data",
          "data": {
            "image/png": "[encoded data removed]",
            "text/plain": [
              "<Figure size 432x288 with 1 Axes>"
            ]
          },
          "metadata": {
            "tags": [],
            "needs_background": "light"
          }
        },
        {
          "output_type": "display_data",
          "data": {
            "image/png": "[encoded data removed]",
            "text/plain": [
              "<Figure size 432x288 with 1 Axes>"
            ]
          },
          "metadata": {
            "tags": [],
            "needs_background": "light"
          }
        },
        {
          "output_type": "stream",
          "text": [
            "       loss  accuracy  val_loss  val_accuracy\n",
            "0  1.094386  0.358654  1.091672      0.407143\n",
            "1  1.093160  0.360256  1.091274      0.403571\n",
            "2  1.089627  0.361282  1.087542      0.423469\n",
            "3  1.089987  0.364487  1.088484      0.408673\n",
            "4  1.089185  0.368077  1.087897      0.404847\n",
            "5  1.088675  0.361923  1.087511      0.413010\n",
            "6  1.087734  0.366410  1.085354      0.428827\n",
            "7  1.087775  0.369679  1.087177      0.409694\n",
            "8  1.086729  0.366667  1.087046      0.417602\n",
            "9  1.085828  0.372692  1.084120      0.429082\n"
          ],
          "name": "stdout"
        }
      ]
    },
    {
      "cell_type": "markdown",
      "metadata": {
        "id": "jsYRAU0LEPnY",
        "colab_type": "text"
      },
      "source": [
        "## Resources\n",
        "### Educational\n",
        "* [DeepMind deep learning lectures](https://www.youtube.com/playlist?list=PLqYmG7hTraZCDxZ44o4p3N5Anz3lLRVZF)\n",
        "### Annotation tools\n",
        "* [List of open source solutions](https://www.simonwenkel.com/2019/07/19/list-of-annotation-tools-for-machine-learning-research.html)\n",
        "* [opencv/cvat](https://github.com/opencv/cvat)\n",
        "* [alexandre01/UltimateLabeling](https://github.com/alexandre01/UltimateLabeling)\n",
        "### Existing trained models\n",
        "* [onnx/models](https://github.com/onnx/models)"
      ]
    }
  ]
}